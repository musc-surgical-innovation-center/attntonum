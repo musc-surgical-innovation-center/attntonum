{
 "cells": [
  {
   "cell_type": "markdown",
   "id": "0173016c-7cdb-4265-8d65-248e238c9a9b",
   "metadata": {
    "tags": []
   },
   "source": [
    "# Imports"
   ]
  },
  {
   "cell_type": "code",
   "execution_count": 1,
   "id": "ceab7348-0f9e-4b26-b337-7ed8560e98dd",
   "metadata": {
    "tags": []
   },
   "outputs": [],
   "source": [
    "import enum\n",
    "from importlib import reload\n",
    "from itertools import permutations\n",
    "import re\n",
    "from typing import Literal"
   ]
  },
  {
   "cell_type": "code",
   "execution_count": 2,
   "id": "4f844376-9af5-4cea-a592-9d111e639df5",
   "metadata": {
    "tags": []
   },
   "outputs": [],
   "source": [
    "import nltk\n",
    "import numpy as np\n",
    "import pandas as pd\n",
    "import seaborn.objects as so\n",
    "from sklearn.metrics import roc_auc_score\n",
    "from sklearn.model_selection import train_test_split\n",
    "import time\n",
    "from toolz import pipe as p\n",
    "import torch\n",
    "from torch.utils.data import DataLoader\n",
    "import tqdm"
   ]
  },
  {
   "cell_type": "code",
   "execution_count": 3,
   "id": "9f39ff8e-07f3-4a90-8951-02fb826befb2",
   "metadata": {
    "tags": []
   },
   "outputs": [],
   "source": [
    "import datasets as ds\n",
    "import experiment_utils as eu\n",
    "import hyperparam_config as config\n",
    "import text_cleaners\n",
    "import text_cnn as cnn\n",
    "import text_utils as tu\n",
    "import vocabs as v"
   ]
  },
  {
   "cell_type": "markdown",
   "id": "c2610f0b-6477-40b2-9f1f-6f6ec3a47f09",
   "metadata": {},
   "source": [
    "# Simulate Data"
   ]
  },
  {
   "cell_type": "code",
   "execution_count": 4,
   "id": "eef6ef9f-4827-4fd9-b4a6-71ad734fdfe3",
   "metadata": {
    "tags": []
   },
   "outputs": [],
   "source": [
    "def gutenberg_fn(author:str, book:str):\n",
    "    return lambda fn: getattr(nltk.corpus.gutenberg, fn)(f'{author}-{book}.txt')\n",
    "\n",
    "caesar, macbeth, hamlet = [gutenberg_fn('shakespeare', _) for _ in ['caesar', 'macbeth', 'hamlet']]"
   ]
  },
  {
   "cell_type": "code",
   "execution_count": 5,
   "id": "854d52c8-2310-4ebb-9cf2-7a942e5485a0",
   "metadata": {
    "tags": []
   },
   "outputs": [],
   "source": [
    "seq_len = 35"
   ]
  },
  {
   "cell_type": "code",
   "execution_count": 6,
   "id": "6c61d953-ef33-4374-9ee6-c8dfed5d4efe",
   "metadata": {
    "tags": []
   },
   "outputs": [],
   "source": [
    "caesar_start_ixs = list(range(0, len(caesar('words')), seq_len))\n",
    "hamlet_start_ixs = list(range(0, len(hamlet('words')), seq_len))"
   ]
  },
  {
   "cell_type": "code",
   "execution_count": 7,
   "id": "2ee94489-737a-4960-9617-66a612094ae7",
   "metadata": {
    "tags": []
   },
   "outputs": [
    {
     "data": {
      "text/plain": [
       "(739, 1068)"
      ]
     },
     "execution_count": 7,
     "metadata": {},
     "output_type": "execute_result"
    }
   ],
   "source": [
    "len(caesar_start_ixs), len(hamlet_start_ixs)"
   ]
  },
  {
   "cell_type": "code",
   "execution_count": 8,
   "id": "f3bcfb24-299b-4ae2-b46a-9c7e3e959c50",
   "metadata": {
    "tags": []
   },
   "outputs": [],
   "source": [
    "shakespeare = (\n",
    "    pd.concat(\n",
    "        [\n",
    "            (\n",
    "                pd.DataFrame(\n",
    "                    [\n",
    "                     ' '.join(gutenberg_fn('shakespeare', book)('words')[s_ix:s_ix+seq_len])\n",
    "                        for s_ix in start_ixs\n",
    "                    ],\n",
    "                    columns = ['sentence']\n",
    "            )\n",
    "            .assign(\n",
    "                book = book,\n",
    "            )\n",
    "            ) for book, start_ixs in [('caesar', caesar_start_ixs), ('hamlet', hamlet_start_ixs)]\n",
    "        ], axis = 0\n",
    "    )\n",
    "    .assign(\n",
    "        clean_txt = lambda df: df.sentence.map(text_cleaners.cleanTxt)\n",
    "    )\n",
    "    .assign(\n",
    "        n_words = lambda df: df.sentence.map(lambda s: len(s.split()))\n",
    "    )\n",
    "    .query('n_words >= 10')\n",
    ")"
   ]
  },
  {
   "cell_type": "code",
   "execution_count": 9,
   "id": "3ddeca20-2d8e-45bd-b780-24510aa06054",
   "metadata": {
    "tags": []
   },
   "outputs": [
    {
     "data": {
      "text/html": [
       "<div>\n",
       "<style scoped>\n",
       "    .dataframe tbody tr th:only-of-type {\n",
       "        vertical-align: middle;\n",
       "    }\n",
       "\n",
       "    .dataframe tbody tr th {\n",
       "        vertical-align: top;\n",
       "    }\n",
       "\n",
       "    .dataframe thead th {\n",
       "        text-align: right;\n",
       "    }\n",
       "</style>\n",
       "<table border=\"1\" class=\"dataframe\">\n",
       "  <thead>\n",
       "    <tr style=\"text-align: right;\">\n",
       "      <th></th>\n",
       "      <th>sentence</th>\n",
       "      <th>book</th>\n",
       "      <th>clean_txt</th>\n",
       "      <th>n_words</th>\n",
       "    </tr>\n",
       "  </thead>\n",
       "  <tbody>\n",
       "    <tr>\n",
       "      <th>0</th>\n",
       "      <td>[ The Tragedie of Julius Caesar by William Sha...</td>\n",
       "      <td>caesar</td>\n",
       "      <td>the tragedie of julius caesar by william shake...</td>\n",
       "      <td>35</td>\n",
       "    </tr>\n",
       "    <tr>\n",
       "      <th>1</th>\n",
       "      <td>idle Creatures , get you home : Is this a Holi...</td>\n",
       "      <td>caesar</td>\n",
       "      <td>idle creatures get you home is this a holiday ...</td>\n",
       "      <td>35</td>\n",
       "    </tr>\n",
       "    <tr>\n",
       "      <th>2</th>\n",
       "      <td>Profession ? Speake , what Trade art thou ? Ca...</td>\n",
       "      <td>caesar</td>\n",
       "      <td>profession speake what trade art thou car &lt;/s&gt;...</td>\n",
       "      <td>35</td>\n",
       "    </tr>\n",
       "    <tr>\n",
       "      <th>3</th>\n",
       "      <td>on ? You sir , what Trade are you ? Cobl . Tru...</td>\n",
       "      <td>caesar</td>\n",
       "      <td>on you sir what trade are you cobl &lt;/s&gt; truely...</td>\n",
       "      <td>35</td>\n",
       "    </tr>\n",
       "    <tr>\n",
       "      <th>4</th>\n",
       "      <td>what Trade art thou ? Answer me directly Cob ....</td>\n",
       "      <td>caesar</td>\n",
       "      <td>what trade art thou answer me directly cob &lt;/s...</td>\n",
       "      <td>35</td>\n",
       "    </tr>\n",
       "  </tbody>\n",
       "</table>\n",
       "</div>"
      ],
      "text/plain": [
       "                                            sentence    book  \\\n",
       "0  [ The Tragedie of Julius Caesar by William Sha...  caesar   \n",
       "1  idle Creatures , get you home : Is this a Holi...  caesar   \n",
       "2  Profession ? Speake , what Trade art thou ? Ca...  caesar   \n",
       "3  on ? You sir , what Trade are you ? Cobl . Tru...  caesar   \n",
       "4  what Trade art thou ? Answer me directly Cob ....  caesar   \n",
       "\n",
       "                                           clean_txt  n_words  \n",
       "0  the tragedie of julius caesar by william shake...       35  \n",
       "1  idle creatures get you home is this a holiday ...       35  \n",
       "2  profession speake what trade art thou car </s>...       35  \n",
       "3  on you sir what trade are you cobl </s> truely...       35  \n",
       "4  what trade art thou answer me directly cob </s...       35  "
      ]
     },
     "execution_count": 9,
     "metadata": {},
     "output_type": "execute_result"
    }
   ],
   "source": [
    "shakespeare.head()"
   ]
  },
  {
   "cell_type": "code",
   "execution_count": 10,
   "id": "40715029-7321-4ee2-a2cb-acb21a24d97e",
   "metadata": {
    "tags": []
   },
   "outputs": [
    {
     "data": {
      "text/plain": [
       "book\n",
       "hamlet    1068\n",
       "caesar     738\n",
       "Name: count, dtype: int64"
      ]
     },
     "execution_count": 10,
     "metadata": {},
     "output_type": "execute_result"
    }
   ],
   "source": [
    "shakespeare.book.value_counts()"
   ]
  },
  {
   "cell_type": "markdown",
   "id": "48721981-7b9f-401f-b78b-e66faec723f0",
   "metadata": {},
   "source": [
    "## Sample from Bun & Creatinine"
   ]
  },
  {
   "cell_type": "code",
   "execution_count": 11,
   "id": "fdf088a9-5da0-4f67-89e5-3f12ad4215ab",
   "metadata": {
    "tags": []
   },
   "outputs": [],
   "source": [
    "bun_creat_vals = pd.read_csv('data/bun_creat_vals.csv')"
   ]
  },
  {
   "cell_type": "code",
   "execution_count": 12,
   "id": "136cd6f9-1b91-4e67-a640-1de26a1818cf",
   "metadata": {
    "tags": []
   },
   "outputs": [
    {
     "data": {
      "text/html": [
       "<div>\n",
       "<style scoped>\n",
       "    .dataframe tbody tr th:only-of-type {\n",
       "        vertical-align: middle;\n",
       "    }\n",
       "\n",
       "    .dataframe tbody tr th {\n",
       "        vertical-align: top;\n",
       "    }\n",
       "\n",
       "    .dataframe thead th {\n",
       "        text-align: right;\n",
       "    }\n",
       "</style>\n",
       "<table border=\"1\" class=\"dataframe\">\n",
       "  <thead>\n",
       "    <tr style=\"text-align: right;\">\n",
       "      <th></th>\n",
       "      <th>sample_ix</th>\n",
       "      <th>bun</th>\n",
       "      <th>creat</th>\n",
       "      <th>is_mm</th>\n",
       "    </tr>\n",
       "  </thead>\n",
       "  <tbody>\n",
       "    <tr>\n",
       "      <th>0</th>\n",
       "      <td>0</td>\n",
       "      <td>8.0</td>\n",
       "      <td>0.7</td>\n",
       "      <td>0</td>\n",
       "    </tr>\n",
       "    <tr>\n",
       "      <th>1</th>\n",
       "      <td>1</td>\n",
       "      <td>20.0</td>\n",
       "      <td>1.2</td>\n",
       "      <td>0</td>\n",
       "    </tr>\n",
       "    <tr>\n",
       "      <th>2</th>\n",
       "      <td>2</td>\n",
       "      <td>27.0</td>\n",
       "      <td>1.1</td>\n",
       "      <td>0</td>\n",
       "    </tr>\n",
       "    <tr>\n",
       "      <th>3</th>\n",
       "      <td>3</td>\n",
       "      <td>10.0</td>\n",
       "      <td>1.0</td>\n",
       "      <td>0</td>\n",
       "    </tr>\n",
       "    <tr>\n",
       "      <th>4</th>\n",
       "      <td>4</td>\n",
       "      <td>22.0</td>\n",
       "      <td>1.9</td>\n",
       "      <td>1</td>\n",
       "    </tr>\n",
       "  </tbody>\n",
       "</table>\n",
       "</div>"
      ],
      "text/plain": [
       "   sample_ix   bun  creat  is_mm\n",
       "0          0   8.0    0.7      0\n",
       "1          1  20.0    1.2      0\n",
       "2          2  27.0    1.1      0\n",
       "3          3  10.0    1.0      0\n",
       "4          4  22.0    1.9      1"
      ]
     },
     "execution_count": 12,
     "metadata": {},
     "output_type": "execute_result"
    }
   ],
   "source": [
    "bun_creat_vals.head()"
   ]
  },
  {
   "cell_type": "code",
   "execution_count": 13,
   "id": "26ccaa99-7bc2-4d0d-9935-56b9115ee5a4",
   "metadata": {
    "tags": []
   },
   "outputs": [
    {
     "data": {
      "text/plain": [
       "(82, 1)"
      ]
     },
     "execution_count": 13,
     "metadata": {},
     "output_type": "execute_result"
    }
   ],
   "source": [
    "bun_creat_vals[['bun']].drop_duplicates().shape"
   ]
  },
  {
   "cell_type": "code",
   "execution_count": 14,
   "id": "03ed98ee-f48c-470e-9efe-0f720a11e7b2",
   "metadata": {
    "tags": []
   },
   "outputs": [
    {
     "data": {
      "text/plain": [
       "(90, 1)"
      ]
     },
     "execution_count": 14,
     "metadata": {},
     "output_type": "execute_result"
    }
   ],
   "source": [
    "bun_creat_vals[['creat']].drop_duplicates().shape"
   ]
  },
  {
   "cell_type": "markdown",
   "id": "c09bba77-4942-44b9-84f1-0431aeec8cd6",
   "metadata": {},
   "source": [
    "### Bun & Creatine Raw AUC"
   ]
  },
  {
   "cell_type": "code",
   "execution_count": 15,
   "id": "81d87247-ca7d-41ed-b7f9-942612589263",
   "metadata": {
    "tags": []
   },
   "outputs": [
    {
     "name": "stderr",
     "output_type": "stream",
     "text": [
      "/home/jod204/mambaforge/envs/jod204_pytorch/lib/python3.10/site-packages/sklearn/utils/validation.py:605: FutureWarning: is_sparse is deprecated and will be removed in a future version. Check `isinstance(dtype, pd.SparseDtype)` instead.\n",
      "  if is_sparse(pd_dtype):\n",
      "/home/jod204/mambaforge/envs/jod204_pytorch/lib/python3.10/site-packages/sklearn/utils/validation.py:614: FutureWarning: is_sparse is deprecated and will be removed in a future version. Check `isinstance(dtype, pd.SparseDtype)` instead.\n",
      "  if is_sparse(pd_dtype) or not is_extension_array_dtype(pd_dtype):\n",
      "/home/jod204/mambaforge/envs/jod204_pytorch/lib/python3.10/site-packages/sklearn/utils/validation.py:605: FutureWarning: is_sparse is deprecated and will be removed in a future version. Check `isinstance(dtype, pd.SparseDtype)` instead.\n",
      "  if is_sparse(pd_dtype):\n",
      "/home/jod204/mambaforge/envs/jod204_pytorch/lib/python3.10/site-packages/sklearn/utils/validation.py:614: FutureWarning: is_sparse is deprecated and will be removed in a future version. Check `isinstance(dtype, pd.SparseDtype)` instead.\n",
      "  if is_sparse(pd_dtype) or not is_extension_array_dtype(pd_dtype):\n"
     ]
    },
    {
     "data": {
      "text/plain": [
       "0.7612335902205687"
      ]
     },
     "execution_count": 15,
     "metadata": {},
     "output_type": "execute_result"
    }
   ],
   "source": [
    "(\n",
    "    bun_creat_vals[['bun', 'is_mm']]\n",
    "    .fillna(bun_creat_vals.bun.median())\n",
    "    .pipe(lambda df: roc_auc_score(df.is_mm, df.bun))\n",
    ")"
   ]
  },
  {
   "cell_type": "code",
   "execution_count": 16,
   "id": "12a2da24-fd5b-46d5-b3b2-e9ac0879faa8",
   "metadata": {
    "tags": []
   },
   "outputs": [
    {
     "name": "stderr",
     "output_type": "stream",
     "text": [
      "/home/jod204/mambaforge/envs/jod204_pytorch/lib/python3.10/site-packages/sklearn/utils/validation.py:605: FutureWarning: is_sparse is deprecated and will be removed in a future version. Check `isinstance(dtype, pd.SparseDtype)` instead.\n",
      "  if is_sparse(pd_dtype):\n",
      "/home/jod204/mambaforge/envs/jod204_pytorch/lib/python3.10/site-packages/sklearn/utils/validation.py:614: FutureWarning: is_sparse is deprecated and will be removed in a future version. Check `isinstance(dtype, pd.SparseDtype)` instead.\n",
      "  if is_sparse(pd_dtype) or not is_extension_array_dtype(pd_dtype):\n",
      "/home/jod204/mambaforge/envs/jod204_pytorch/lib/python3.10/site-packages/sklearn/utils/validation.py:605: FutureWarning: is_sparse is deprecated and will be removed in a future version. Check `isinstance(dtype, pd.SparseDtype)` instead.\n",
      "  if is_sparse(pd_dtype):\n",
      "/home/jod204/mambaforge/envs/jod204_pytorch/lib/python3.10/site-packages/sklearn/utils/validation.py:614: FutureWarning: is_sparse is deprecated and will be removed in a future version. Check `isinstance(dtype, pd.SparseDtype)` instead.\n",
      "  if is_sparse(pd_dtype) or not is_extension_array_dtype(pd_dtype):\n"
     ]
    },
    {
     "data": {
      "text/plain": [
       "0.7755083709806005"
      ]
     },
     "execution_count": 16,
     "metadata": {},
     "output_type": "execute_result"
    }
   ],
   "source": [
    "(\n",
    "    bun_creat_vals[['creat', 'is_mm']]\n",
    "    .fillna(bun_creat_vals.creat.median())\n",
    "    .pipe(lambda df: roc_auc_score(df.is_mm, df.creat))\n",
    ")"
   ]
  },
  {
   "cell_type": "code",
   "execution_count": 17,
   "id": "f3222e70-532f-40c4-9b71-68bad7f57d65",
   "metadata": {
    "tags": []
   },
   "outputs": [
    {
     "data": {
      "text/html": [
       "<div>\n",
       "<style scoped>\n",
       "    .dataframe tbody tr th:only-of-type {\n",
       "        vertical-align: middle;\n",
       "    }\n",
       "\n",
       "    .dataframe tbody tr th {\n",
       "        vertical-align: top;\n",
       "    }\n",
       "\n",
       "    .dataframe thead th {\n",
       "        text-align: right;\n",
       "    }\n",
       "</style>\n",
       "<table border=\"1\" class=\"dataframe\">\n",
       "  <thead>\n",
       "    <tr style=\"text-align: right;\">\n",
       "      <th></th>\n",
       "      <th>is_mm</th>\n",
       "      <th>bun_mn</th>\n",
       "      <th>bun_sigma</th>\n",
       "      <th>creat_mn</th>\n",
       "      <th>creat_sigma</th>\n",
       "    </tr>\n",
       "  </thead>\n",
       "  <tbody>\n",
       "    <tr>\n",
       "      <th>0</th>\n",
       "      <td>0</td>\n",
       "      <td>16.175229</td>\n",
       "      <td>6.807525</td>\n",
       "      <td>1.150522</td>\n",
       "      <td>1.106105</td>\n",
       "    </tr>\n",
       "    <tr>\n",
       "      <th>1</th>\n",
       "      <td>1</td>\n",
       "      <td>31.251256</td>\n",
       "      <td>18.814545</td>\n",
       "      <td>2.397496</td>\n",
       "      <td>2.291239</td>\n",
       "    </tr>\n",
       "  </tbody>\n",
       "</table>\n",
       "</div>"
      ],
      "text/plain": [
       "   is_mm     bun_mn  bun_sigma  creat_mn  creat_sigma\n",
       "0      0  16.175229   6.807525  1.150522     1.106105\n",
       "1      1  31.251256  18.814545  2.397496     2.291239"
      ]
     },
     "execution_count": 17,
     "metadata": {},
     "output_type": "execute_result"
    }
   ],
   "source": [
    "summary_stats = (\n",
    "    bun_creat_vals\n",
    "    .groupby('is_mm').agg(\n",
    "        bun_mn =('bun', 'mean'),\n",
    "        bun_sigma = ('bun', 'std'),\n",
    "        creat_mn = ('creat', 'mean'),\n",
    "        creat_sigma = ('creat', 'std'),\n",
    "    )\n",
    "    .reset_index()\n",
    ")\n",
    "\n",
    "summary_stats"
   ]
  },
  {
   "cell_type": "markdown",
   "id": "19f7330c-3f84-49c7-a9e0-8526e6f802f5",
   "metadata": {},
   "source": [
    "### Include Bun & Creatinine"
   ]
  },
  {
   "cell_type": "code",
   "execution_count": 18,
   "id": "a8615d3d-ae6b-4ccf-9ec6-5aec2aa843ea",
   "metadata": {
    "tags": []
   },
   "outputs": [],
   "source": [
    "def gen_sample_value(is_hamlet:bool):\n",
    "    sample = summary_stats.query(f'is_mm == {1 if is_hamlet else 0}')\n",
    "    bun_mu, creat_mu = sample.bun_mn.values[0], sample.creat_mn.values[0]\n",
    "    bun_sigma, creat_sigma = sample.bun_sigma.values[0], sample.creat_sigma.values[0]\n",
    "    bun = np.random.randn()*bun_sigma + bun_mu\n",
    "    creat = np.random.randn()*creat_sigma + creat_mu\n",
    "    return bun, creat"
   ]
  },
  {
   "cell_type": "code",
   "execution_count": 19,
   "id": "7a19778e-8349-4d3f-8b0d-ae77971b9799",
   "metadata": {
    "tags": []
   },
   "outputs": [
    {
     "data": {
      "text/plain": [
       "[(13.612809268576498, 0.13387659451287526),\n",
       " (10.855213294324592, 3.093800379242232),\n",
       " (20.024855509771307, 1.3974739500825897),\n",
       " (17.411340549941833, 1.7140221667754143),\n",
       " (13.744762306943304, 1.8497294755044051)]"
      ]
     },
     "execution_count": 19,
     "metadata": {},
     "output_type": "execute_result"
    }
   ],
   "source": [
    "[gen_sample_value(False) for _ in range(5)]"
   ]
  },
  {
   "cell_type": "code",
   "execution_count": 20,
   "id": "9173da30-ccfc-4fc9-b7dd-66bb619ed760",
   "metadata": {
    "tags": []
   },
   "outputs": [
    {
     "data": {
      "text/plain": [
       "[(30.957639263496976, 1.383343885609014),\n",
       " (36.47959642970937, 4.3021669570715675),\n",
       " (41.26292416770599, 2.487120941650332),\n",
       " (16.11214486126475, 3.871032912248068),\n",
       " (40.45209331820433, 4.881114738896878)]"
      ]
     },
     "execution_count": 20,
     "metadata": {},
     "output_type": "execute_result"
    }
   ],
   "source": [
    "[gen_sample_value(True) for _ in range(5)]"
   ]
  },
  {
   "cell_type": "code",
   "execution_count": 21,
   "id": "7225a322-5c42-4f25-b4d1-83fe23e184c2",
   "metadata": {
    "tags": []
   },
   "outputs": [],
   "source": [
    "def include_met(val:float, met:str, txt:str):\n",
    "    words = txt.split(' ')\n",
    "    if pd.isna(val):\n",
    "        return ' '.join(words)\n",
    "    \n",
    "    n_words = len(words)\n",
    "    insert_ix = np.random.randint(0, n_words)\n",
    "    \n",
    "    val_phrase = [met, f'{val}']\n",
    "    if np.random.rand() < .5:\n",
    "        val_phrase = [val_phrase[0]] + ['of'] + [val_phrase[1]]\n",
    "    \n",
    "    return ' '.join(words[:insert_ix] + val_phrase + words[insert_ix:])"
   ]
  },
  {
   "cell_type": "code",
   "execution_count": 22,
   "id": "4784e819-230d-4e39-94f9-1bfa6db4ba2a",
   "metadata": {
    "tags": []
   },
   "outputs": [],
   "source": [
    "def make_phrase(val:float, met:str):\n",
    "    if pd.isna(val):\n",
    "        return []\n",
    "    else:\n",
    "        phrase = [met, f'{val:.2f}']\n",
    "        if np.random.rand() < .5:\n",
    "            phrase = [phrase[0]] + ['of'] + [phrase[1]]\n",
    "        return phrase\n",
    "\n",
    "def include_mets(val1:float, met1:str, val2:float, met2:str, txt:str):\n",
    "    words = txt.split(' ')\n",
    "    phrase1 = make_phrase(val1, met1)\n",
    "    phrase2 = make_phrase(val2, met2)\n",
    "    \n",
    "    n_words = len(words)\n",
    "    insert_ix = np.random.randint(0, n_words)\n",
    "    \n",
    "    chunk_ixs = list(range(4))\n",
    "    np.random.shuffle(chunk_ixs)\n",
    "    \n",
    "    chunks = []\n",
    "    chunks_arr = [words[:insert_ix], phrase1, phrase2, words[insert_ix:]]\n",
    "    for _ in chunk_ixs:\n",
    "        chunks = chunks + chunks_arr[_]\n",
    "    \n",
    "    return ' '.join(chunks)"
   ]
  },
  {
   "cell_type": "code",
   "execution_count": 23,
   "id": "920044ae-7c2b-44ab-9825-681ef51fa7fe",
   "metadata": {
    "tags": []
   },
   "outputs": [],
   "source": [
    "shakespeare_hamlet = (\n",
    "    shakespeare\n",
    "    .query('book in [\"hamlet\"]')\n",
    "    .assign(start_ix = hamlet_start_ixs)\n",
    "    .assign(\n",
    "        is_second_half = lambda df: df.start_ix.map(lambda s: 1 if s > int(hamlet_start_ixs[-1]/2) else 0),\n",
    "        bc = lambda df: df.is_second_half.map(gen_sample_value),\n",
    "        met_txt = lambda df: [\n",
    "            #include_met( r.bc[0].round(2), 'bun', r.clean_txt)\n",
    "            include_mets( r.bc[0].round(2), 'bun', r.bc[1].round(1), 'creatinine', r.clean_txt)\n",
    "            for r in df.itertuples()\n",
    "        ],\n",
    "    )\n",
    ")"
   ]
  },
  {
   "cell_type": "code",
   "execution_count": 24,
   "id": "4dbb0b17-e9c9-4ba3-b7db-1f3a2f04576b",
   "metadata": {
    "tags": []
   },
   "outputs": [
    {
     "data": {
      "text/html": [
       "<div>\n",
       "<style scoped>\n",
       "    .dataframe tbody tr th:only-of-type {\n",
       "        vertical-align: middle;\n",
       "    }\n",
       "\n",
       "    .dataframe tbody tr th {\n",
       "        vertical-align: top;\n",
       "    }\n",
       "\n",
       "    .dataframe thead th {\n",
       "        text-align: right;\n",
       "    }\n",
       "</style>\n",
       "<table border=\"1\" class=\"dataframe\">\n",
       "  <thead>\n",
       "    <tr style=\"text-align: right;\">\n",
       "      <th></th>\n",
       "      <th>sentence</th>\n",
       "      <th>book</th>\n",
       "      <th>clean_txt</th>\n",
       "      <th>n_words</th>\n",
       "      <th>start_ix</th>\n",
       "      <th>is_second_half</th>\n",
       "      <th>bc</th>\n",
       "      <th>met_txt</th>\n",
       "    </tr>\n",
       "  </thead>\n",
       "  <tbody>\n",
       "    <tr>\n",
       "      <th>0</th>\n",
       "      <td>[ The Tragedie of Hamlet by William Shakespear...</td>\n",
       "      <td>hamlet</td>\n",
       "      <td>the tragedie of hamlet by william shakespeare ...</td>\n",
       "      <td>35</td>\n",
       "      <td>0</td>\n",
       "      <td>0</td>\n",
       "      <td>(8.40256816192483, 0.09017577673971688)</td>\n",
       "      <td>creatinine of 0.10 bun of 8.40 nay answer me &lt;...</td>\n",
       "    </tr>\n",
       "    <tr>\n",
       "      <th>1</th>\n",
       "      <td>: Stand &amp; vnfold your selfe Bar . Long liue th...</td>\n",
       "      <td>hamlet</td>\n",
       "      <td>stand vnfold your selfe bar &lt;/s&gt; long liue the...</td>\n",
       "      <td>35</td>\n",
       "      <td>35</td>\n",
       "      <td>0</td>\n",
       "      <td>(25.424817305559458, 0.8471570048525093)</td>\n",
       "      <td>stand vnfold your selfe bar &lt;/s&gt; long liue the...</td>\n",
       "    </tr>\n",
       "    <tr>\n",
       "      <th>2</th>\n",
       "      <td>, get thee to bed Francisco Fran . For this re...</td>\n",
       "      <td>hamlet</td>\n",
       "      <td>get thee to bed francisco fran &lt;/s&gt; for this r...</td>\n",
       "      <td>35</td>\n",
       "      <td>70</td>\n",
       "      <td>0</td>\n",
       "      <td>(6.489656076313505, 3.0219485960360624)</td>\n",
       "      <td>you had quiet guard fran &lt;/s&gt; bun 6.49 get the...</td>\n",
       "    </tr>\n",
       "    <tr>\n",
       "      <th>3</th>\n",
       "      <td>Not a Mouse stirring Barn . Well , goodnight ....</td>\n",
       "      <td>hamlet</td>\n",
       "      <td>not a mouse stirring barn &lt;/s&gt; well goodnight ...</td>\n",
       "      <td>35</td>\n",
       "      <td>105</td>\n",
       "      <td>0</td>\n",
       "      <td>(20.07304739540571, 0.7912532047896199)</td>\n",
       "      <td>not a bun of 20.07 creatinine 0.80 mouse stirr...</td>\n",
       "    </tr>\n",
       "    <tr>\n",
       "      <th>4</th>\n",
       "      <td>. I thinke I heare them . Stand : who ' s ther...</td>\n",
       "      <td>hamlet</td>\n",
       "      <td>&lt;/s&gt; i thinke i heare them &lt;/s&gt; stand who s th...</td>\n",
       "      <td>35</td>\n",
       "      <td>140</td>\n",
       "      <td>0</td>\n",
       "      <td>(20.596502597970897, -2.254080999487073)</td>\n",
       "      <td>&lt;/s&gt; i thinke i heare them &lt;/s&gt; stand who s th...</td>\n",
       "    </tr>\n",
       "  </tbody>\n",
       "</table>\n",
       "</div>"
      ],
      "text/plain": [
       "                                            sentence    book  \\\n",
       "0  [ The Tragedie of Hamlet by William Shakespear...  hamlet   \n",
       "1  : Stand & vnfold your selfe Bar . Long liue th...  hamlet   \n",
       "2  , get thee to bed Francisco Fran . For this re...  hamlet   \n",
       "3  Not a Mouse stirring Barn . Well , goodnight ....  hamlet   \n",
       "4  . I thinke I heare them . Stand : who ' s ther...  hamlet   \n",
       "\n",
       "                                           clean_txt  n_words  start_ix  \\\n",
       "0  the tragedie of hamlet by william shakespeare ...       35         0   \n",
       "1  stand vnfold your selfe bar </s> long liue the...       35        35   \n",
       "2  get thee to bed francisco fran </s> for this r...       35        70   \n",
       "3  not a mouse stirring barn </s> well goodnight ...       35       105   \n",
       "4  </s> i thinke i heare them </s> stand who s th...       35       140   \n",
       "\n",
       "   is_second_half                                        bc  \\\n",
       "0               0   (8.40256816192483, 0.09017577673971688)   \n",
       "1               0  (25.424817305559458, 0.8471570048525093)   \n",
       "2               0   (6.489656076313505, 3.0219485960360624)   \n",
       "3               0   (20.07304739540571, 0.7912532047896199)   \n",
       "4               0  (20.596502597970897, -2.254080999487073)   \n",
       "\n",
       "                                             met_txt  \n",
       "0  creatinine of 0.10 bun of 8.40 nay answer me <...  \n",
       "1  stand vnfold your selfe bar </s> long liue the...  \n",
       "2  you had quiet guard fran </s> bun 6.49 get the...  \n",
       "3  not a bun of 20.07 creatinine 0.80 mouse stirr...  \n",
       "4  </s> i thinke i heare them </s> stand who s th...  "
      ]
     },
     "execution_count": 24,
     "metadata": {},
     "output_type": "execute_result"
    }
   ],
   "source": [
    "shakespeare_hamlet.head()"
   ]
  },
  {
   "cell_type": "markdown",
   "id": "ac2c2bfb-f16e-477c-ba93-6bd9ce6c6a72",
   "metadata": {},
   "source": [
    "# Run Experiments"
   ]
  },
  {
   "cell_type": "markdown",
   "id": "bd1cee96-3831-444b-b6ff-3bb7cb61d199",
   "metadata": {},
   "source": [
    "## Experiment Configurations & Helpers"
   ]
  },
  {
   "cell_type": "code",
   "execution_count": 25,
   "id": "4ebd7414-a92c-47bf-b35b-5d01c7f4567c",
   "metadata": {
    "tags": []
   },
   "outputs": [],
   "source": [
    "y_col = 'is_second_half'\n",
    "x_col = 'met_txt'\n",
    "n_left=2\n",
    "n_right=1"
   ]
  },
  {
   "cell_type": "code",
   "execution_count": 26,
   "id": "2fc945c4-a079-4a79-9140-76027be1a690",
   "metadata": {
    "tags": []
   },
   "outputs": [],
   "source": [
    "ModelType = Literal['TextCnn', 'ScaleNum', 'AttnToNum', 'AttnToNumNoScaleNum']\n",
    "\n",
    "ModelLookUp = {\n",
    "    'TextCnn': lambda n_terms: cnn.TextCnn(\n",
    "            seq_len, n_terms=n_terms,\n",
    "            model_params=config.TextCnnParams(n_filters=44, dropout=.5)\n",
    "        ),\n",
    "    'ScaleNum': lambda n_terms: cnn.TextCnnScaleNum(\n",
    "            seq_len, n_terms=n_terms,\n",
    "            model_params=config.TextCnnScaleNumParams(n_filters=44, dropout=.5, n_number_lins=3,\n",
    "                                                     do_resid_conn_scale_num=True)\n",
    "        ),\n",
    "    'AttnToNum': lambda n_terms: cnn.TextCnnAttnToNum(\n",
    "            seq_len, n_terms=n_terms,\n",
    "            model_params=config.TextCnnAttnToNumParams(\n",
    "                n_filters=44, dropout=.5, n_number_lins=3, n_left=n_left, n_right=n_right,\n",
    "                do_resid_conn_attn_to_num=True\n",
    "            )\n",
    "        ),\n",
    "    'AttnToNumNoScaleNum': lambda n_terms: cnn.TextCnnAttnToNum(\n",
    "            seq_len, n_terms=n_terms,\n",
    "            model_params=config.TextCnnAttnToNumParams(\n",
    "                n_filters=44, dropout=.5, n_number_lins=3, n_left=n_left, n_right=n_right,\n",
    "                do_resid_conn_attn_to_num=True,\n",
    "                do_scale_num=False\n",
    "            )\n",
    "        )\n",
    "}"
   ]
  },
  {
   "cell_type": "code",
   "execution_count": 27,
   "id": "561e3106-568f-4bf2-ba46-f41e95c4bc27",
   "metadata": {
    "tags": []
   },
   "outputs": [],
   "source": [
    "def gen_ixs_lo():\n",
    "    all_ixs = list(range(len(shakespeare_hamlet)))\n",
    "    ys = shakespeare_hamlet[y_col].values\n",
    "    train_ixs, val_ixs = train_test_split(all_ixs, test_size=.15, stratify=ys)\n",
    "    \n",
    "    return {\n",
    "        'train': train_ixs, 'val': val_ixs\n",
    "    }"
   ]
  },
  {
   "cell_type": "code",
   "execution_count": 28,
   "id": "3d285088-5f96-4689-9525-12b94f583b68",
   "metadata": {
    "tags": []
   },
   "outputs": [],
   "source": [
    "def get_roc_auc(labels, pred_labels):\n",
    "    return roc_auc_score(labels.detach().cpu(), pred_labels.softmax(1)[:, 1].detach().cpu())\n",
    "\n",
    "def get_acc(labels, pred_labels):\n",
    "    return (pred_labels.argmax(1) == labels).sum().item()/pred_labels.shape[0]\n",
    "\n",
    "def train(dataloader, model, optimizer, criterion, epoch):\n",
    "    model.train()\n",
    "    total_auc, total_acc, total_count = 0, 0, 0\n",
    "    log_interval = 1000\n",
    "    start_time = time.time()\n",
    "\n",
    "    total_loss = 0\n",
    "    for idx, (x, labels) in enumerate(dataloader):\n",
    "        optimizer.zero_grad()\n",
    "        pred_labels = model(x)\n",
    "        loss = criterion(pred_labels, labels)\n",
    "        loss.backward()\n",
    "        torch.nn.utils.clip_grad_norm_(model.parameters(), 0.1)\n",
    "        optimizer.step()\n",
    "        total_loss = total_loss + loss.detach().cpu()\n",
    "\n",
    "    return total_loss"
   ]
  },
  {
   "cell_type": "code",
   "execution_count": 29,
   "id": "e20d8495-f4b5-43a7-b6ad-6c4cfdc11c20",
   "metadata": {
    "tags": []
   },
   "outputs": [],
   "source": [
    "def train_eval_model(model, dataloader_lo, is_verbose=True, n_epochs=40):\n",
    "    lr=3.5e-4\n",
    "    criterion = torch.nn.CrossEntropyLoss()\n",
    "    optimizer = torch.optim.Adam(model.parameters(), lr=lr)\n",
    "    \n",
    "    #epochs = tqdm.tqdm(list(range(EPOCHS + 1)), leave=False)\n",
    "    epochs = list(range(n_epochs))\n",
    "\n",
    "    for epoch in epochs:\n",
    "        epoch_start_time = time.time()\n",
    "        loss_train = train(dataloader_lo['train'], model, optimizer, criterion, epoch)\n",
    "        auc_val, _, loss_val = eu.evaluate(dataloader_lo['val'], model, criterion)\n",
    "        auc_train, _, _ = eu.evaluate(dataloader_lo['train'], model)\n",
    "\n",
    "        if auc_train > .9999:\n",
    "            break\n",
    "\n",
    "        if is_verbose:\n",
    "            print('-' * 100)\n",
    "            msg = ('| epoch {:2d} | time: {:5.2f}s | '\n",
    "                  'train auc {:5.3f} ({:5.3f}) | '\n",
    "                  'valid auc {:5.3f} ({:5.3f}) | '\n",
    "                  .format(epoch,\n",
    "                          time.time() - epoch_start_time,\n",
    "                          auc_train, loss_train,\n",
    "                          auc_val, loss_val)\n",
    "                 )\n",
    "\n",
    "            print(msg)\n",
    "            print('-' * 100)\n",
    "        \n",
    "        #pbar.set_description(f'Epoch {epoch}, Holdout AUC {auc_holdout:.2f}')\n",
    "            \n",
    "    \n",
    "    return auc_val"
   ]
  },
  {
   "cell_type": "code",
   "execution_count": 30,
   "id": "07ce170f-6b01-426a-addf-6a617b55de08",
   "metadata": {
    "tags": []
   },
   "outputs": [],
   "source": [
    "def run_experiment(model_str:ModelType, ixs_lo = gen_ixs_lo(), is_verbose=False):\n",
    "    train_ixs = ixs_lo['train']\n",
    "    train_x = shakespeare_hamlet[x_col].values[train_ixs]\n",
    "    \n",
    "    is_num_vocab = model_str != 'TextCnn'\n",
    "    vocab = (\n",
    "        v.NumberContextAwareVocab(train_x, ['bun', 'creatinine'], \n",
    "                                  n_left=n_left, n_right=n_right, is_verbose=is_verbose,\n",
    "                                 do_keep_context_nums = model_str=='AttnToNumNoScaleNum')\n",
    "        if is_num_vocab \n",
    "        else v.LowercaseVocab(train_x, is_verbose=is_verbose)\n",
    "    )\n",
    "    \n",
    "    def ixs_to_dataloader(ixs):\n",
    "        in_data = shakespeare_hamlet.iloc[ixs, :]\n",
    "        ds_fn = ds.NumberAwareDs if is_num_vocab else ds.TextDs\n",
    "        collate_fn = tu.collate_batch_number_aware if is_num_vocab else tu.collate_batch\n",
    "        kwargs = {'is_verbose':is_verbose} if is_num_vocab else {}\n",
    "        return DataLoader(\n",
    "            ds_fn(\n",
    "                data=in_data,\n",
    "                vocab=vocab,\n",
    "                x_col=x_col, y_col=y_col,\n",
    "                sample_len = seq_len,\n",
    "                **kwargs\n",
    "                ), \n",
    "            batch_size=64, shuffle = True,\n",
    "            collate_fn=collate_fn\n",
    "        )\n",
    "\n",
    "    dataloader_lo = {\n",
    "        k: ixs_to_dataloader(ixs) \n",
    "        for k, ixs in ixs_lo.items()\n",
    "    }\n",
    "    \n",
    "    n_terms = len(vocab) + 1\n",
    "    \n",
    "    model = ModelLookUp[model_str](n_terms).to('cuda')\n",
    "    \n",
    "    return train_eval_model(model, dataloader_lo, is_verbose)"
   ]
  },
  {
   "cell_type": "markdown",
   "id": "9bddf26c-469b-4908-b16e-dfabf426d185",
   "metadata": {},
   "source": [
    "## Run Basic Exp"
   ]
  },
  {
   "cell_type": "code",
   "execution_count": 31,
   "id": "a85700a9-f8d4-4baf-8847-1b8d6772a465",
   "metadata": {
    "tags": []
   },
   "outputs": [],
   "source": [
    "ixs_lo = gen_ixs_lo()"
   ]
  },
  {
   "cell_type": "code",
   "execution_count": 32,
   "id": "bc72f267-22b4-4adf-abcd-7607581f00e8",
   "metadata": {
    "tags": []
   },
   "outputs": [
    {
     "name": "stderr",
     "output_type": "stream",
     "text": [
      "100%|█████████████████████████████████████████████████████████████████████████████| 907/907 [00:00<00:00, 144686.18it/s]\n",
      "/home/jod204/projects/sts_clean/text_utils.py:19: UserWarning: Creating a tensor from a list of numpy.ndarrays is extremely slow. Please consider converting the list to a single numpy.ndarray with numpy.array() before converting to a tensor. (Triggered internally at /opt/conda/conda-bld/pytorch_1670525541990/work/torch/csrc/utils/tensor_new.cpp:230.)\n",
      "  mk_tensor = lambda ix: torch.tensor(\n"
     ]
    },
    {
     "name": "stdout",
     "output_type": "stream",
     "text": [
      "----------------------------------------------------------------------------------------------------\n",
      "| epoch  0 | time:  0.58s | train auc 0.574 (12.343) | valid auc 0.445 (0.723) | \n",
      "----------------------------------------------------------------------------------------------------\n",
      "----------------------------------------------------------------------------------------------------\n",
      "| epoch  1 | time:  0.13s | train auc 0.669 (11.629) | valid auc 0.470 (0.711) | \n",
      "----------------------------------------------------------------------------------------------------\n",
      "----------------------------------------------------------------------------------------------------\n",
      "| epoch  2 | time:  0.12s | train auc 0.748 (11.235) | valid auc 0.487 (0.704) | \n",
      "----------------------------------------------------------------------------------------------------\n",
      "----------------------------------------------------------------------------------------------------\n",
      "| epoch  3 | time:  0.12s | train auc 0.806 (10.788) | valid auc 0.503 (0.700) | \n",
      "----------------------------------------------------------------------------------------------------\n",
      "----------------------------------------------------------------------------------------------------\n",
      "| epoch  4 | time:  0.12s | train auc 0.848 (10.556) | valid auc 0.512 (0.698) | \n",
      "----------------------------------------------------------------------------------------------------\n",
      "----------------------------------------------------------------------------------------------------\n",
      "| epoch  5 | time:  0.12s | train auc 0.880 (10.707) | valid auc 0.525 (0.697) | \n",
      "----------------------------------------------------------------------------------------------------\n",
      "----------------------------------------------------------------------------------------------------\n",
      "| epoch  6 | time:  0.12s | train auc 0.907 (10.133) | valid auc 0.533 (0.698) | \n",
      "----------------------------------------------------------------------------------------------------\n",
      "----------------------------------------------------------------------------------------------------\n",
      "| epoch  7 | time:  0.13s | train auc 0.927 (9.885) | valid auc 0.542 (0.692) | \n",
      "----------------------------------------------------------------------------------------------------\n",
      "----------------------------------------------------------------------------------------------------\n",
      "| epoch  8 | time:  0.13s | train auc 0.940 (9.945) | valid auc 0.551 (0.690) | \n",
      "----------------------------------------------------------------------------------------------------\n",
      "----------------------------------------------------------------------------------------------------\n",
      "| epoch  9 | time:  0.13s | train auc 0.951 (10.027) | valid auc 0.562 (0.687) | \n",
      "----------------------------------------------------------------------------------------------------\n",
      "----------------------------------------------------------------------------------------------------\n",
      "| epoch 10 | time:  0.12s | train auc 0.961 (9.387) | valid auc 0.570 (0.685) | \n",
      "----------------------------------------------------------------------------------------------------\n",
      "----------------------------------------------------------------------------------------------------\n",
      "| epoch 11 | time:  0.12s | train auc 0.970 (9.203) | valid auc 0.581 (0.683) | \n",
      "----------------------------------------------------------------------------------------------------\n",
      "----------------------------------------------------------------------------------------------------\n",
      "| epoch 12 | time:  0.12s | train auc 0.974 (9.027) | valid auc 0.586 (0.682) | \n",
      "----------------------------------------------------------------------------------------------------\n",
      "----------------------------------------------------------------------------------------------------\n",
      "| epoch 13 | time:  0.13s | train auc 0.980 (8.779) | valid auc 0.589 (0.681) | \n",
      "----------------------------------------------------------------------------------------------------\n",
      "----------------------------------------------------------------------------------------------------\n",
      "| epoch 14 | time:  0.13s | train auc 0.983 (8.975) | valid auc 0.590 (0.680) | \n",
      "----------------------------------------------------------------------------------------------------\n",
      "----------------------------------------------------------------------------------------------------\n",
      "| epoch 15 | time:  0.13s | train auc 0.987 (8.611) | valid auc 0.595 (0.680) | \n",
      "----------------------------------------------------------------------------------------------------\n",
      "----------------------------------------------------------------------------------------------------\n",
      "| epoch 16 | time:  0.13s | train auc 0.989 (8.257) | valid auc 0.600 (0.677) | \n",
      "----------------------------------------------------------------------------------------------------\n",
      "----------------------------------------------------------------------------------------------------\n",
      "| epoch 17 | time:  0.13s | train auc 0.991 (8.203) | valid auc 0.600 (0.677) | \n",
      "----------------------------------------------------------------------------------------------------\n",
      "----------------------------------------------------------------------------------------------------\n",
      "| epoch 18 | time:  0.13s | train auc 0.992 (7.635) | valid auc 0.605 (0.676) | \n",
      "----------------------------------------------------------------------------------------------------\n",
      "----------------------------------------------------------------------------------------------------\n",
      "| epoch 19 | time:  0.13s | train auc 0.993 (7.842) | valid auc 0.612 (0.673) | \n",
      "----------------------------------------------------------------------------------------------------\n",
      "----------------------------------------------------------------------------------------------------\n",
      "| epoch 20 | time:  0.13s | train auc 0.995 (7.702) | valid auc 0.618 (0.673) | \n",
      "----------------------------------------------------------------------------------------------------\n",
      "----------------------------------------------------------------------------------------------------\n",
      "| epoch 21 | time:  0.13s | train auc 0.996 (7.695) | valid auc 0.624 (0.670) | \n",
      "----------------------------------------------------------------------------------------------------\n",
      "----------------------------------------------------------------------------------------------------\n",
      "| epoch 22 | time:  0.13s | train auc 0.997 (7.369) | valid auc 0.628 (0.667) | \n",
      "----------------------------------------------------------------------------------------------------\n",
      "----------------------------------------------------------------------------------------------------\n",
      "| epoch 23 | time:  0.12s | train auc 0.997 (7.271) | valid auc 0.631 (0.666) | \n",
      "----------------------------------------------------------------------------------------------------\n",
      "----------------------------------------------------------------------------------------------------\n",
      "| epoch 24 | time:  0.12s | train auc 0.998 (7.183) | valid auc 0.633 (0.665) | \n",
      "----------------------------------------------------------------------------------------------------\n",
      "----------------------------------------------------------------------------------------------------\n",
      "| epoch 25 | time:  0.13s | train auc 0.998 (7.504) | valid auc 0.635 (0.664) | \n",
      "----------------------------------------------------------------------------------------------------\n",
      "----------------------------------------------------------------------------------------------------\n",
      "| epoch 26 | time:  0.13s | train auc 0.998 (7.107) | valid auc 0.641 (0.662) | \n",
      "----------------------------------------------------------------------------------------------------\n",
      "----------------------------------------------------------------------------------------------------\n",
      "| epoch 27 | time:  0.14s | train auc 0.998 (6.661) | valid auc 0.641 (0.662) | \n",
      "----------------------------------------------------------------------------------------------------\n",
      "----------------------------------------------------------------------------------------------------\n",
      "| epoch 28 | time:  0.13s | train auc 0.999 (6.349) | valid auc 0.642 (0.662) | \n",
      "----------------------------------------------------------------------------------------------------\n",
      "----------------------------------------------------------------------------------------------------\n",
      "| epoch 29 | time:  0.12s | train auc 0.999 (6.554) | valid auc 0.647 (0.662) | \n",
      "----------------------------------------------------------------------------------------------------\n",
      "----------------------------------------------------------------------------------------------------\n",
      "| epoch 30 | time:  0.12s | train auc 0.999 (6.041) | valid auc 0.651 (0.659) | \n",
      "----------------------------------------------------------------------------------------------------\n",
      "----------------------------------------------------------------------------------------------------\n",
      "| epoch 31 | time:  0.12s | train auc 0.999 (6.464) | valid auc 0.653 (0.657) | \n",
      "----------------------------------------------------------------------------------------------------\n",
      "----------------------------------------------------------------------------------------------------\n",
      "| epoch 32 | time:  0.12s | train auc 0.999 (5.905) | valid auc 0.654 (0.655) | \n",
      "----------------------------------------------------------------------------------------------------\n",
      "----------------------------------------------------------------------------------------------------\n",
      "| epoch 33 | time:  0.12s | train auc 1.000 (5.948) | valid auc 0.659 (0.654) | \n",
      "----------------------------------------------------------------------------------------------------\n",
      "----------------------------------------------------------------------------------------------------\n",
      "| epoch 34 | time:  0.12s | train auc 1.000 (5.785) | valid auc 0.662 (0.654) | \n",
      "----------------------------------------------------------------------------------------------------\n",
      "----------------------------------------------------------------------------------------------------\n",
      "| epoch 35 | time:  0.12s | train auc 1.000 (5.696) | valid auc 0.662 (0.655) | \n",
      "----------------------------------------------------------------------------------------------------\n",
      "----------------------------------------------------------------------------------------------------\n",
      "| epoch 36 | time:  0.12s | train auc 1.000 (5.419) | valid auc 0.661 (0.653) | \n",
      "----------------------------------------------------------------------------------------------------\n",
      "----------------------------------------------------------------------------------------------------\n",
      "| epoch 37 | time:  0.12s | train auc 1.000 (5.542) | valid auc 0.664 (0.654) | \n",
      "----------------------------------------------------------------------------------------------------\n",
      "----------------------------------------------------------------------------------------------------\n",
      "| epoch 38 | time:  0.12s | train auc 1.000 (5.243) | valid auc 0.666 (0.655) | \n",
      "----------------------------------------------------------------------------------------------------\n",
      "----------------------------------------------------------------------------------------------------\n",
      "| epoch 39 | time:  0.12s | train auc 1.000 (4.827) | valid auc 0.667 (0.653) | \n",
      "----------------------------------------------------------------------------------------------------\n"
     ]
    },
    {
     "data": {
      "text/plain": [
       "0.667283950617284"
      ]
     },
     "execution_count": 32,
     "metadata": {},
     "output_type": "execute_result"
    }
   ],
   "source": [
    "run_experiment('TextCnn', ixs_lo=ixs_lo, is_verbose=True)"
   ]
  },
  {
   "cell_type": "markdown",
   "id": "03d4118f-4107-42a3-b651-25d0c1b3cdad",
   "metadata": {},
   "source": [
    "## Run Scale Num Exp"
   ]
  },
  {
   "cell_type": "code",
   "execution_count": 33,
   "id": "16ccf723-9f41-45d2-8159-5a4b610e3c4b",
   "metadata": {
    "tags": []
   },
   "outputs": [
    {
     "name": "stderr",
     "output_type": "stream",
     "text": [
      "100%|██████████████████████████████████████████████████████████████████████████████| 907/907 [00:00<00:00, 12718.89it/s]\n",
      "100%|██████████████████████████████████████████████████████████████████████████████| 907/907 [00:00<00:00, 13348.14it/s]\n",
      "100%|██████████████████████████████████████████████████████████████████████████████| 161/161 [00:00<00:00, 13176.25it/s]\n"
     ]
    },
    {
     "name": "stdout",
     "output_type": "stream",
     "text": [
      "----------------------------------------------------------------------------------------------------\n",
      "| epoch  0 | time:  0.33s | train auc 0.602 (13.974) | valid auc 0.475 (0.718) | \n",
      "----------------------------------------------------------------------------------------------------\n",
      "----------------------------------------------------------------------------------------------------\n",
      "| epoch  1 | time:  0.30s | train auc 0.692 (13.276) | valid auc 0.488 (0.712) | \n",
      "----------------------------------------------------------------------------------------------------\n",
      "----------------------------------------------------------------------------------------------------\n",
      "| epoch  2 | time:  0.30s | train auc 0.763 (12.453) | valid auc 0.497 (0.708) | \n",
      "----------------------------------------------------------------------------------------------------\n",
      "----------------------------------------------------------------------------------------------------\n",
      "| epoch  3 | time:  0.30s | train auc 0.821 (12.684) | valid auc 0.508 (0.705) | \n",
      "----------------------------------------------------------------------------------------------------\n",
      "----------------------------------------------------------------------------------------------------\n",
      "| epoch  4 | time:  0.30s | train auc 0.862 (11.676) | valid auc 0.511 (0.703) | \n",
      "----------------------------------------------------------------------------------------------------\n",
      "----------------------------------------------------------------------------------------------------\n",
      "| epoch  5 | time:  0.29s | train auc 0.893 (11.491) | valid auc 0.520 (0.699) | \n",
      "----------------------------------------------------------------------------------------------------\n",
      "----------------------------------------------------------------------------------------------------\n",
      "| epoch  6 | time:  0.29s | train auc 0.918 (11.108) | valid auc 0.530 (0.695) | \n",
      "----------------------------------------------------------------------------------------------------\n",
      "----------------------------------------------------------------------------------------------------\n",
      "| epoch  7 | time:  0.29s | train auc 0.937 (10.558) | valid auc 0.540 (0.693) | \n",
      "----------------------------------------------------------------------------------------------------\n",
      "----------------------------------------------------------------------------------------------------\n",
      "| epoch  8 | time:  0.29s | train auc 0.952 (10.043) | valid auc 0.547 (0.691) | \n",
      "----------------------------------------------------------------------------------------------------\n",
      "----------------------------------------------------------------------------------------------------\n",
      "| epoch  9 | time:  0.29s | train auc 0.964 (10.415) | valid auc 0.558 (0.690) | \n",
      "----------------------------------------------------------------------------------------------------\n",
      "----------------------------------------------------------------------------------------------------\n",
      "| epoch 10 | time:  0.29s | train auc 0.973 (10.274) | valid auc 0.571 (0.685) | \n",
      "----------------------------------------------------------------------------------------------------\n",
      "----------------------------------------------------------------------------------------------------\n",
      "| epoch 11 | time:  0.29s | train auc 0.981 (9.698) | valid auc 0.577 (0.684) | \n",
      "----------------------------------------------------------------------------------------------------\n",
      "----------------------------------------------------------------------------------------------------\n",
      "| epoch 12 | time:  0.30s | train auc 0.986 (9.866) | valid auc 0.581 (0.687) | \n",
      "----------------------------------------------------------------------------------------------------\n",
      "----------------------------------------------------------------------------------------------------\n",
      "| epoch 13 | time:  0.29s | train auc 0.990 (9.400) | valid auc 0.587 (0.681) | \n",
      "----------------------------------------------------------------------------------------------------\n",
      "----------------------------------------------------------------------------------------------------\n",
      "| epoch 14 | time:  0.29s | train auc 0.991 (9.049) | valid auc 0.586 (0.681) | \n",
      "----------------------------------------------------------------------------------------------------\n",
      "----------------------------------------------------------------------------------------------------\n",
      "| epoch 15 | time:  0.30s | train auc 0.993 (8.574) | valid auc 0.590 (0.679) | \n",
      "----------------------------------------------------------------------------------------------------\n",
      "----------------------------------------------------------------------------------------------------\n",
      "| epoch 16 | time:  0.29s | train auc 0.994 (8.849) | valid auc 0.592 (0.678) | \n",
      "----------------------------------------------------------------------------------------------------\n",
      "----------------------------------------------------------------------------------------------------\n",
      "| epoch 17 | time:  0.30s | train auc 0.995 (8.067) | valid auc 0.598 (0.676) | \n",
      "----------------------------------------------------------------------------------------------------\n",
      "----------------------------------------------------------------------------------------------------\n",
      "| epoch 18 | time:  0.29s | train auc 0.996 (8.379) | valid auc 0.603 (0.676) | \n",
      "----------------------------------------------------------------------------------------------------\n",
      "----------------------------------------------------------------------------------------------------\n",
      "| epoch 19 | time:  0.30s | train auc 0.998 (8.126) | valid auc 0.607 (0.675) | \n",
      "----------------------------------------------------------------------------------------------------\n",
      "----------------------------------------------------------------------------------------------------\n",
      "| epoch 20 | time:  0.30s | train auc 0.998 (8.225) | valid auc 0.611 (0.673) | \n",
      "----------------------------------------------------------------------------------------------------\n",
      "----------------------------------------------------------------------------------------------------\n",
      "| epoch 21 | time:  0.29s | train auc 0.998 (8.055) | valid auc 0.610 (0.672) | \n",
      "----------------------------------------------------------------------------------------------------\n",
      "----------------------------------------------------------------------------------------------------\n",
      "| epoch 22 | time:  0.30s | train auc 0.999 (7.958) | valid auc 0.614 (0.671) | \n",
      "----------------------------------------------------------------------------------------------------\n",
      "----------------------------------------------------------------------------------------------------\n",
      "| epoch 23 | time:  0.30s | train auc 0.999 (7.461) | valid auc 0.617 (0.670) | \n",
      "----------------------------------------------------------------------------------------------------\n",
      "----------------------------------------------------------------------------------------------------\n",
      "| epoch 24 | time:  0.30s | train auc 0.999 (7.412) | valid auc 0.622 (0.669) | \n",
      "----------------------------------------------------------------------------------------------------\n",
      "----------------------------------------------------------------------------------------------------\n",
      "| epoch 25 | time:  0.30s | train auc 0.999 (7.215) | valid auc 0.620 (0.669) | \n",
      "----------------------------------------------------------------------------------------------------\n",
      "----------------------------------------------------------------------------------------------------\n",
      "| epoch 26 | time:  0.29s | train auc 0.999 (7.034) | valid auc 0.623 (0.670) | \n",
      "----------------------------------------------------------------------------------------------------\n",
      "----------------------------------------------------------------------------------------------------\n",
      "| epoch 27 | time:  0.29s | train auc 0.999 (7.244) | valid auc 0.622 (0.669) | \n",
      "----------------------------------------------------------------------------------------------------\n",
      "----------------------------------------------------------------------------------------------------\n",
      "| epoch 28 | time:  0.29s | train auc 1.000 (6.789) | valid auc 0.626 (0.668) | \n",
      "----------------------------------------------------------------------------------------------------\n",
      "----------------------------------------------------------------------------------------------------\n",
      "| epoch 29 | time:  0.29s | train auc 1.000 (6.995) | valid auc 0.626 (0.667) | \n",
      "----------------------------------------------------------------------------------------------------\n",
      "----------------------------------------------------------------------------------------------------\n",
      "| epoch 30 | time:  0.29s | train auc 1.000 (6.760) | valid auc 0.625 (0.669) | \n",
      "----------------------------------------------------------------------------------------------------\n",
      "----------------------------------------------------------------------------------------------------\n",
      "| epoch 31 | time:  0.29s | train auc 1.000 (6.413) | valid auc 0.623 (0.670) | \n",
      "----------------------------------------------------------------------------------------------------\n",
      "----------------------------------------------------------------------------------------------------\n",
      "| epoch 32 | time:  0.29s | train auc 1.000 (6.429) | valid auc 0.623 (0.669) | \n",
      "----------------------------------------------------------------------------------------------------\n",
      "----------------------------------------------------------------------------------------------------\n",
      "| epoch 33 | time:  0.29s | train auc 1.000 (6.340) | valid auc 0.629 (0.669) | \n",
      "----------------------------------------------------------------------------------------------------\n",
      "----------------------------------------------------------------------------------------------------\n",
      "| epoch 34 | time:  0.29s | train auc 1.000 (5.778) | valid auc 0.625 (0.669) | \n",
      "----------------------------------------------------------------------------------------------------\n",
      "----------------------------------------------------------------------------------------------------\n",
      "| epoch 35 | time:  0.30s | train auc 1.000 (5.902) | valid auc 0.632 (0.667) | \n",
      "----------------------------------------------------------------------------------------------------\n",
      "----------------------------------------------------------------------------------------------------\n",
      "| epoch 36 | time:  0.29s | train auc 1.000 (6.188) | valid auc 0.633 (0.665) | \n",
      "----------------------------------------------------------------------------------------------------\n"
     ]
    },
    {
     "data": {
      "text/plain": [
       "0.6341049382716049"
      ]
     },
     "execution_count": 33,
     "metadata": {},
     "output_type": "execute_result"
    }
   ],
   "source": [
    "run_experiment('ScaleNum', ixs_lo=ixs_lo, is_verbose=True)"
   ]
  },
  {
   "cell_type": "markdown",
   "id": "894c6155-ddb4-45aa-99ba-e5c5ef058666",
   "metadata": {},
   "source": [
    "## Run AttnToNum Exp"
   ]
  },
  {
   "cell_type": "code",
   "execution_count": 34,
   "id": "75920430-23ce-4fbd-b9f6-8d5a1bc80da3",
   "metadata": {
    "tags": []
   },
   "outputs": [
    {
     "name": "stderr",
     "output_type": "stream",
     "text": [
      "100%|██████████████████████████████████████████████████████████████████████████████| 907/907 [00:00<00:00, 13073.46it/s]\n",
      "100%|██████████████████████████████████████████████████████████████████████████████| 907/907 [00:00<00:00, 13621.62it/s]\n",
      "100%|██████████████████████████████████████████████████████████████████████████████| 161/161 [00:00<00:00, 13547.38it/s]\n"
     ]
    },
    {
     "name": "stdout",
     "output_type": "stream",
     "text": [
      "----------------------------------------------------------------------------------------------------\n",
      "| epoch  0 | time:  0.47s | train auc 0.591 (14.067) | valid auc 0.557 (0.689) | \n",
      "----------------------------------------------------------------------------------------------------\n",
      "----------------------------------------------------------------------------------------------------\n",
      "| epoch  1 | time:  0.45s | train auc 0.691 (12.514) | valid auc 0.584 (0.682) | \n",
      "----------------------------------------------------------------------------------------------------\n",
      "----------------------------------------------------------------------------------------------------\n",
      "| epoch  2 | time:  0.45s | train auc 0.769 (12.614) | valid auc 0.600 (0.677) | \n",
      "----------------------------------------------------------------------------------------------------\n",
      "----------------------------------------------------------------------------------------------------\n",
      "| epoch  3 | time:  0.45s | train auc 0.828 (11.557) | valid auc 0.612 (0.676) | \n",
      "----------------------------------------------------------------------------------------------------\n",
      "----------------------------------------------------------------------------------------------------\n",
      "| epoch  4 | time:  0.45s | train auc 0.867 (11.599) | valid auc 0.624 (0.674) | \n",
      "----------------------------------------------------------------------------------------------------\n",
      "----------------------------------------------------------------------------------------------------\n",
      "| epoch  5 | time:  0.45s | train auc 0.899 (11.730) | valid auc 0.640 (0.670) | \n",
      "----------------------------------------------------------------------------------------------------\n",
      "----------------------------------------------------------------------------------------------------\n",
      "| epoch  6 | time:  0.45s | train auc 0.921 (10.716) | valid auc 0.649 (0.665) | \n",
      "----------------------------------------------------------------------------------------------------\n",
      "----------------------------------------------------------------------------------------------------\n",
      "| epoch  7 | time:  0.45s | train auc 0.936 (10.387) | valid auc 0.660 (0.667) | \n",
      "----------------------------------------------------------------------------------------------------\n",
      "----------------------------------------------------------------------------------------------------\n",
      "| epoch  8 | time:  0.45s | train auc 0.949 (10.187) | valid auc 0.655 (0.664) | \n",
      "----------------------------------------------------------------------------------------------------\n",
      "----------------------------------------------------------------------------------------------------\n",
      "| epoch  9 | time:  0.45s | train auc 0.961 (9.717) | valid auc 0.667 (0.657) | \n",
      "----------------------------------------------------------------------------------------------------\n",
      "----------------------------------------------------------------------------------------------------\n",
      "| epoch 10 | time:  0.45s | train auc 0.969 (9.803) | valid auc 0.681 (0.653) | \n",
      "----------------------------------------------------------------------------------------------------\n",
      "----------------------------------------------------------------------------------------------------\n",
      "| epoch 11 | time:  0.45s | train auc 0.975 (9.617) | valid auc 0.689 (0.651) | \n",
      "----------------------------------------------------------------------------------------------------\n",
      "----------------------------------------------------------------------------------------------------\n",
      "| epoch 12 | time:  0.45s | train auc 0.979 (9.235) | valid auc 0.694 (0.650) | \n",
      "----------------------------------------------------------------------------------------------------\n",
      "----------------------------------------------------------------------------------------------------\n",
      "| epoch 13 | time:  0.45s | train auc 0.984 (9.030) | valid auc 0.710 (0.642) | \n",
      "----------------------------------------------------------------------------------------------------\n",
      "----------------------------------------------------------------------------------------------------\n",
      "| epoch 14 | time:  0.45s | train auc 0.985 (9.006) | valid auc 0.712 (0.639) | \n",
      "----------------------------------------------------------------------------------------------------\n",
      "----------------------------------------------------------------------------------------------------\n",
      "| epoch 15 | time:  0.45s | train auc 0.982 (8.617) | valid auc 0.702 (0.642) | \n",
      "----------------------------------------------------------------------------------------------------\n",
      "----------------------------------------------------------------------------------------------------\n",
      "| epoch 16 | time:  0.45s | train auc 0.991 (8.444) | valid auc 0.744 (0.625) | \n",
      "----------------------------------------------------------------------------------------------------\n",
      "----------------------------------------------------------------------------------------------------\n",
      "| epoch 17 | time:  0.45s | train auc 0.990 (8.347) | valid auc 0.753 (0.615) | \n",
      "----------------------------------------------------------------------------------------------------\n",
      "----------------------------------------------------------------------------------------------------\n",
      "| epoch 18 | time:  0.45s | train auc 0.989 (7.637) | valid auc 0.760 (0.597) | \n",
      "----------------------------------------------------------------------------------------------------\n",
      "----------------------------------------------------------------------------------------------------\n",
      "| epoch 19 | time:  0.45s | train auc 0.989 (7.687) | valid auc 0.781 (0.573) | \n",
      "----------------------------------------------------------------------------------------------------\n",
      "----------------------------------------------------------------------------------------------------\n",
      "| epoch 20 | time:  0.45s | train auc 0.964 (7.193) | valid auc 0.744 (0.585) | \n",
      "----------------------------------------------------------------------------------------------------\n",
      "----------------------------------------------------------------------------------------------------\n",
      "| epoch 21 | time:  0.45s | train auc 0.992 (6.626) | valid auc 0.815 (0.534) | \n",
      "----------------------------------------------------------------------------------------------------\n",
      "----------------------------------------------------------------------------------------------------\n",
      "| epoch 22 | time:  0.45s | train auc 0.928 (6.108) | valid auc 0.723 (0.644) | \n",
      "----------------------------------------------------------------------------------------------------\n",
      "----------------------------------------------------------------------------------------------------\n",
      "| epoch 23 | time:  0.45s | train auc 0.925 (6.512) | valid auc 0.719 (0.683) | \n",
      "----------------------------------------------------------------------------------------------------\n",
      "----------------------------------------------------------------------------------------------------\n",
      "| epoch 24 | time:  0.45s | train auc 0.972 (6.640) | valid auc 0.759 (0.566) | \n",
      "----------------------------------------------------------------------------------------------------\n",
      "----------------------------------------------------------------------------------------------------\n",
      "| epoch 25 | time:  0.45s | train auc 0.969 (6.272) | valid auc 0.759 (0.561) | \n",
      "----------------------------------------------------------------------------------------------------\n",
      "----------------------------------------------------------------------------------------------------\n",
      "| epoch 26 | time:  0.45s | train auc 0.916 (5.683) | valid auc 0.717 (0.744) | \n",
      "----------------------------------------------------------------------------------------------------\n",
      "----------------------------------------------------------------------------------------------------\n",
      "| epoch 27 | time:  0.45s | train auc 0.995 (6.653) | valid auc 0.820 (0.516) | \n",
      "----------------------------------------------------------------------------------------------------\n",
      "----------------------------------------------------------------------------------------------------\n",
      "| epoch 28 | time:  0.45s | train auc 0.987 (5.976) | valid auc 0.792 (0.524) | \n",
      "----------------------------------------------------------------------------------------------------\n",
      "----------------------------------------------------------------------------------------------------\n",
      "| epoch 29 | time:  0.45s | train auc 0.991 (5.466) | valid auc 0.807 (0.521) | \n",
      "----------------------------------------------------------------------------------------------------\n",
      "----------------------------------------------------------------------------------------------------\n",
      "| epoch 30 | time:  0.45s | train auc 0.989 (5.314) | valid auc 0.799 (0.518) | \n",
      "----------------------------------------------------------------------------------------------------\n",
      "----------------------------------------------------------------------------------------------------\n",
      "| epoch 31 | time:  0.45s | train auc 0.995 (5.264) | valid auc 0.822 (0.502) | \n",
      "----------------------------------------------------------------------------------------------------\n",
      "----------------------------------------------------------------------------------------------------\n",
      "| epoch 32 | time:  0.45s | train auc 0.994 (5.006) | valid auc 0.822 (0.499) | \n",
      "----------------------------------------------------------------------------------------------------\n",
      "----------------------------------------------------------------------------------------------------\n",
      "| epoch 33 | time:  0.45s | train auc 0.989 (5.151) | valid auc 0.798 (0.517) | \n",
      "----------------------------------------------------------------------------------------------------\n",
      "----------------------------------------------------------------------------------------------------\n",
      "| epoch 34 | time:  0.45s | train auc 0.999 (4.973) | valid auc 0.833 (0.517) | \n",
      "----------------------------------------------------------------------------------------------------\n",
      "----------------------------------------------------------------------------------------------------\n",
      "| epoch 35 | time:  0.45s | train auc 0.997 (5.184) | valid auc 0.829 (0.491) | \n",
      "----------------------------------------------------------------------------------------------------\n",
      "----------------------------------------------------------------------------------------------------\n",
      "| epoch 36 | time:  0.45s | train auc 0.982 (4.592) | valid auc 0.775 (0.567) | \n",
      "----------------------------------------------------------------------------------------------------\n",
      "----------------------------------------------------------------------------------------------------\n",
      "| epoch 37 | time:  0.45s | train auc 0.994 (4.752) | valid auc 0.811 (0.503) | \n",
      "----------------------------------------------------------------------------------------------------\n",
      "----------------------------------------------------------------------------------------------------\n",
      "| epoch 38 | time:  0.45s | train auc 0.990 (4.624) | valid auc 0.796 (0.525) | \n",
      "----------------------------------------------------------------------------------------------------\n",
      "----------------------------------------------------------------------------------------------------\n",
      "| epoch 39 | time:  0.45s | train auc 0.997 (4.733) | valid auc 0.827 (0.491) | \n",
      "----------------------------------------------------------------------------------------------------\n"
     ]
    },
    {
     "data": {
      "text/plain": [
       "0.8270061728395061"
      ]
     },
     "execution_count": 34,
     "metadata": {},
     "output_type": "execute_result"
    }
   ],
   "source": [
    "run_experiment('AttnToNum', ixs_lo=ixs_lo, is_verbose=True)"
   ]
  },
  {
   "cell_type": "markdown",
   "id": "1f0e77bb-bab0-4c3b-ba4b-83b17bad2baa",
   "metadata": {},
   "source": [
    "## Run AttnToNum Without ScaleNum Exp"
   ]
  },
  {
   "cell_type": "code",
   "execution_count": 35,
   "id": "32729d41-5b2f-4c4e-a595-2172160c667d",
   "metadata": {
    "tags": []
   },
   "outputs": [
    {
     "name": "stderr",
     "output_type": "stream",
     "text": [
      "100%|██████████████████████████████████████████████████████████████████████████████| 907/907 [00:00<00:00, 13917.08it/s]\n",
      "100%|██████████████████████████████████████████████████████████████████████████████| 907/907 [00:00<00:00, 14443.40it/s]\n",
      "100%|██████████████████████████████████████████████████████████████████████████████| 161/161 [00:00<00:00, 14332.65it/s]\n"
     ]
    },
    {
     "name": "stdout",
     "output_type": "stream",
     "text": [
      "----------------------------------------------------------------------------------------------------\n",
      "| epoch  0 | time:  0.42s | train auc 0.630 (13.012) | valid auc 0.574 (0.683) | \n",
      "----------------------------------------------------------------------------------------------------\n",
      "----------------------------------------------------------------------------------------------------\n",
      "| epoch  1 | time:  0.41s | train auc 0.717 (12.904) | valid auc 0.599 (0.678) | \n",
      "----------------------------------------------------------------------------------------------------\n",
      "----------------------------------------------------------------------------------------------------\n",
      "| epoch  2 | time:  0.42s | train auc 0.783 (12.189) | valid auc 0.616 (0.674) | \n",
      "----------------------------------------------------------------------------------------------------\n",
      "----------------------------------------------------------------------------------------------------\n",
      "| epoch  3 | time:  0.42s | train auc 0.833 (11.742) | valid auc 0.630 (0.672) | \n",
      "----------------------------------------------------------------------------------------------------\n",
      "----------------------------------------------------------------------------------------------------\n",
      "| epoch  4 | time:  0.42s | train auc 0.873 (11.012) | valid auc 0.645 (0.666) | \n",
      "----------------------------------------------------------------------------------------------------\n",
      "----------------------------------------------------------------------------------------------------\n",
      "| epoch  5 | time:  0.41s | train auc 0.904 (10.642) | valid auc 0.657 (0.662) | \n",
      "----------------------------------------------------------------------------------------------------\n",
      "----------------------------------------------------------------------------------------------------\n",
      "| epoch  6 | time:  0.41s | train auc 0.925 (10.886) | valid auc 0.667 (0.658) | \n",
      "----------------------------------------------------------------------------------------------------\n",
      "----------------------------------------------------------------------------------------------------\n",
      "| epoch  7 | time:  0.42s | train auc 0.942 (10.422) | valid auc 0.676 (0.653) | \n",
      "----------------------------------------------------------------------------------------------------\n",
      "----------------------------------------------------------------------------------------------------\n",
      "| epoch  8 | time:  0.41s | train auc 0.955 (9.707) | valid auc 0.690 (0.650) | \n",
      "----------------------------------------------------------------------------------------------------\n",
      "----------------------------------------------------------------------------------------------------\n",
      "| epoch  9 | time:  0.41s | train auc 0.962 (9.228) | valid auc 0.698 (0.647) | \n",
      "----------------------------------------------------------------------------------------------------\n",
      "----------------------------------------------------------------------------------------------------\n",
      "| epoch 10 | time:  0.42s | train auc 0.969 (9.277) | valid auc 0.707 (0.643) | \n",
      "----------------------------------------------------------------------------------------------------\n",
      "----------------------------------------------------------------------------------------------------\n",
      "| epoch 11 | time:  0.41s | train auc 0.975 (9.351) | valid auc 0.710 (0.645) | \n",
      "----------------------------------------------------------------------------------------------------\n",
      "----------------------------------------------------------------------------------------------------\n",
      "| epoch 12 | time:  0.41s | train auc 0.981 (8.994) | valid auc 0.718 (0.638) | \n",
      "----------------------------------------------------------------------------------------------------\n",
      "----------------------------------------------------------------------------------------------------\n",
      "| epoch 13 | time:  0.41s | train auc 0.984 (8.747) | valid auc 0.724 (0.635) | \n",
      "----------------------------------------------------------------------------------------------------\n",
      "----------------------------------------------------------------------------------------------------\n",
      "| epoch 14 | time:  0.41s | train auc 0.988 (8.389) | valid auc 0.729 (0.632) | \n",
      "----------------------------------------------------------------------------------------------------\n",
      "----------------------------------------------------------------------------------------------------\n",
      "| epoch 15 | time:  0.41s | train auc 0.990 (8.139) | valid auc 0.731 (0.630) | \n",
      "----------------------------------------------------------------------------------------------------\n",
      "----------------------------------------------------------------------------------------------------\n",
      "| epoch 16 | time:  0.42s | train auc 0.991 (8.276) | valid auc 0.733 (0.628) | \n",
      "----------------------------------------------------------------------------------------------------\n",
      "----------------------------------------------------------------------------------------------------\n",
      "| epoch 17 | time:  0.41s | train auc 0.994 (8.172) | valid auc 0.732 (0.627) | \n",
      "----------------------------------------------------------------------------------------------------\n",
      "----------------------------------------------------------------------------------------------------\n",
      "| epoch 18 | time:  0.41s | train auc 0.995 (8.176) | valid auc 0.731 (0.626) | \n",
      "----------------------------------------------------------------------------------------------------\n",
      "----------------------------------------------------------------------------------------------------\n",
      "| epoch 19 | time:  0.42s | train auc 0.996 (7.835) | valid auc 0.731 (0.623) | \n",
      "----------------------------------------------------------------------------------------------------\n",
      "----------------------------------------------------------------------------------------------------\n",
      "| epoch 20 | time:  0.41s | train auc 0.996 (7.602) | valid auc 0.735 (0.620) | \n",
      "----------------------------------------------------------------------------------------------------\n",
      "----------------------------------------------------------------------------------------------------\n",
      "| epoch 21 | time:  0.41s | train auc 0.997 (7.347) | valid auc 0.740 (0.615) | \n",
      "----------------------------------------------------------------------------------------------------\n",
      "----------------------------------------------------------------------------------------------------\n",
      "| epoch 22 | time:  0.41s | train auc 0.997 (7.173) | valid auc 0.743 (0.609) | \n",
      "----------------------------------------------------------------------------------------------------\n",
      "----------------------------------------------------------------------------------------------------\n",
      "| epoch 23 | time:  0.41s | train auc 0.997 (6.822) | valid auc 0.742 (0.608) | \n",
      "----------------------------------------------------------------------------------------------------\n",
      "----------------------------------------------------------------------------------------------------\n",
      "| epoch 24 | time:  0.41s | train auc 0.998 (6.876) | valid auc 0.740 (0.606) | \n",
      "----------------------------------------------------------------------------------------------------\n",
      "----------------------------------------------------------------------------------------------------\n",
      "| epoch 25 | time:  0.41s | train auc 0.998 (6.828) | valid auc 0.740 (0.606) | \n",
      "----------------------------------------------------------------------------------------------------\n",
      "----------------------------------------------------------------------------------------------------\n",
      "| epoch 26 | time:  0.41s | train auc 0.998 (6.266) | valid auc 0.734 (0.608) | \n",
      "----------------------------------------------------------------------------------------------------\n",
      "----------------------------------------------------------------------------------------------------\n",
      "| epoch 27 | time:  0.42s | train auc 0.998 (6.341) | valid auc 0.737 (0.601) | \n",
      "----------------------------------------------------------------------------------------------------\n",
      "----------------------------------------------------------------------------------------------------\n",
      "| epoch 28 | time:  0.41s | train auc 0.999 (6.126) | valid auc 0.738 (0.599) | \n",
      "----------------------------------------------------------------------------------------------------\n",
      "----------------------------------------------------------------------------------------------------\n",
      "| epoch 29 | time:  0.41s | train auc 0.999 (6.160) | valid auc 0.739 (0.604) | \n",
      "----------------------------------------------------------------------------------------------------\n",
      "----------------------------------------------------------------------------------------------------\n",
      "| epoch 30 | time:  0.42s | train auc 0.999 (5.773) | valid auc 0.740 (0.597) | \n",
      "----------------------------------------------------------------------------------------------------\n",
      "----------------------------------------------------------------------------------------------------\n",
      "| epoch 31 | time:  0.42s | train auc 0.997 (5.812) | valid auc 0.734 (0.616) | \n",
      "----------------------------------------------------------------------------------------------------\n",
      "----------------------------------------------------------------------------------------------------\n",
      "| epoch 32 | time:  0.42s | train auc 0.996 (5.414) | valid auc 0.733 (0.623) | \n",
      "----------------------------------------------------------------------------------------------------\n",
      "----------------------------------------------------------------------------------------------------\n",
      "| epoch 33 | time:  0.42s | train auc 0.998 (4.925) | valid auc 0.748 (0.604) | \n",
      "----------------------------------------------------------------------------------------------------\n",
      "----------------------------------------------------------------------------------------------------\n",
      "| epoch 34 | time:  0.42s | train auc 0.996 (4.551) | valid auc 0.746 (0.618) | \n",
      "----------------------------------------------------------------------------------------------------\n",
      "----------------------------------------------------------------------------------------------------\n",
      "| epoch 35 | time:  0.42s | train auc 0.998 (4.935) | valid auc 0.759 (0.599) | \n",
      "----------------------------------------------------------------------------------------------------\n",
      "----------------------------------------------------------------------------------------------------\n",
      "| epoch 36 | time:  0.41s | train auc 0.999 (4.372) | valid auc 0.761 (0.603) | \n",
      "----------------------------------------------------------------------------------------------------\n",
      "----------------------------------------------------------------------------------------------------\n",
      "| epoch 37 | time:  0.41s | train auc 1.000 (4.712) | valid auc 0.768 (0.588) | \n",
      "----------------------------------------------------------------------------------------------------\n",
      "----------------------------------------------------------------------------------------------------\n",
      "| epoch 38 | time:  0.42s | train auc 0.999 (4.076) | valid auc 0.763 (0.619) | \n",
      "----------------------------------------------------------------------------------------------------\n",
      "----------------------------------------------------------------------------------------------------\n",
      "| epoch 39 | time:  0.41s | train auc 1.000 (4.549) | valid auc 0.766 (0.602) | \n",
      "----------------------------------------------------------------------------------------------------\n"
     ]
    },
    {
     "data": {
      "text/plain": [
       "0.765895061728395"
      ]
     },
     "execution_count": 35,
     "metadata": {},
     "output_type": "execute_result"
    }
   ],
   "source": [
    "run_experiment('AttnToNumNoScaleNum', ixs_lo=ixs_lo, is_verbose=True)"
   ]
  },
  {
   "cell_type": "markdown",
   "id": "dc7c91f0-d175-4d5f-89a6-b1291a21b823",
   "metadata": {},
   "source": [
    "## Run All Experiments"
   ]
  },
  {
   "cell_type": "code",
   "execution_count": 36,
   "id": "431e25a5-138b-4e47-a9dd-9dccf62de543",
   "metadata": {
    "tags": []
   },
   "outputs": [],
   "source": [
    "def run_experiments(is_verbose=False, n_exp=10):\n",
    "    aucs_lo = {\n",
    "        'TextCnn': [],\n",
    "        'ScaleNum': [],\n",
    "        'AttnToNum': [],\n",
    "        'AttnToNumNoScaleNum': [],\n",
    "    }\n",
    "    \n",
    "    exp_runs = list(range(n_exp))\n",
    "    \n",
    "    for run in (pbar := tqdm.tqdm(exp_runs)):\n",
    "        ixs_lo = gen_ixs_lo()\n",
    "        for model_s, aucs in aucs_lo.items():\n",
    "            holdout_auc = run_experiment(model_s, ixs_lo, is_verbose=is_verbose)\n",
    "            aucs.append(holdout_auc)\n",
    "            pbar.set_description(f'completed run: {run + 1}, model: {model_s}, holdout AUC: {holdout_auc:.2f}')\n",
    "    \n",
    "    return aucs_lo"
   ]
  },
  {
   "cell_type": "code",
   "execution_count": 37,
   "id": "c475faa6-aed3-4621-a580-141d2cc23d82",
   "metadata": {
    "tags": []
   },
   "outputs": [
    {
     "name": "stderr",
     "output_type": "stream",
     "text": [
      "completed run: 30, model: AttnToNumNoScaleNum, holdout AUC: 0.67: 100%|█████████████████| 30/30 [25:01<00:00, 50.03s/it]\n"
     ]
    }
   ],
   "source": [
    "aucs_lo = run_experiments(n_exp=30)"
   ]
  },
  {
   "cell_type": "code",
   "execution_count": 38,
   "id": "4a16f8d0-0cce-4395-8ad5-736eec2ca626",
   "metadata": {
    "tags": []
   },
   "outputs": [],
   "source": [
    "aucs_df = pd.DataFrame(aucs_lo)"
   ]
  },
  {
   "cell_type": "code",
   "execution_count": 39,
   "id": "9be927b3-54d3-40a8-ac3d-65303fdae5f7",
   "metadata": {
    "tags": []
   },
   "outputs": [
    {
     "data": {
      "text/html": [
       "<div>\n",
       "<style scoped>\n",
       "    .dataframe tbody tr th:only-of-type {\n",
       "        vertical-align: middle;\n",
       "    }\n",
       "\n",
       "    .dataframe tbody tr th {\n",
       "        vertical-align: top;\n",
       "    }\n",
       "\n",
       "    .dataframe thead th {\n",
       "        text-align: right;\n",
       "    }\n",
       "</style>\n",
       "<table border=\"1\" class=\"dataframe\">\n",
       "  <thead>\n",
       "    <tr style=\"text-align: right;\">\n",
       "      <th></th>\n",
       "      <th>TextCnn</th>\n",
       "      <th>ScaleNum</th>\n",
       "      <th>AttnToNum</th>\n",
       "      <th>AttnToNumNoScaleNum</th>\n",
       "    </tr>\n",
       "  </thead>\n",
       "  <tbody>\n",
       "    <tr>\n",
       "      <th>0</th>\n",
       "      <td>0.692901</td>\n",
       "      <td>0.666667</td>\n",
       "      <td>0.831636</td>\n",
       "      <td>0.700772</td>\n",
       "    </tr>\n",
       "    <tr>\n",
       "      <th>23</th>\n",
       "      <td>0.701852</td>\n",
       "      <td>0.712037</td>\n",
       "      <td>0.849691</td>\n",
       "      <td>0.722685</td>\n",
       "    </tr>\n",
       "    <tr>\n",
       "      <th>29</th>\n",
       "      <td>0.761111</td>\n",
       "      <td>0.726389</td>\n",
       "      <td>0.856481</td>\n",
       "      <td>0.668210</td>\n",
       "    </tr>\n",
       "    <tr>\n",
       "      <th>18</th>\n",
       "      <td>0.773611</td>\n",
       "      <td>0.745370</td>\n",
       "      <td>0.836728</td>\n",
       "      <td>0.777469</td>\n",
       "    </tr>\n",
       "    <tr>\n",
       "      <th>26</th>\n",
       "      <td>0.646991</td>\n",
       "      <td>0.692438</td>\n",
       "      <td>0.706173</td>\n",
       "      <td>0.728858</td>\n",
       "    </tr>\n",
       "    <tr>\n",
       "      <th>27</th>\n",
       "      <td>0.701235</td>\n",
       "      <td>0.648302</td>\n",
       "      <td>0.782870</td>\n",
       "      <td>0.721451</td>\n",
       "    </tr>\n",
       "    <tr>\n",
       "      <th>1</th>\n",
       "      <td>0.700154</td>\n",
       "      <td>0.688889</td>\n",
       "      <td>0.850617</td>\n",
       "      <td>0.671296</td>\n",
       "    </tr>\n",
       "    <tr>\n",
       "      <th>12</th>\n",
       "      <td>0.722068</td>\n",
       "      <td>0.737191</td>\n",
       "      <td>0.865586</td>\n",
       "      <td>0.710185</td>\n",
       "    </tr>\n",
       "    <tr>\n",
       "      <th>24</th>\n",
       "      <td>0.696296</td>\n",
       "      <td>0.754630</td>\n",
       "      <td>0.726698</td>\n",
       "      <td>0.673457</td>\n",
       "    </tr>\n",
       "    <tr>\n",
       "      <th>11</th>\n",
       "      <td>0.693519</td>\n",
       "      <td>0.751543</td>\n",
       "      <td>0.846451</td>\n",
       "      <td>0.731944</td>\n",
       "    </tr>\n",
       "  </tbody>\n",
       "</table>\n",
       "</div>"
      ],
      "text/plain": [
       "     TextCnn  ScaleNum  AttnToNum  AttnToNumNoScaleNum\n",
       "0   0.692901  0.666667   0.831636             0.700772\n",
       "23  0.701852  0.712037   0.849691             0.722685\n",
       "29  0.761111  0.726389   0.856481             0.668210\n",
       "18  0.773611  0.745370   0.836728             0.777469\n",
       "26  0.646991  0.692438   0.706173             0.728858\n",
       "27  0.701235  0.648302   0.782870             0.721451\n",
       "1   0.700154  0.688889   0.850617             0.671296\n",
       "12  0.722068  0.737191   0.865586             0.710185\n",
       "24  0.696296  0.754630   0.726698             0.673457\n",
       "11  0.693519  0.751543   0.846451             0.731944"
      ]
     },
     "execution_count": 39,
     "metadata": {},
     "output_type": "execute_result"
    }
   ],
   "source": [
    "aucs_df.sample(10)"
   ]
  },
  {
   "cell_type": "code",
   "execution_count": 40,
   "id": "49631876-74cb-4769-9cef-ab7d4c6b8c0a",
   "metadata": {
    "tags": []
   },
   "outputs": [
    {
     "data": {
      "text/plain": [
       "0.11131430041152264"
      ]
     },
     "execution_count": 40,
     "metadata": {},
     "output_type": "execute_result"
    }
   ],
   "source": [
    "(aucs_df.AttnToNum - aucs_df.TextCnn).mean()"
   ]
  },
  {
   "cell_type": "code",
   "execution_count": 41,
   "id": "904ab1ea-99f5-4f20-a076-90a0e11684fb",
   "metadata": {
    "tags": []
   },
   "outputs": [],
   "source": [
    "EmbeddingLo = {\n",
    "    'TextCnn': 'Basic',\n",
    "    'ScaleNum': 'Magnitude Only',\n",
    "    'AttnToNumNoScaleNum': 'Context Only',\n",
    "    'AttnToNum': 'Magnitude & Context'\n",
    "}\n",
    "\n",
    "aucs_df_long = (\n",
    "    aucs_df\n",
    "    .assign(experiment=range(1, aucs_df.shape[0]+1))\n",
    "    .melt(\n",
    "        id_vars='experiment',\n",
    "        value_vars=['TextCnn', 'ScaleNum','AttnToNumNoScaleNum', 'AttnToNum'],\n",
    "        value_name='AUC',\n",
    "        var_name='model'\n",
    "    )\n",
    "    .assign(\n",
    "        experiment_group = lambda df: df.experiment.map(\n",
    "            lambda _: \n",
    "            '1-10' if _ <= 10\n",
    "            else '11-20' if _ <= 20\n",
    "            else '21-30'\n",
    "        ),\n",
    "        Embedding = lambda df: df.model.map(EmbeddingLo.get),\n",
    "    )\n",
    ")"
   ]
  },
  {
   "cell_type": "code",
   "execution_count": 46,
   "id": "7de586bf-e027-4f7a-8a49-7336976233db",
   "metadata": {
    "tags": []
   },
   "outputs": [
    {
     "data": {
      "text/html": [
       "<div>\n",
       "<style scoped>\n",
       "    .dataframe tbody tr th:only-of-type {\n",
       "        vertical-align: middle;\n",
       "    }\n",
       "\n",
       "    .dataframe tbody tr th {\n",
       "        vertical-align: top;\n",
       "    }\n",
       "\n",
       "    .dataframe thead th {\n",
       "        text-align: right;\n",
       "    }\n",
       "</style>\n",
       "<table border=\"1\" class=\"dataframe\">\n",
       "  <thead>\n",
       "    <tr style=\"text-align: right;\">\n",
       "      <th></th>\n",
       "      <th>mu</th>\n",
       "    </tr>\n",
       "    <tr>\n",
       "      <th>Embedding</th>\n",
       "      <th></th>\n",
       "    </tr>\n",
       "  </thead>\n",
       "  <tbody>\n",
       "    <tr>\n",
       "      <th>Basic</th>\n",
       "      <td>0.703377</td>\n",
       "    </tr>\n",
       "    <tr>\n",
       "      <th>Context Only</th>\n",
       "      <td>0.720355</td>\n",
       "    </tr>\n",
       "    <tr>\n",
       "      <th>Magnitude &amp; Context</th>\n",
       "      <td>0.814691</td>\n",
       "    </tr>\n",
       "    <tr>\n",
       "      <th>Magnitude Only</th>\n",
       "      <td>0.708560</td>\n",
       "    </tr>\n",
       "  </tbody>\n",
       "</table>\n",
       "</div>"
      ],
      "text/plain": [
       "                           mu\n",
       "Embedding                    \n",
       "Basic                0.703377\n",
       "Context Only         0.720355\n",
       "Magnitude & Context  0.814691\n",
       "Magnitude Only       0.708560"
      ]
     },
     "execution_count": 46,
     "metadata": {},
     "output_type": "execute_result"
    }
   ],
   "source": [
    "(\n",
    "    aucs_df_long\n",
    "    .groupby(['Embedding'])\n",
    "    .agg(\n",
    "        mu = ('AUC', 'mean')\n",
    "    )\n",
    ")"
   ]
  },
  {
   "cell_type": "code",
   "execution_count": 47,
   "id": "f52b4320-fb2f-4dd0-9ad5-411ce214dca0",
   "metadata": {
    "tags": []
   },
   "outputs": [
    {
     "name": "stderr",
     "output_type": "stream",
     "text": [
      "/tmp/ipykernel_452521/1384544129.py:1: FutureWarning: use_inf_as_na option is deprecated and will be removed in a future version. Convert inf values to NaN before operating instead.\n",
      "  with pd.option_context(\"mode.use_inf_as_na\", True):\n",
      "/home/jod204/mambaforge/envs/jod204_pytorch/lib/python3.10/site-packages/seaborn/_core/rules.py:72: FutureWarning: is_categorical_dtype is deprecated and will be removed in a future version. Use isinstance(dtype, CategoricalDtype) instead\n",
      "  if pd.api.types.is_categorical_dtype(vector):\n",
      "/home/jod204/mambaforge/envs/jod204_pytorch/lib/python3.10/site-packages/seaborn/_core/rules.py:72: FutureWarning: is_categorical_dtype is deprecated and will be removed in a future version. Use isinstance(dtype, CategoricalDtype) instead\n",
      "  if pd.api.types.is_categorical_dtype(vector):\n",
      "/home/jod204/mambaforge/envs/jod204_pytorch/lib/python3.10/site-packages/seaborn/_core/rules.py:72: FutureWarning: is_categorical_dtype is deprecated and will be removed in a future version. Use isinstance(dtype, CategoricalDtype) instead\n",
      "  if pd.api.types.is_categorical_dtype(vector):\n",
      "/home/jod204/mambaforge/envs/jod204_pytorch/lib/python3.10/site-packages/seaborn/_core/rules.py:72: FutureWarning: is_categorical_dtype is deprecated and will be removed in a future version. Use isinstance(dtype, CategoricalDtype) instead\n",
      "  if pd.api.types.is_categorical_dtype(vector):\n",
      "/home/jod204/mambaforge/envs/jod204_pytorch/lib/python3.10/site-packages/seaborn/_core/rules.py:72: FutureWarning: is_categorical_dtype is deprecated and will be removed in a future version. Use isinstance(dtype, CategoricalDtype) instead\n",
      "  if pd.api.types.is_categorical_dtype(vector):\n",
      "/home/jod204/mambaforge/envs/jod204_pytorch/lib/python3.10/site-packages/seaborn/_core/rules.py:72: FutureWarning: is_categorical_dtype is deprecated and will be removed in a future version. Use isinstance(dtype, CategoricalDtype) instead\n",
      "  if pd.api.types.is_categorical_dtype(vector):\n",
      "/home/jod204/mambaforge/envs/jod204_pytorch/lib/python3.10/site-packages/seaborn/_core/rules.py:72: FutureWarning: is_categorical_dtype is deprecated and will be removed in a future version. Use isinstance(dtype, CategoricalDtype) instead\n",
      "  if pd.api.types.is_categorical_dtype(vector):\n",
      "/home/jod204/mambaforge/envs/jod204_pytorch/lib/python3.10/site-packages/seaborn/_core/rules.py:72: FutureWarning: is_categorical_dtype is deprecated and will be removed in a future version. Use isinstance(dtype, CategoricalDtype) instead\n",
      "  if pd.api.types.is_categorical_dtype(vector):\n",
      "/home/jod204/mambaforge/envs/jod204_pytorch/lib/python3.10/site-packages/seaborn/_core/rules.py:72: FutureWarning: is_categorical_dtype is deprecated and will be removed in a future version. Use isinstance(dtype, CategoricalDtype) instead\n",
      "  if pd.api.types.is_categorical_dtype(vector):\n",
      "/home/jod204/mambaforge/envs/jod204_pytorch/lib/python3.10/site-packages/seaborn/_core/plot.py:1491: FutureWarning: use_inf_as_na option is deprecated and will be removed in a future version. Convert inf values to NaN before operating instead.\n",
      "  with pd.option_context(\"mode.use_inf_as_na\", True):\n",
      "/home/jod204/mambaforge/envs/jod204_pytorch/lib/python3.10/site-packages/seaborn/_core/plot.py:1491: FutureWarning: use_inf_as_na option is deprecated and will be removed in a future version. Convert inf values to NaN before operating instead.\n",
      "  with pd.option_context(\"mode.use_inf_as_na\", True):\n",
      "/home/jod204/mambaforge/envs/jod204_pytorch/lib/python3.10/site-packages/seaborn/_core/plot.py:1491: FutureWarning: use_inf_as_na option is deprecated and will be removed in a future version. Convert inf values to NaN before operating instead.\n",
      "  with pd.option_context(\"mode.use_inf_as_na\", True):\n"
     ]
    },
    {
     "data": {
      "image/png": "[encoded data removed]",
      "text/plain": [
       "<seaborn._core.plot.Plot at 0x7f0800445f60>"
      ]
     },
     "execution_count": 47,
     "metadata": {
      "image/png": {
       "height": 378.25,
       "width": 696.5749999999999
      }
     },
     "output_type": "execute_result"
    }
   ],
   "source": [
    "with pd.option_context(\"mode.use_inf_as_na\", True):\n",
    "    plot = so.Plot(\n",
    "        data=aucs_df_long,\n",
    "        x='experiment', y='AUC', color='Embedding'\n",
    "    ).add(so.Bar(), so.Dodge()).facet(row='experiment_group').share(x=False)\n",
    "plot"
   ]
  },
  {
   "cell_type": "markdown",
   "id": "e82dff20-29ac-40db-8e77-a1c8da4839d3",
   "metadata": {},
   "source": [
    "# P-Values"
   ]
  },
  {
   "cell_type": "markdown",
   "id": "4c8dd96c-6c4f-483e-b0ee-73dc7cc93e7e",
   "metadata": {},
   "source": [
    "AttentionToNum outperforms basic embeddings if and only if the numbers are scaled first.  \n",
    "This implies that both scaling and attention are important for encoding numerical information."
   ]
  },
  {
   "cell_type": "code",
   "execution_count": 48,
   "id": "ef18e2f0-9f8a-4922-a81a-36920700725d",
   "metadata": {
    "tags": []
   },
   "outputs": [],
   "source": [
    "def get_p_value(emb1:str, emb2:str, n_sims=1000):\n",
    "    emb_to_model_lo = {v:k for k,v in EmbeddingLo.items()}\n",
    "    emb1_aucs = aucs_df[emb_to_model_lo[emb1]]\n",
    "    emb2_aucs = aucs_df[emb_to_model_lo[emb2]]\n",
    "    diff = emb1_aucs - emb2_aucs\n",
    "    true_gap = diff.sum()\n",
    "    n_exp = len(aucs_df)\n",
    "    \n",
    "    sim_gaps = [ (diff @ np.random.choice([1, -1], n_exp)).sum() for _ in range(n_sims)]\n",
    "    return {\n",
    "        '2-side': ((np.abs(sim_gaps) > true_gap).sum() + 1)/n_sims,\n",
    "        'single': ((sim_gaps > true_gap).sum() + 1)/n_sims,\n",
    "        f'{emb1} μ': np.round(emb1_aucs.mean(), 3),\n",
    "        f'{emb2} μ': np.round(emb2_aucs.mean(), 3),\n",
    "    }"
   ]
  },
  {
   "cell_type": "code",
   "execution_count": 49,
   "id": "d97947d3-e109-4d7a-8dbc-62edf9e404bd",
   "metadata": {
    "tags": []
   },
   "outputs": [
    {
     "data": {
      "text/plain": [
       "{'2-side': 0.001,\n",
       " 'single': 0.001,\n",
       " 'Magnitude & Context μ': 0.815,\n",
       " 'Basic μ': 0.703}"
      ]
     },
     "execution_count": 49,
     "metadata": {},
     "output_type": "execute_result"
    }
   ],
   "source": [
    "get_p_value('Magnitude & Context', 'Basic')"
   ]
  },
  {
   "cell_type": "code",
   "execution_count": 50,
   "id": "7023c724-3b12-4b82-9aa3-42bf44c36f11",
   "metadata": {
    "tags": []
   },
   "outputs": [
    {
     "data": {
      "text/plain": [
       "{'2-side': 0.001,\n",
       " 'single': 0.001,\n",
       " 'Magnitude & Context μ': 0.815,\n",
       " 'Magnitude Only μ': 0.709}"
      ]
     },
     "execution_count": 50,
     "metadata": {},
     "output_type": "execute_result"
    }
   ],
   "source": [
    "get_p_value('Magnitude & Context', 'Magnitude Only')"
   ]
  },
  {
   "cell_type": "code",
   "execution_count": 51,
   "id": "5bd2fcc4-b431-44a4-a265-ed889b1f297d",
   "metadata": {
    "tags": []
   },
   "outputs": [
    {
     "data": {
      "text/plain": [
       "{'2-side': 0.001,\n",
       " 'single': 0.001,\n",
       " 'Magnitude & Context μ': 0.815,\n",
       " 'Context Only μ': 0.72}"
      ]
     },
     "execution_count": 51,
     "metadata": {},
     "output_type": "execute_result"
    }
   ],
   "source": [
    "get_p_value('Magnitude & Context', 'Context Only')"
   ]
  },
  {
   "cell_type": "code",
   "execution_count": 52,
   "id": "aa4bf204-3fc6-4c5c-bc0b-3552bafe5fbc",
   "metadata": {
    "tags": []
   },
   "outputs": [
    {
     "data": {
      "text/plain": [
       "{'2-side': 0.425, 'single': 0.223, 'Magnitude Only μ': 0.709, 'Basic μ': 0.703}"
      ]
     },
     "execution_count": 52,
     "metadata": {},
     "output_type": "execute_result"
    }
   ],
   "source": [
    "get_p_value('Magnitude Only', 'Basic')"
   ]
  },
  {
   "cell_type": "code",
   "execution_count": 53,
   "id": "781ab8c7-d50f-4c28-9e44-dfa27d32e152",
   "metadata": {},
   "outputs": [
    {
     "data": {
      "text/plain": [
       "{'2-side': 0.084, 'single': 0.038, 'Context Only μ': 0.72, 'Basic μ': 0.703}"
      ]
     },
     "execution_count": 53,
     "metadata": {},
     "output_type": "execute_result"
    }
   ],
   "source": [
    "get_p_value('Context Only', 'Basic')"
   ]
  },
  {
   "cell_type": "code",
   "execution_count": null,
   "id": "83122898-6796-45c9-a31a-8496ecdd4980",
   "metadata": {},
   "outputs": [],
   "source": []
  }
 ],
 "metadata": {
  "kernelspec": {
   "display_name": "Python 3 (ipykernel)",
   "language": "python",
   "name": "python3"
  },
  "language_info": {
   "codemirror_mode": {
    "name": "ipython",
    "version": 3
   },
   "file_extension": ".py",
   "mimetype": "text/x-python",
   "name": "python",
   "nbconvert_exporter": "python",
   "pygments_lexer": "ipython3",
   "version": "3.10.9"
  }
 },
 "nbformat": 4,
 "nbformat_minor": 5
}
