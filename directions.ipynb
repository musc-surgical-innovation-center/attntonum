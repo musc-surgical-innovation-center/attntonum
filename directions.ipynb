{
 "cells": [
  {
   "cell_type": "markdown",
   "id": "0173016c-7cdb-4265-8d65-248e238c9a9b",
   "metadata": {
    "tags": []
   },
   "source": [
    "# Imports"
   ]
  },
  {
   "cell_type": "code",
   "execution_count": 1,
   "id": "ceab7348-0f9e-4b26-b337-7ed8560e98dd",
   "metadata": {
    "tags": []
   },
   "outputs": [],
   "source": [
    "import enum\n",
    "from importlib import reload\n",
    "from itertools import permutations\n",
    "import re\n",
    "from typing import Literal"
   ]
  },
  {
   "cell_type": "code",
   "execution_count": 2,
   "id": "4f844376-9af5-4cea-a592-9d111e639df5",
   "metadata": {
    "tags": []
   },
   "outputs": [],
   "source": [
    "import nltk\n",
    "import numpy as np\n",
    "import pandas as pd\n",
    "import seaborn.objects as so\n",
    "from sklearn.metrics import roc_auc_score\n",
    "from sklearn.model_selection import train_test_split\n",
    "import time\n",
    "from toolz import pipe as p\n",
    "import torch\n",
    "from torch.utils.data import DataLoader\n",
    "import tqdm"
   ]
  },
  {
   "cell_type": "code",
   "execution_count": 3,
   "id": "9f39ff8e-07f3-4a90-8951-02fb826befb2",
   "metadata": {
    "tags": []
   },
   "outputs": [],
   "source": [
    "import datasets as ds\n",
    "import experiment_utils as eu\n",
    "import hyperparam_config as config\n",
    "import text_cleaners\n",
    "import text_cnn as cnn\n",
    "import text_utils as tu\n",
    "import vocabs as v"
   ]
  },
  {
   "cell_type": "markdown",
   "id": "c2610f0b-6477-40b2-9f1f-6f6ec3a47f09",
   "metadata": {},
   "source": [
    "# Simulate Data"
   ]
  },
  {
   "cell_type": "code",
   "execution_count": 4,
   "id": "eef6ef9f-4827-4fd9-b4a6-71ad734fdfe3",
   "metadata": {
    "tags": []
   },
   "outputs": [],
   "source": [
    "def gutenberg_fn(author:str, book:str):\n",
    "    return lambda fn: getattr(nltk.corpus.gutenberg, fn)(f'{author}-{book}.txt')\n",
    "\n",
    "caesar, macbeth, hamlet = [gutenberg_fn('shakespeare', _) for _ in ['caesar', 'macbeth', 'hamlet']]"
   ]
  },
  {
   "cell_type": "code",
   "execution_count": 5,
   "id": "854d52c8-2310-4ebb-9cf2-7a942e5485a0",
   "metadata": {
    "tags": []
   },
   "outputs": [],
   "source": [
    "seq_len = 35"
   ]
  },
  {
   "cell_type": "code",
   "execution_count": 6,
   "id": "6c61d953-ef33-4374-9ee6-c8dfed5d4efe",
   "metadata": {
    "tags": []
   },
   "outputs": [],
   "source": [
    "caesar_start_ixs = list(range(0, len(caesar('words')), seq_len))\n",
    "hamlet_start_ixs = list(range(0, len(hamlet('words')), seq_len))"
   ]
  },
  {
   "cell_type": "code",
   "execution_count": 7,
   "id": "2ee94489-737a-4960-9617-66a612094ae7",
   "metadata": {
    "tags": []
   },
   "outputs": [
    {
     "data": {
      "text/plain": [
       "(739, 1068)"
      ]
     },
     "execution_count": 7,
     "metadata": {},
     "output_type": "execute_result"
    }
   ],
   "source": [
    "len(caesar_start_ixs), len(hamlet_start_ixs)"
   ]
  },
  {
   "cell_type": "code",
   "execution_count": 8,
   "id": "f3bcfb24-299b-4ae2-b46a-9c7e3e959c50",
   "metadata": {
    "tags": []
   },
   "outputs": [],
   "source": [
    "shakespeare = (\n",
    "    pd.concat(\n",
    "        [\n",
    "            (\n",
    "                pd.DataFrame(\n",
    "                    [\n",
    "                     ' '.join(gutenberg_fn('shakespeare', book)('words')[s_ix:s_ix+seq_len])\n",
    "                        for s_ix in start_ixs\n",
    "                    ],\n",
    "                    columns = ['sentence']\n",
    "            )\n",
    "            .assign(\n",
    "                book = book,\n",
    "            )\n",
    "            ) for book, start_ixs in [('caesar', caesar_start_ixs), ('hamlet', hamlet_start_ixs)]\n",
    "        ], axis = 0\n",
    "    )\n",
    "    .assign(\n",
    "        clean_txt = lambda df: df.sentence.map(text_cleaners.cleanTxt)\n",
    "    )\n",
    "    .assign(\n",
    "        n_words = lambda df: df.sentence.map(lambda s: len(s.split()))\n",
    "    )\n",
    "    .query('n_words >= 10')\n",
    ")"
   ]
  },
  {
   "cell_type": "code",
   "execution_count": 9,
   "id": "3ddeca20-2d8e-45bd-b780-24510aa06054",
   "metadata": {
    "tags": []
   },
   "outputs": [
    {
     "data": {
      "text/html": [
       "<div>\n",
       "<style scoped>\n",
       "    .dataframe tbody tr th:only-of-type {\n",
       "        vertical-align: middle;\n",
       "    }\n",
       "\n",
       "    .dataframe tbody tr th {\n",
       "        vertical-align: top;\n",
       "    }\n",
       "\n",
       "    .dataframe thead th {\n",
       "        text-align: right;\n",
       "    }\n",
       "</style>\n",
       "<table border=\"1\" class=\"dataframe\">\n",
       "  <thead>\n",
       "    <tr style=\"text-align: right;\">\n",
       "      <th></th>\n",
       "      <th>sentence</th>\n",
       "      <th>book</th>\n",
       "      <th>clean_txt</th>\n",
       "      <th>n_words</th>\n",
       "    </tr>\n",
       "  </thead>\n",
       "  <tbody>\n",
       "    <tr>\n",
       "      <th>0</th>\n",
       "      <td>[ The Tragedie of Julius Caesar by William Sha...</td>\n",
       "      <td>caesar</td>\n",
       "      <td>the tragedie of julius caesar by william shake...</td>\n",
       "      <td>35</td>\n",
       "    </tr>\n",
       "    <tr>\n",
       "      <th>1</th>\n",
       "      <td>idle Creatures , get you home : Is this a Holi...</td>\n",
       "      <td>caesar</td>\n",
       "      <td>idle creatures get you home is this a holiday ...</td>\n",
       "      <td>35</td>\n",
       "    </tr>\n",
       "    <tr>\n",
       "      <th>2</th>\n",
       "      <td>Profession ? Speake , what Trade art thou ? Ca...</td>\n",
       "      <td>caesar</td>\n",
       "      <td>profession speake what trade art thou car &lt;/s&gt;...</td>\n",
       "      <td>35</td>\n",
       "    </tr>\n",
       "    <tr>\n",
       "      <th>3</th>\n",
       "      <td>on ? You sir , what Trade are you ? Cobl . Tru...</td>\n",
       "      <td>caesar</td>\n",
       "      <td>on you sir what trade are you cobl &lt;/s&gt; truely...</td>\n",
       "      <td>35</td>\n",
       "    </tr>\n",
       "    <tr>\n",
       "      <th>4</th>\n",
       "      <td>what Trade art thou ? Answer me directly Cob ....</td>\n",
       "      <td>caesar</td>\n",
       "      <td>what trade art thou answer me directly cob &lt;/s...</td>\n",
       "      <td>35</td>\n",
       "    </tr>\n",
       "  </tbody>\n",
       "</table>\n",
       "</div>"
      ],
      "text/plain": [
       "                                            sentence    book  \\\n",
       "0  [ The Tragedie of Julius Caesar by William Sha...  caesar   \n",
       "1  idle Creatures , get you home : Is this a Holi...  caesar   \n",
       "2  Profession ? Speake , what Trade art thou ? Ca...  caesar   \n",
       "3  on ? You sir , what Trade are you ? Cobl . Tru...  caesar   \n",
       "4  what Trade art thou ? Answer me directly Cob ....  caesar   \n",
       "\n",
       "                                           clean_txt  n_words  \n",
       "0  the tragedie of julius caesar by william shake...       35  \n",
       "1  idle creatures get you home is this a holiday ...       35  \n",
       "2  profession speake what trade art thou car </s>...       35  \n",
       "3  on you sir what trade are you cobl </s> truely...       35  \n",
       "4  what trade art thou answer me directly cob </s...       35  "
      ]
     },
     "execution_count": 9,
     "metadata": {},
     "output_type": "execute_result"
    }
   ],
   "source": [
    "shakespeare.head()"
   ]
  },
  {
   "cell_type": "code",
   "execution_count": 10,
   "id": "40715029-7321-4ee2-a2cb-acb21a24d97e",
   "metadata": {
    "tags": []
   },
   "outputs": [
    {
     "data": {
      "text/plain": [
       "book\n",
       "hamlet    1068\n",
       "caesar     738\n",
       "Name: count, dtype: int64"
      ]
     },
     "execution_count": 10,
     "metadata": {},
     "output_type": "execute_result"
    }
   ],
   "source": [
    "shakespeare.book.value_counts()"
   ]
  },
  {
   "cell_type": "markdown",
   "id": "48721981-7b9f-401f-b78b-e66faec723f0",
   "metadata": {},
   "source": [
    "## Sample from Bun & Creatinine"
   ]
  },
  {
   "cell_type": "code",
   "execution_count": 11,
   "id": "fdf088a9-5da0-4f67-89e5-3f12ad4215ab",
   "metadata": {
    "tags": []
   },
   "outputs": [],
   "source": [
    "bun_creat_vals = pd.read_csv('data/bun_creat_vals.csv')"
   ]
  },
  {
   "cell_type": "code",
   "execution_count": 12,
   "id": "136cd6f9-1b91-4e67-a640-1de26a1818cf",
   "metadata": {
    "tags": []
   },
   "outputs": [
    {
     "data": {
      "text/html": [
       "<div>\n",
       "<style scoped>\n",
       "    .dataframe tbody tr th:only-of-type {\n",
       "        vertical-align: middle;\n",
       "    }\n",
       "\n",
       "    .dataframe tbody tr th {\n",
       "        vertical-align: top;\n",
       "    }\n",
       "\n",
       "    .dataframe thead th {\n",
       "        text-align: right;\n",
       "    }\n",
       "</style>\n",
       "<table border=\"1\" class=\"dataframe\">\n",
       "  <thead>\n",
       "    <tr style=\"text-align: right;\">\n",
       "      <th></th>\n",
       "      <th>sample_ix</th>\n",
       "      <th>bun</th>\n",
       "      <th>creat</th>\n",
       "      <th>is_mm</th>\n",
       "    </tr>\n",
       "  </thead>\n",
       "  <tbody>\n",
       "    <tr>\n",
       "      <th>0</th>\n",
       "      <td>0</td>\n",
       "      <td>8.0</td>\n",
       "      <td>0.7</td>\n",
       "      <td>0</td>\n",
       "    </tr>\n",
       "    <tr>\n",
       "      <th>1</th>\n",
       "      <td>1</td>\n",
       "      <td>20.0</td>\n",
       "      <td>1.2</td>\n",
       "      <td>0</td>\n",
       "    </tr>\n",
       "    <tr>\n",
       "      <th>2</th>\n",
       "      <td>2</td>\n",
       "      <td>27.0</td>\n",
       "      <td>1.1</td>\n",
       "      <td>0</td>\n",
       "    </tr>\n",
       "    <tr>\n",
       "      <th>3</th>\n",
       "      <td>3</td>\n",
       "      <td>10.0</td>\n",
       "      <td>1.0</td>\n",
       "      <td>0</td>\n",
       "    </tr>\n",
       "    <tr>\n",
       "      <th>4</th>\n",
       "      <td>4</td>\n",
       "      <td>22.0</td>\n",
       "      <td>1.9</td>\n",
       "      <td>1</td>\n",
       "    </tr>\n",
       "  </tbody>\n",
       "</table>\n",
       "</div>"
      ],
      "text/plain": [
       "   sample_ix   bun  creat  is_mm\n",
       "0          0   8.0    0.7      0\n",
       "1          1  20.0    1.2      0\n",
       "2          2  27.0    1.1      0\n",
       "3          3  10.0    1.0      0\n",
       "4          4  22.0    1.9      1"
      ]
     },
     "execution_count": 12,
     "metadata": {},
     "output_type": "execute_result"
    }
   ],
   "source": [
    "bun_creat_vals.head()"
   ]
  },
  {
   "cell_type": "code",
   "execution_count": 13,
   "id": "26ccaa99-7bc2-4d0d-9935-56b9115ee5a4",
   "metadata": {
    "tags": []
   },
   "outputs": [
    {
     "data": {
      "text/plain": [
       "(82, 1)"
      ]
     },
     "execution_count": 13,
     "metadata": {},
     "output_type": "execute_result"
    }
   ],
   "source": [
    "bun_creat_vals[['bun']].drop_duplicates().shape"
   ]
  },
  {
   "cell_type": "code",
   "execution_count": 14,
   "id": "03ed98ee-f48c-470e-9efe-0f720a11e7b2",
   "metadata": {
    "tags": []
   },
   "outputs": [
    {
     "data": {
      "text/plain": [
       "(90, 1)"
      ]
     },
     "execution_count": 14,
     "metadata": {},
     "output_type": "execute_result"
    }
   ],
   "source": [
    "bun_creat_vals[['creat']].drop_duplicates().shape"
   ]
  },
  {
   "cell_type": "markdown",
   "id": "c09bba77-4942-44b9-84f1-0431aeec8cd6",
   "metadata": {},
   "source": [
    "### Bun & Creatine Raw AUC"
   ]
  },
  {
   "cell_type": "code",
   "execution_count": 15,
   "id": "81d87247-ca7d-41ed-b7f9-942612589263",
   "metadata": {
    "tags": []
   },
   "outputs": [
    {
     "name": "stderr",
     "output_type": "stream",
     "text": [
      "/home/jod204/mambaforge/envs/jod204_pytorch/lib/python3.10/site-packages/sklearn/utils/validation.py:605: FutureWarning: is_sparse is deprecated and will be removed in a future version. Check `isinstance(dtype, pd.SparseDtype)` instead.\n",
      "  if is_sparse(pd_dtype):\n",
      "/home/jod204/mambaforge/envs/jod204_pytorch/lib/python3.10/site-packages/sklearn/utils/validation.py:614: FutureWarning: is_sparse is deprecated and will be removed in a future version. Check `isinstance(dtype, pd.SparseDtype)` instead.\n",
      "  if is_sparse(pd_dtype) or not is_extension_array_dtype(pd_dtype):\n",
      "/home/jod204/mambaforge/envs/jod204_pytorch/lib/python3.10/site-packages/sklearn/utils/validation.py:605: FutureWarning: is_sparse is deprecated and will be removed in a future version. Check `isinstance(dtype, pd.SparseDtype)` instead.\n",
      "  if is_sparse(pd_dtype):\n",
      "/home/jod204/mambaforge/envs/jod204_pytorch/lib/python3.10/site-packages/sklearn/utils/validation.py:614: FutureWarning: is_sparse is deprecated and will be removed in a future version. Check `isinstance(dtype, pd.SparseDtype)` instead.\n",
      "  if is_sparse(pd_dtype) or not is_extension_array_dtype(pd_dtype):\n"
     ]
    },
    {
     "data": {
      "text/plain": [
       "0.7612335902205687"
      ]
     },
     "execution_count": 15,
     "metadata": {},
     "output_type": "execute_result"
    }
   ],
   "source": [
    "(\n",
    "    bun_creat_vals[['bun', 'is_mm']]\n",
    "    .fillna(bun_creat_vals.bun.median())\n",
    "    .pipe(lambda df: roc_auc_score(df.is_mm, df.bun))\n",
    ")"
   ]
  },
  {
   "cell_type": "code",
   "execution_count": 16,
   "id": "12a2da24-fd5b-46d5-b3b2-e9ac0879faa8",
   "metadata": {
    "tags": []
   },
   "outputs": [
    {
     "name": "stderr",
     "output_type": "stream",
     "text": [
      "/home/jod204/mambaforge/envs/jod204_pytorch/lib/python3.10/site-packages/sklearn/utils/validation.py:605: FutureWarning: is_sparse is deprecated and will be removed in a future version. Check `isinstance(dtype, pd.SparseDtype)` instead.\n",
      "  if is_sparse(pd_dtype):\n",
      "/home/jod204/mambaforge/envs/jod204_pytorch/lib/python3.10/site-packages/sklearn/utils/validation.py:614: FutureWarning: is_sparse is deprecated and will be removed in a future version. Check `isinstance(dtype, pd.SparseDtype)` instead.\n",
      "  if is_sparse(pd_dtype) or not is_extension_array_dtype(pd_dtype):\n",
      "/home/jod204/mambaforge/envs/jod204_pytorch/lib/python3.10/site-packages/sklearn/utils/validation.py:605: FutureWarning: is_sparse is deprecated and will be removed in a future version. Check `isinstance(dtype, pd.SparseDtype)` instead.\n",
      "  if is_sparse(pd_dtype):\n",
      "/home/jod204/mambaforge/envs/jod204_pytorch/lib/python3.10/site-packages/sklearn/utils/validation.py:614: FutureWarning: is_sparse is deprecated and will be removed in a future version. Check `isinstance(dtype, pd.SparseDtype)` instead.\n",
      "  if is_sparse(pd_dtype) or not is_extension_array_dtype(pd_dtype):\n"
     ]
    },
    {
     "data": {
      "text/plain": [
       "0.7755083709806005"
      ]
     },
     "execution_count": 16,
     "metadata": {},
     "output_type": "execute_result"
    }
   ],
   "source": [
    "(\n",
    "    bun_creat_vals[['creat', 'is_mm']]\n",
    "    .fillna(bun_creat_vals.creat.median())\n",
    "    .pipe(lambda df: roc_auc_score(df.is_mm, df.creat))\n",
    ")"
   ]
  },
  {
   "cell_type": "code",
   "execution_count": 17,
   "id": "f3222e70-532f-40c4-9b71-68bad7f57d65",
   "metadata": {
    "tags": []
   },
   "outputs": [
    {
     "data": {
      "text/html": [
       "<div>\n",
       "<style scoped>\n",
       "    .dataframe tbody tr th:only-of-type {\n",
       "        vertical-align: middle;\n",
       "    }\n",
       "\n",
       "    .dataframe tbody tr th {\n",
       "        vertical-align: top;\n",
       "    }\n",
       "\n",
       "    .dataframe thead th {\n",
       "        text-align: right;\n",
       "    }\n",
       "</style>\n",
       "<table border=\"1\" class=\"dataframe\">\n",
       "  <thead>\n",
       "    <tr style=\"text-align: right;\">\n",
       "      <th></th>\n",
       "      <th>is_mm</th>\n",
       "      <th>bun_mn</th>\n",
       "      <th>bun_sigma</th>\n",
       "      <th>creat_mn</th>\n",
       "      <th>creat_sigma</th>\n",
       "    </tr>\n",
       "  </thead>\n",
       "  <tbody>\n",
       "    <tr>\n",
       "      <th>0</th>\n",
       "      <td>0</td>\n",
       "      <td>16.175229</td>\n",
       "      <td>6.807525</td>\n",
       "      <td>1.150522</td>\n",
       "      <td>1.106105</td>\n",
       "    </tr>\n",
       "    <tr>\n",
       "      <th>1</th>\n",
       "      <td>1</td>\n",
       "      <td>31.251256</td>\n",
       "      <td>18.814545</td>\n",
       "      <td>2.397496</td>\n",
       "      <td>2.291239</td>\n",
       "    </tr>\n",
       "  </tbody>\n",
       "</table>\n",
       "</div>"
      ],
      "text/plain": [
       "   is_mm     bun_mn  bun_sigma  creat_mn  creat_sigma\n",
       "0      0  16.175229   6.807525  1.150522     1.106105\n",
       "1      1  31.251256  18.814545  2.397496     2.291239"
      ]
     },
     "execution_count": 17,
     "metadata": {},
     "output_type": "execute_result"
    }
   ],
   "source": [
    "summary_stats = (\n",
    "    bun_creat_vals\n",
    "    .groupby('is_mm').agg(\n",
    "        bun_mn =('bun', 'mean'),\n",
    "        bun_sigma = ('bun', 'std'),\n",
    "        creat_mn = ('creat', 'mean'),\n",
    "        creat_sigma = ('creat', 'std'),\n",
    "    )\n",
    "    .reset_index()\n",
    ")\n",
    "\n",
    "summary_stats"
   ]
  },
  {
   "cell_type": "markdown",
   "id": "19f7330c-3f84-49c7-a9e0-8526e6f802f5",
   "metadata": {},
   "source": [
    "### Include Bun & Creatinine"
   ]
  },
  {
   "cell_type": "code",
   "execution_count": 18,
   "id": "a8615d3d-ae6b-4ccf-9ec6-5aec2aa843ea",
   "metadata": {
    "tags": []
   },
   "outputs": [],
   "source": [
    "def gen_sample_value(is_hamlet:bool):\n",
    "    sample = summary_stats.query(f'is_mm == {1 if is_hamlet else 0}')\n",
    "    bun_mu, creat_mu = sample.bun_mn.values[0], sample.creat_mn.values[0]\n",
    "    bun_sigma, creat_sigma = sample.bun_sigma.values[0], sample.creat_sigma.values[0]\n",
    "    bun = np.random.randn()*bun_sigma + bun_mu\n",
    "    creat = np.random.randn()*creat_sigma + creat_mu\n",
    "    return bun, creat"
   ]
  },
  {
   "cell_type": "code",
   "execution_count": 19,
   "id": "7a19778e-8349-4d3f-8b0d-ae77971b9799",
   "metadata": {
    "tags": []
   },
   "outputs": [
    {
     "data": {
      "text/plain": [
       "[(16.530177823231668, 2.813642441822564),\n",
       " (14.597155977511717, 0.5278771734238461),\n",
       " (11.99256252455639, 0.2179354474491798),\n",
       " (9.165654100298259, 1.3155473571671945),\n",
       " (12.14414880290724, -0.1049777311786797)]"
      ]
     },
     "execution_count": 19,
     "metadata": {},
     "output_type": "execute_result"
    }
   ],
   "source": [
    "[gen_sample_value(False) for _ in range(5)]"
   ]
  },
  {
   "cell_type": "code",
   "execution_count": 20,
   "id": "9173da30-ccfc-4fc9-b7dd-66bb619ed760",
   "metadata": {
    "tags": []
   },
   "outputs": [
    {
     "data": {
      "text/plain": [
       "[(69.765504492976, 3.702366386423816),\n",
       " (32.37539666668675, 1.6897552623933376),\n",
       " (24.091327722555558, 2.1860032357479993),\n",
       " (32.921457660914854, 1.770085365973056),\n",
       " (46.07389905912373, 0.002674584559103188)]"
      ]
     },
     "execution_count": 20,
     "metadata": {},
     "output_type": "execute_result"
    }
   ],
   "source": [
    "[gen_sample_value(True) for _ in range(5)]"
   ]
  },
  {
   "cell_type": "code",
   "execution_count": 21,
   "id": "7225a322-5c42-4f25-b4d1-83fe23e184c2",
   "metadata": {
    "tags": []
   },
   "outputs": [],
   "source": [
    "def include_met(val:float, met:str, txt:str):\n",
    "    words = txt.split(' ')\n",
    "    if pd.isna(val):\n",
    "        return ' '.join(words)\n",
    "    \n",
    "    n_words = len(words)\n",
    "    insert_ix = np.random.randint(0, n_words)\n",
    "    \n",
    "    val_phrase = [met, f'{val}']\n",
    "    if np.random.rand() < .5:\n",
    "        val_phrase = [val_phrase[0]] + ['of'] + [val_phrase[1]]\n",
    "    \n",
    "    return ' '.join(words[:insert_ix] + val_phrase + words[insert_ix:])"
   ]
  },
  {
   "cell_type": "code",
   "execution_count": 22,
   "id": "4784e819-230d-4e39-94f9-1bfa6db4ba2a",
   "metadata": {
    "tags": []
   },
   "outputs": [],
   "source": [
    "def make_phrase(val:float, met:str):\n",
    "    if pd.isna(val):\n",
    "        return []\n",
    "    else:\n",
    "        phrase = [met, f'{val:.2f}']\n",
    "        if np.random.rand() < .5:\n",
    "            phrase = [phrase[0]] + ['of'] + [phrase[1]]\n",
    "        return phrase\n",
    "\n",
    "def include_mets(val1:float, met1:str, val2:float, met2:str, txt:str):\n",
    "    words = txt.split(' ')\n",
    "    phrase1 = make_phrase(val1, met1)\n",
    "    phrase2 = make_phrase(val2, met2)\n",
    "    \n",
    "    n_words = len(words)\n",
    "    insert_ix = np.random.randint(0, n_words)\n",
    "    \n",
    "    chunk_ixs = list(range(4))\n",
    "    np.random.shuffle(chunk_ixs)\n",
    "    \n",
    "    chunks = []\n",
    "    chunks_arr = [words[:insert_ix], phrase1, phrase2, words[insert_ix:]]\n",
    "    for _ in chunk_ixs:\n",
    "        chunks = chunks + chunks_arr[_]\n",
    "    \n",
    "    return ' '.join(chunks)"
   ]
  },
  {
   "cell_type": "code",
   "execution_count": 23,
   "id": "920044ae-7c2b-44ab-9825-681ef51fa7fe",
   "metadata": {
    "tags": []
   },
   "outputs": [],
   "source": [
    "shakespeare_hamlet = (\n",
    "    shakespeare\n",
    "    .query('book in [\"hamlet\"]')\n",
    "    .assign(start_ix = hamlet_start_ixs)\n",
    "    .assign(\n",
    "        is_second_half = lambda df: df.start_ix.map(lambda s: 1 if s > int(hamlet_start_ixs[-1]/2) else 0),\n",
    "        bc = lambda df: df.is_second_half.map(gen_sample_value),\n",
    "        met_txt = lambda df: [\n",
    "            #include_met( r.bc[0].round(2), 'bun', r.clean_txt)\n",
    "            include_mets( r.bc[0].round(2), 'bun', r.bc[1].round(1), 'creatinine', r.clean_txt)\n",
    "            for r in df.itertuples()\n",
    "        ],\n",
    "    )\n",
    ")"
   ]
  },
  {
   "cell_type": "code",
   "execution_count": 24,
   "id": "4dbb0b17-e9c9-4ba3-b7db-1f3a2f04576b",
   "metadata": {
    "tags": []
   },
   "outputs": [
    {
     "data": {
      "text/html": [
       "<div>\n",
       "<style scoped>\n",
       "    .dataframe tbody tr th:only-of-type {\n",
       "        vertical-align: middle;\n",
       "    }\n",
       "\n",
       "    .dataframe tbody tr th {\n",
       "        vertical-align: top;\n",
       "    }\n",
       "\n",
       "    .dataframe thead th {\n",
       "        text-align: right;\n",
       "    }\n",
       "</style>\n",
       "<table border=\"1\" class=\"dataframe\">\n",
       "  <thead>\n",
       "    <tr style=\"text-align: right;\">\n",
       "      <th></th>\n",
       "      <th>sentence</th>\n",
       "      <th>book</th>\n",
       "      <th>clean_txt</th>\n",
       "      <th>n_words</th>\n",
       "      <th>start_ix</th>\n",
       "      <th>is_second_half</th>\n",
       "      <th>bc</th>\n",
       "      <th>met_txt</th>\n",
       "    </tr>\n",
       "  </thead>\n",
       "  <tbody>\n",
       "    <tr>\n",
       "      <th>0</th>\n",
       "      <td>[ The Tragedie of Hamlet by William Shakespear...</td>\n",
       "      <td>hamlet</td>\n",
       "      <td>the tragedie of hamlet by william shakespeare ...</td>\n",
       "      <td>35</td>\n",
       "      <td>0</td>\n",
       "      <td>0</td>\n",
       "      <td>(7.268102270992584, 1.011438800668869)</td>\n",
       "      <td>by william shakespeare _lgnum_ actus primus &lt;/...</td>\n",
       "    </tr>\n",
       "    <tr>\n",
       "      <th>1</th>\n",
       "      <td>: Stand &amp; vnfold your selfe Bar . Long liue th...</td>\n",
       "      <td>hamlet</td>\n",
       "      <td>stand vnfold your selfe bar &lt;/s&gt; long liue the...</td>\n",
       "      <td>35</td>\n",
       "      <td>35</td>\n",
       "      <td>0</td>\n",
       "      <td>(18.962631630484157, 1.2419377064903416)</td>\n",
       "      <td>bar &lt;/s&gt; tis now strook twelue &lt;/s&gt; bun of 18....</td>\n",
       "    </tr>\n",
       "    <tr>\n",
       "      <th>2</th>\n",
       "      <td>, get thee to bed Francisco Fran . For this re...</td>\n",
       "      <td>hamlet</td>\n",
       "      <td>get thee to bed francisco fran &lt;/s&gt; for this r...</td>\n",
       "      <td>35</td>\n",
       "      <td>70</td>\n",
       "      <td>0</td>\n",
       "      <td>(12.262150223193693, 1.7913830986603703)</td>\n",
       "      <td>creatinine 1.80 get thee to bed francisco fran...</td>\n",
       "    </tr>\n",
       "    <tr>\n",
       "      <th>3</th>\n",
       "      <td>Not a Mouse stirring Barn . Well , goodnight ....</td>\n",
       "      <td>hamlet</td>\n",
       "      <td>not a mouse stirring barn &lt;/s&gt; well goodnight ...</td>\n",
       "      <td>35</td>\n",
       "      <td>105</td>\n",
       "      <td>0</td>\n",
       "      <td>(26.50899843627954, 0.21581284725958771)</td>\n",
       "      <td>creatinine of 0.20 marcellus the riuals of my ...</td>\n",
       "    </tr>\n",
       "    <tr>\n",
       "      <th>4</th>\n",
       "      <td>. I thinke I heare them . Stand : who ' s ther...</td>\n",
       "      <td>hamlet</td>\n",
       "      <td>&lt;/s&gt; i thinke i heare them &lt;/s&gt; stand who s th...</td>\n",
       "      <td>35</td>\n",
       "      <td>140</td>\n",
       "      <td>0</td>\n",
       "      <td>(10.344435823392317, 2.2447713248159435)</td>\n",
       "      <td>creatinine 2.20 who s there hor &lt;/s&gt; friends t...</td>\n",
       "    </tr>\n",
       "  </tbody>\n",
       "</table>\n",
       "</div>"
      ],
      "text/plain": [
       "                                            sentence    book  \\\n",
       "0  [ The Tragedie of Hamlet by William Shakespear...  hamlet   \n",
       "1  : Stand & vnfold your selfe Bar . Long liue th...  hamlet   \n",
       "2  , get thee to bed Francisco Fran . For this re...  hamlet   \n",
       "3  Not a Mouse stirring Barn . Well , goodnight ....  hamlet   \n",
       "4  . I thinke I heare them . Stand : who ' s ther...  hamlet   \n",
       "\n",
       "                                           clean_txt  n_words  start_ix  \\\n",
       "0  the tragedie of hamlet by william shakespeare ...       35         0   \n",
       "1  stand vnfold your selfe bar </s> long liue the...       35        35   \n",
       "2  get thee to bed francisco fran </s> for this r...       35        70   \n",
       "3  not a mouse stirring barn </s> well goodnight ...       35       105   \n",
       "4  </s> i thinke i heare them </s> stand who s th...       35       140   \n",
       "\n",
       "   is_second_half                                        bc  \\\n",
       "0               0    (7.268102270992584, 1.011438800668869)   \n",
       "1               0  (18.962631630484157, 1.2419377064903416)   \n",
       "2               0  (12.262150223193693, 1.7913830986603703)   \n",
       "3               0  (26.50899843627954, 0.21581284725958771)   \n",
       "4               0  (10.344435823392317, 2.2447713248159435)   \n",
       "\n",
       "                                             met_txt  \n",
       "0  by william shakespeare _lgnum_ actus primus </...  \n",
       "1  bar </s> tis now strook twelue </s> bun of 18....  \n",
       "2  creatinine 1.80 get thee to bed francisco fran...  \n",
       "3  creatinine of 0.20 marcellus the riuals of my ...  \n",
       "4  creatinine 2.20 who s there hor </s> friends t...  "
      ]
     },
     "execution_count": 24,
     "metadata": {},
     "output_type": "execute_result"
    }
   ],
   "source": [
    "shakespeare_hamlet.head()"
   ]
  },
  {
   "cell_type": "markdown",
   "id": "ac2c2bfb-f16e-477c-ba93-6bd9ce6c6a72",
   "metadata": {},
   "source": [
    "# Run Experiments"
   ]
  },
  {
   "cell_type": "markdown",
   "id": "bd1cee96-3831-444b-b6ff-3bb7cb61d199",
   "metadata": {},
   "source": [
    "## Experiment Configurations & Helpers"
   ]
  },
  {
   "cell_type": "code",
   "execution_count": 25,
   "id": "4ebd7414-a92c-47bf-b35b-5d01c7f4567c",
   "metadata": {
    "tags": []
   },
   "outputs": [],
   "source": [
    "y_col = 'is_second_half'\n",
    "x_col = 'met_txt'\n",
    "n_left=2\n",
    "n_right=1"
   ]
  },
  {
   "cell_type": "code",
   "execution_count": 36,
   "id": "2fc945c4-a079-4a79-9140-76027be1a690",
   "metadata": {
    "tags": []
   },
   "outputs": [],
   "source": [
    "ModelType = Literal['TextCnn', 'ScaleNum', 'AttnToNum', 'AttnToNumNoScaleNum']\n",
    "\n",
    "ModelLookUp = {\n",
    "    'TextCnn': lambda n_terms: cnn.TextCnn(\n",
    "            seq_len, n_terms=n_terms,\n",
    "            model_params=config.TextCnnParams(n_filters=44, dropout=.5)\n",
    "        ),\n",
    "    'ScaleNum': lambda n_terms: cnn.TextCnnScaleNum(\n",
    "            seq_len, n_terms=n_terms,\n",
    "            model_params=config.TextCnnScaleNumParams(n_filters=44, dropout=.5, n_number_lins=3,\n",
    "                                                     do_resid_conn_scale_num=True)\n",
    "        ),\n",
    "    'AttnToNum': lambda n_terms: cnn.TextCnnAttnToNum(\n",
    "            seq_len, n_terms=n_terms,\n",
    "            model_params=config.TextCnnAttnToNumParams(\n",
    "                n_filters=44, dropout=.5, n_number_lins=3, n_left=n_left, n_right=n_right,\n",
    "                do_resid_conn_attn_to_num=True\n",
    "            )\n",
    "        ),\n",
    "    'AttnToNumNoScaleNum': lambda n_terms: cnn.TextCnnAttnToNum(\n",
    "            seq_len, n_terms=n_terms,\n",
    "            model_params=config.TextCnnAttnToNumParams(\n",
    "                n_filters=44, dropout=.5, n_number_lins=3, n_left=n_left, n_right=n_right,\n",
    "                do_resid_conn_attn_to_num=True,\n",
    "                do_scale_num=False\n",
    "            )\n",
    "        )\n",
    "}"
   ]
  },
  {
   "cell_type": "code",
   "execution_count": 27,
   "id": "561e3106-568f-4bf2-ba46-f41e95c4bc27",
   "metadata": {
    "tags": []
   },
   "outputs": [],
   "source": [
    "def gen_ixs_lo():\n",
    "    all_ixs = list(range(len(shakespeare_hamlet)))\n",
    "    ys = shakespeare_hamlet[y_col].values\n",
    "    train_ixs, val_ixs = train_test_split(all_ixs, test_size=.15, stratify=ys)\n",
    "    \n",
    "    return {\n",
    "        'train': train_ixs, 'val': val_ixs\n",
    "    }"
   ]
  },
  {
   "cell_type": "code",
   "execution_count": 28,
   "id": "3d285088-5f96-4689-9525-12b94f583b68",
   "metadata": {
    "tags": []
   },
   "outputs": [],
   "source": [
    "def get_roc_auc(labels, pred_labels):\n",
    "    return roc_auc_score(labels.detach().cpu(), pred_labels.softmax(1)[:, 1].detach().cpu())\n",
    "\n",
    "def get_acc(labels, pred_labels):\n",
    "    return (pred_labels.argmax(1) == labels).sum().item()/pred_labels.shape[0]\n",
    "\n",
    "def train(dataloader, model, optimizer, criterion, epoch):\n",
    "    model.train()\n",
    "    total_auc, total_acc, total_count = 0, 0, 0\n",
    "    log_interval = 1000\n",
    "    start_time = time.time()\n",
    "\n",
    "    total_loss = 0\n",
    "    for idx, (x, labels) in enumerate(dataloader):\n",
    "        optimizer.zero_grad()\n",
    "        pred_labels = model(x)\n",
    "        loss = criterion(pred_labels, labels)\n",
    "        loss.backward()\n",
    "        torch.nn.utils.clip_grad_norm_(model.parameters(), 0.1)\n",
    "        optimizer.step()\n",
    "        total_loss = total_loss + loss.detach().cpu()\n",
    "\n",
    "    return total_loss"
   ]
  },
  {
   "cell_type": "code",
   "execution_count": 29,
   "id": "e20d8495-f4b5-43a7-b6ad-6c4cfdc11c20",
   "metadata": {
    "tags": []
   },
   "outputs": [],
   "source": [
    "def train_eval_model(model, dataloader_lo, is_verbose=True, n_epochs=40):\n",
    "    lr=3.5e-4\n",
    "    criterion = torch.nn.CrossEntropyLoss()\n",
    "    optimizer = torch.optim.Adam(model.parameters(), lr=lr)\n",
    "    \n",
    "    #epochs = tqdm.tqdm(list(range(EPOCHS + 1)), leave=False)\n",
    "    epochs = list(range(n_epochs))\n",
    "\n",
    "    for epoch in epochs:\n",
    "        epoch_start_time = time.time()\n",
    "        loss_train = train(dataloader_lo['train'], model, optimizer, criterion, epoch)\n",
    "        auc_val, _, loss_val = eu.evaluate(dataloader_lo['val'], model, criterion)\n",
    "        auc_train, _, _ = eu.evaluate(dataloader_lo['train'], model)\n",
    "\n",
    "        if auc_train > .9999:\n",
    "            break\n",
    "\n",
    "        if is_verbose:\n",
    "            print('-' * 100)\n",
    "            msg = ('| epoch {:2d} | time: {:5.2f}s | '\n",
    "                  'train auc {:5.3f} ({:5.3f}) | '\n",
    "                  'valid auc {:5.3f} ({:5.3f}) | '\n",
    "                  .format(epoch,\n",
    "                          time.time() - epoch_start_time,\n",
    "                          auc_train, loss_train,\n",
    "                          auc_val, loss_val)\n",
    "                 )\n",
    "\n",
    "            print(msg)\n",
    "            print('-' * 100)\n",
    "        \n",
    "        #pbar.set_description(f'Epoch {epoch}, Holdout AUC {auc_holdout:.2f}')\n",
    "            \n",
    "    \n",
    "    return auc_val"
   ]
  },
  {
   "cell_type": "code",
   "execution_count": 30,
   "id": "07ce170f-6b01-426a-addf-6a617b55de08",
   "metadata": {
    "tags": []
   },
   "outputs": [],
   "source": [
    "def run_experiment(model_str:ModelType, ixs_lo = gen_ixs_lo(), is_verbose=False):\n",
    "    train_ixs = ixs_lo['train']\n",
    "    train_x = shakespeare_hamlet[x_col].values[train_ixs]\n",
    "    \n",
    "    is_num_vocab = model_str != 'TextCnn'\n",
    "    vocab = (\n",
    "        v.NumberContextAwareVocab(train_x, ['bun', 'creatinine'], \n",
    "                                  n_left=n_left, n_right=n_right, is_verbose=is_verbose)\n",
    "        if is_num_vocab \n",
    "        else v.LowercaseVocab(train_x, is_verbose=is_verbose)\n",
    "    )\n",
    "    \n",
    "    def ixs_to_dataloader(ixs):\n",
    "        in_data = shakespeare_hamlet.iloc[ixs, :]\n",
    "        ds_fn = ds.NumberAwareDs if is_num_vocab else ds.TextDs\n",
    "        collate_fn = tu.collate_batch_number_aware if is_num_vocab else tu.collate_batch\n",
    "        kwargs = {'is_verbose':is_verbose} if is_num_vocab else {}\n",
    "        return DataLoader(\n",
    "            ds_fn(\n",
    "                data=in_data,\n",
    "                vocab=vocab,\n",
    "                x_col=x_col, y_col=y_col,\n",
    "                sample_len = seq_len,\n",
    "                **kwargs\n",
    "                ), \n",
    "            batch_size=64, shuffle = True,\n",
    "            collate_fn=collate_fn\n",
    "        )\n",
    "\n",
    "    dataloader_lo = {\n",
    "        k: ixs_to_dataloader(ixs) \n",
    "        for k, ixs in ixs_lo.items()\n",
    "    }\n",
    "    \n",
    "    n_terms = len(vocab) + 1\n",
    "    \n",
    "    model = ModelLookUp[model_str](n_terms).to('cuda')\n",
    "    \n",
    "    return train_eval_model(model, dataloader_lo, is_verbose)"
   ]
  },
  {
   "cell_type": "markdown",
   "id": "9bddf26c-469b-4908-b16e-dfabf426d185",
   "metadata": {},
   "source": [
    "## Run Basic Exp"
   ]
  },
  {
   "cell_type": "code",
   "execution_count": 31,
   "id": "a85700a9-f8d4-4baf-8847-1b8d6772a465",
   "metadata": {
    "tags": []
   },
   "outputs": [],
   "source": [
    "ixs_lo = gen_ixs_lo()"
   ]
  },
  {
   "cell_type": "code",
   "execution_count": 32,
   "id": "bc72f267-22b4-4adf-abcd-7607581f00e8",
   "metadata": {
    "tags": []
   },
   "outputs": [
    {
     "name": "stderr",
     "output_type": "stream",
     "text": [
      "100%|███████████████████████████████████████████████████████████████████████████████| 907/907 [00:00<00:00, 144691.68it/s]\n",
      "/home/jod204/projects/sts_clean/text_utils.py:19: UserWarning: Creating a tensor from a list of numpy.ndarrays is extremely slow. Please consider converting the list to a single numpy.ndarray with numpy.array() before converting to a tensor. (Triggered internally at /opt/conda/conda-bld/pytorch_1670525541990/work/torch/csrc/utils/tensor_new.cpp:230.)\n",
      "  mk_tensor = lambda ix: torch.tensor(\n"
     ]
    },
    {
     "name": "stdout",
     "output_type": "stream",
     "text": [
      "----------------------------------------------------------------------------------------------------\n",
      "| epoch  0 | time:  0.58s | train auc 0.629 (11.763) | valid auc 0.560 (0.694) | \n",
      "----------------------------------------------------------------------------------------------------\n",
      "----------------------------------------------------------------------------------------------------\n",
      "| epoch  1 | time:  0.12s | train auc 0.711 (11.158) | valid auc 0.583 (0.684) | \n",
      "----------------------------------------------------------------------------------------------------\n",
      "----------------------------------------------------------------------------------------------------\n",
      "| epoch  2 | time:  0.12s | train auc 0.776 (10.920) | valid auc 0.601 (0.680) | \n",
      "----------------------------------------------------------------------------------------------------\n",
      "----------------------------------------------------------------------------------------------------\n",
      "| epoch  3 | time:  0.12s | train auc 0.822 (10.744) | valid auc 0.614 (0.678) | \n",
      "----------------------------------------------------------------------------------------------------\n",
      "----------------------------------------------------------------------------------------------------\n",
      "| epoch  4 | time:  0.12s | train auc 0.859 (10.919) | valid auc 0.616 (0.676) | \n",
      "----------------------------------------------------------------------------------------------------\n",
      "----------------------------------------------------------------------------------------------------\n",
      "| epoch  5 | time:  0.12s | train auc 0.888 (10.385) | valid auc 0.618 (0.675) | \n",
      "----------------------------------------------------------------------------------------------------\n",
      "----------------------------------------------------------------------------------------------------\n",
      "| epoch  6 | time:  0.12s | train auc 0.912 (10.157) | valid auc 0.620 (0.675) | \n",
      "----------------------------------------------------------------------------------------------------\n",
      "----------------------------------------------------------------------------------------------------\n",
      "| epoch  7 | time:  0.12s | train auc 0.928 (10.159) | valid auc 0.623 (0.672) | \n",
      "----------------------------------------------------------------------------------------------------\n",
      "----------------------------------------------------------------------------------------------------\n",
      "| epoch  8 | time:  0.12s | train auc 0.940 (9.827) | valid auc 0.624 (0.670) | \n",
      "----------------------------------------------------------------------------------------------------\n",
      "----------------------------------------------------------------------------------------------------\n",
      "| epoch  9 | time:  0.12s | train auc 0.950 (9.555) | valid auc 0.631 (0.668) | \n",
      "----------------------------------------------------------------------------------------------------\n",
      "----------------------------------------------------------------------------------------------------\n",
      "| epoch 10 | time:  0.12s | train auc 0.959 (9.224) | valid auc 0.635 (0.666) | \n",
      "----------------------------------------------------------------------------------------------------\n",
      "----------------------------------------------------------------------------------------------------\n",
      "| epoch 11 | time:  0.12s | train auc 0.967 (9.217) | valid auc 0.641 (0.665) | \n",
      "----------------------------------------------------------------------------------------------------\n",
      "----------------------------------------------------------------------------------------------------\n",
      "| epoch 12 | time:  0.12s | train auc 0.972 (9.447) | valid auc 0.640 (0.664) | \n",
      "----------------------------------------------------------------------------------------------------\n",
      "----------------------------------------------------------------------------------------------------\n",
      "| epoch 13 | time:  0.12s | train auc 0.977 (9.125) | valid auc 0.644 (0.662) | \n",
      "----------------------------------------------------------------------------------------------------\n",
      "----------------------------------------------------------------------------------------------------\n",
      "| epoch 14 | time:  0.12s | train auc 0.981 (8.812) | valid auc 0.649 (0.662) | \n",
      "----------------------------------------------------------------------------------------------------\n",
      "----------------------------------------------------------------------------------------------------\n",
      "| epoch 15 | time:  0.12s | train auc 0.983 (8.729) | valid auc 0.649 (0.661) | \n",
      "----------------------------------------------------------------------------------------------------\n",
      "----------------------------------------------------------------------------------------------------\n",
      "| epoch 16 | time:  0.12s | train auc 0.986 (8.677) | valid auc 0.647 (0.660) | \n",
      "----------------------------------------------------------------------------------------------------\n",
      "----------------------------------------------------------------------------------------------------\n",
      "| epoch 17 | time:  0.12s | train auc 0.989 (8.268) | valid auc 0.651 (0.659) | \n",
      "----------------------------------------------------------------------------------------------------\n",
      "----------------------------------------------------------------------------------------------------\n",
      "| epoch 18 | time:  0.12s | train auc 0.990 (8.142) | valid auc 0.649 (0.659) | \n",
      "----------------------------------------------------------------------------------------------------\n",
      "----------------------------------------------------------------------------------------------------\n",
      "| epoch 19 | time:  0.12s | train auc 0.992 (7.880) | valid auc 0.654 (0.657) | \n",
      "----------------------------------------------------------------------------------------------------\n",
      "----------------------------------------------------------------------------------------------------\n",
      "| epoch 20 | time:  0.12s | train auc 0.993 (7.693) | valid auc 0.648 (0.656) | \n",
      "----------------------------------------------------------------------------------------------------\n",
      "----------------------------------------------------------------------------------------------------\n",
      "| epoch 21 | time:  0.12s | train auc 0.994 (7.911) | valid auc 0.656 (0.654) | \n",
      "----------------------------------------------------------------------------------------------------\n",
      "----------------------------------------------------------------------------------------------------\n",
      "| epoch 22 | time:  0.12s | train auc 0.996 (7.883) | valid auc 0.661 (0.653) | \n",
      "----------------------------------------------------------------------------------------------------\n",
      "----------------------------------------------------------------------------------------------------\n",
      "| epoch 23 | time:  0.12s | train auc 0.997 (6.991) | valid auc 0.661 (0.652) | \n",
      "----------------------------------------------------------------------------------------------------\n",
      "----------------------------------------------------------------------------------------------------\n",
      "| epoch 24 | time:  0.12s | train auc 0.997 (7.321) | valid auc 0.664 (0.652) | \n",
      "----------------------------------------------------------------------------------------------------\n",
      "----------------------------------------------------------------------------------------------------\n",
      "| epoch 25 | time:  0.12s | train auc 0.998 (7.345) | valid auc 0.664 (0.650) | \n",
      "----------------------------------------------------------------------------------------------------\n",
      "----------------------------------------------------------------------------------------------------\n",
      "| epoch 26 | time:  0.12s | train auc 0.998 (6.824) | valid auc 0.665 (0.648) | \n",
      "----------------------------------------------------------------------------------------------------\n",
      "----------------------------------------------------------------------------------------------------\n",
      "| epoch 27 | time:  0.12s | train auc 0.998 (6.846) | valid auc 0.668 (0.647) | \n",
      "----------------------------------------------------------------------------------------------------\n",
      "----------------------------------------------------------------------------------------------------\n",
      "| epoch 28 | time:  0.12s | train auc 0.999 (6.408) | valid auc 0.669 (0.647) | \n",
      "----------------------------------------------------------------------------------------------------\n",
      "----------------------------------------------------------------------------------------------------\n",
      "| epoch 29 | time:  0.12s | train auc 0.999 (6.280) | valid auc 0.671 (0.646) | \n",
      "----------------------------------------------------------------------------------------------------\n",
      "----------------------------------------------------------------------------------------------------\n",
      "| epoch 30 | time:  0.12s | train auc 0.999 (6.385) | valid auc 0.668 (0.645) | \n",
      "----------------------------------------------------------------------------------------------------\n",
      "----------------------------------------------------------------------------------------------------\n",
      "| epoch 31 | time:  0.12s | train auc 0.999 (6.295) | valid auc 0.667 (0.645) | \n",
      "----------------------------------------------------------------------------------------------------\n",
      "----------------------------------------------------------------------------------------------------\n",
      "| epoch 32 | time:  0.12s | train auc 0.999 (6.087) | valid auc 0.667 (0.645) | \n",
      "----------------------------------------------------------------------------------------------------\n",
      "----------------------------------------------------------------------------------------------------\n",
      "| epoch 33 | time:  0.12s | train auc 0.999 (5.725) | valid auc 0.668 (0.650) | \n",
      "----------------------------------------------------------------------------------------------------\n",
      "----------------------------------------------------------------------------------------------------\n",
      "| epoch 34 | time:  0.12s | train auc 1.000 (5.939) | valid auc 0.663 (0.650) | \n",
      "----------------------------------------------------------------------------------------------------\n",
      "----------------------------------------------------------------------------------------------------\n",
      "| epoch 35 | time:  0.12s | train auc 1.000 (5.745) | valid auc 0.665 (0.648) | \n",
      "----------------------------------------------------------------------------------------------------\n",
      "----------------------------------------------------------------------------------------------------\n",
      "| epoch 36 | time:  0.12s | train auc 1.000 (5.524) | valid auc 0.666 (0.647) | \n",
      "----------------------------------------------------------------------------------------------------\n",
      "----------------------------------------------------------------------------------------------------\n",
      "| epoch 37 | time:  0.12s | train auc 1.000 (5.622) | valid auc 0.671 (0.643) | \n",
      "----------------------------------------------------------------------------------------------------\n",
      "----------------------------------------------------------------------------------------------------\n",
      "| epoch 38 | time:  0.12s | train auc 1.000 (5.541) | valid auc 0.670 (0.643) | \n",
      "----------------------------------------------------------------------------------------------------\n",
      "----------------------------------------------------------------------------------------------------\n",
      "| epoch 39 | time:  0.12s | train auc 1.000 (4.951) | valid auc 0.668 (0.645) | \n",
      "----------------------------------------------------------------------------------------------------\n"
     ]
    },
    {
     "data": {
      "text/plain": [
       "0.6679012345679013"
      ]
     },
     "execution_count": 32,
     "metadata": {},
     "output_type": "execute_result"
    }
   ],
   "source": [
    "run_experiment('TextCnn', ixs_lo=ixs_lo, is_verbose=True)"
   ]
  },
  {
   "cell_type": "markdown",
   "id": "03d4118f-4107-42a3-b651-25d0c1b3cdad",
   "metadata": {},
   "source": [
    "## Run Scale Num Exp"
   ]
  },
  {
   "cell_type": "code",
   "execution_count": 33,
   "id": "16ccf723-9f41-45d2-8159-5a4b610e3c4b",
   "metadata": {
    "tags": []
   },
   "outputs": [
    {
     "name": "stderr",
     "output_type": "stream",
     "text": [
      "100%|████████████████████████████████████████████████████████████████████████████████| 907/907 [00:00<00:00, 12914.01it/s]\n",
      "100%|████████████████████████████████████████████████████████████████████████████████| 907/907 [00:00<00:00, 13719.33it/s]\n",
      "100%|████████████████████████████████████████████████████████████████████████████████| 161/161 [00:00<00:00, 13571.34it/s]\n"
     ]
    },
    {
     "name": "stdout",
     "output_type": "stream",
     "text": [
      "----------------------------------------------------------------------------------------------------\n",
      "| epoch  0 | time:  0.33s | train auc 0.593 (15.353) | valid auc 0.490 (0.713) | \n",
      "----------------------------------------------------------------------------------------------------\n",
      "----------------------------------------------------------------------------------------------------\n",
      "| epoch  1 | time:  0.29s | train auc 0.693 (13.257) | valid auc 0.517 (0.699) | \n",
      "----------------------------------------------------------------------------------------------------\n",
      "----------------------------------------------------------------------------------------------------\n",
      "| epoch  2 | time:  0.29s | train auc 0.774 (13.079) | valid auc 0.538 (0.696) | \n",
      "----------------------------------------------------------------------------------------------------\n",
      "----------------------------------------------------------------------------------------------------\n",
      "| epoch  3 | time:  0.29s | train auc 0.837 (11.523) | valid auc 0.554 (0.690) | \n",
      "----------------------------------------------------------------------------------------------------\n",
      "----------------------------------------------------------------------------------------------------\n",
      "| epoch  4 | time:  0.29s | train auc 0.876 (11.300) | valid auc 0.560 (0.685) | \n",
      "----------------------------------------------------------------------------------------------------\n",
      "----------------------------------------------------------------------------------------------------\n",
      "| epoch  5 | time:  0.29s | train auc 0.904 (11.542) | valid auc 0.558 (0.688) | \n",
      "----------------------------------------------------------------------------------------------------\n",
      "----------------------------------------------------------------------------------------------------\n",
      "| epoch  6 | time:  0.29s | train auc 0.927 (11.155) | valid auc 0.563 (0.687) | \n",
      "----------------------------------------------------------------------------------------------------\n",
      "----------------------------------------------------------------------------------------------------\n",
      "| epoch  7 | time:  0.29s | train auc 0.943 (11.596) | valid auc 0.570 (0.680) | \n",
      "----------------------------------------------------------------------------------------------------\n",
      "----------------------------------------------------------------------------------------------------\n",
      "| epoch  8 | time:  0.29s | train auc 0.955 (10.850) | valid auc 0.575 (0.678) | \n",
      "----------------------------------------------------------------------------------------------------\n",
      "----------------------------------------------------------------------------------------------------\n",
      "| epoch  9 | time:  0.29s | train auc 0.964 (9.982) | valid auc 0.585 (0.676) | \n",
      "----------------------------------------------------------------------------------------------------\n",
      "----------------------------------------------------------------------------------------------------\n",
      "| epoch 10 | time:  0.29s | train auc 0.972 (9.666) | valid auc 0.586 (0.673) | \n",
      "----------------------------------------------------------------------------------------------------\n",
      "----------------------------------------------------------------------------------------------------\n",
      "| epoch 11 | time:  0.29s | train auc 0.978 (9.560) | valid auc 0.595 (0.675) | \n",
      "----------------------------------------------------------------------------------------------------\n",
      "----------------------------------------------------------------------------------------------------\n",
      "| epoch 12 | time:  0.29s | train auc 0.981 (8.803) | valid auc 0.610 (0.667) | \n",
      "----------------------------------------------------------------------------------------------------\n",
      "----------------------------------------------------------------------------------------------------\n",
      "| epoch 13 | time:  0.29s | train auc 0.985 (9.624) | valid auc 0.611 (0.666) | \n",
      "----------------------------------------------------------------------------------------------------\n",
      "----------------------------------------------------------------------------------------------------\n",
      "| epoch 14 | time:  0.29s | train auc 0.988 (8.719) | valid auc 0.621 (0.662) | \n",
      "----------------------------------------------------------------------------------------------------\n",
      "----------------------------------------------------------------------------------------------------\n",
      "| epoch 15 | time:  0.29s | train auc 0.990 (8.818) | valid auc 0.634 (0.660) | \n",
      "----------------------------------------------------------------------------------------------------\n",
      "----------------------------------------------------------------------------------------------------\n",
      "| epoch 16 | time:  0.29s | train auc 0.992 (8.977) | valid auc 0.634 (0.659) | \n",
      "----------------------------------------------------------------------------------------------------\n",
      "----------------------------------------------------------------------------------------------------\n",
      "| epoch 17 | time:  0.29s | train auc 0.994 (8.514) | valid auc 0.629 (0.658) | \n",
      "----------------------------------------------------------------------------------------------------\n",
      "----------------------------------------------------------------------------------------------------\n",
      "| epoch 18 | time:  0.29s | train auc 0.995 (8.192) | valid auc 0.630 (0.657) | \n",
      "----------------------------------------------------------------------------------------------------\n",
      "----------------------------------------------------------------------------------------------------\n",
      "| epoch 19 | time:  0.29s | train auc 0.995 (7.963) | valid auc 0.638 (0.654) | \n",
      "----------------------------------------------------------------------------------------------------\n",
      "----------------------------------------------------------------------------------------------------\n",
      "| epoch 20 | time:  0.29s | train auc 0.997 (7.804) | valid auc 0.642 (0.654) | \n",
      "----------------------------------------------------------------------------------------------------\n",
      "----------------------------------------------------------------------------------------------------\n",
      "| epoch 21 | time:  0.29s | train auc 0.998 (7.738) | valid auc 0.645 (0.655) | \n",
      "----------------------------------------------------------------------------------------------------\n",
      "----------------------------------------------------------------------------------------------------\n",
      "| epoch 22 | time:  0.29s | train auc 0.998 (7.680) | valid auc 0.647 (0.652) | \n",
      "----------------------------------------------------------------------------------------------------\n",
      "----------------------------------------------------------------------------------------------------\n",
      "| epoch 23 | time:  0.29s | train auc 0.998 (7.354) | valid auc 0.650 (0.652) | \n",
      "----------------------------------------------------------------------------------------------------\n",
      "----------------------------------------------------------------------------------------------------\n",
      "| epoch 24 | time:  0.29s | train auc 0.999 (7.471) | valid auc 0.655 (0.651) | \n",
      "----------------------------------------------------------------------------------------------------\n",
      "----------------------------------------------------------------------------------------------------\n",
      "| epoch 25 | time:  0.29s | train auc 0.999 (7.284) | valid auc 0.658 (0.649) | \n",
      "----------------------------------------------------------------------------------------------------\n",
      "----------------------------------------------------------------------------------------------------\n",
      "| epoch 26 | time:  0.29s | train auc 0.999 (6.836) | valid auc 0.660 (0.653) | \n",
      "----------------------------------------------------------------------------------------------------\n",
      "----------------------------------------------------------------------------------------------------\n",
      "| epoch 27 | time:  0.29s | train auc 0.999 (6.660) | valid auc 0.657 (0.648) | \n",
      "----------------------------------------------------------------------------------------------------\n",
      "----------------------------------------------------------------------------------------------------\n",
      "| epoch 28 | time:  0.29s | train auc 0.999 (7.307) | valid auc 0.661 (0.653) | \n",
      "----------------------------------------------------------------------------------------------------\n",
      "----------------------------------------------------------------------------------------------------\n",
      "| epoch 29 | time:  0.29s | train auc 1.000 (6.636) | valid auc 0.661 (0.647) | \n",
      "----------------------------------------------------------------------------------------------------\n",
      "----------------------------------------------------------------------------------------------------\n",
      "| epoch 30 | time:  0.29s | train auc 1.000 (6.523) | valid auc 0.665 (0.648) | \n",
      "----------------------------------------------------------------------------------------------------\n",
      "----------------------------------------------------------------------------------------------------\n",
      "| epoch 31 | time:  0.29s | train auc 1.000 (6.481) | valid auc 0.668 (0.647) | \n",
      "----------------------------------------------------------------------------------------------------\n",
      "----------------------------------------------------------------------------------------------------\n",
      "| epoch 32 | time:  0.29s | train auc 1.000 (5.964) | valid auc 0.667 (0.646) | \n",
      "----------------------------------------------------------------------------------------------------\n",
      "----------------------------------------------------------------------------------------------------\n",
      "| epoch 33 | time:  0.29s | train auc 1.000 (5.986) | valid auc 0.670 (0.644) | \n",
      "----------------------------------------------------------------------------------------------------\n",
      "----------------------------------------------------------------------------------------------------\n",
      "| epoch 34 | time:  0.29s | train auc 1.000 (6.146) | valid auc 0.671 (0.642) | \n",
      "----------------------------------------------------------------------------------------------------\n",
      "----------------------------------------------------------------------------------------------------\n",
      "| epoch 35 | time:  0.29s | train auc 1.000 (5.699) | valid auc 0.670 (0.643) | \n",
      "----------------------------------------------------------------------------------------------------\n"
     ]
    },
    {
     "data": {
      "text/plain": [
       "0.6749999999999999"
      ]
     },
     "execution_count": 33,
     "metadata": {},
     "output_type": "execute_result"
    }
   ],
   "source": [
    "run_experiment('ScaleNum', ixs_lo=ixs_lo, is_verbose=True)"
   ]
  },
  {
   "cell_type": "markdown",
   "id": "894c6155-ddb4-45aa-99ba-e5c5ef058666",
   "metadata": {},
   "source": [
    "## Run AttnToNum Exp"
   ]
  },
  {
   "cell_type": "code",
   "execution_count": 34,
   "id": "75920430-23ce-4fbd-b9f6-8d5a1bc80da3",
   "metadata": {
    "tags": []
   },
   "outputs": [
    {
     "name": "stderr",
     "output_type": "stream",
     "text": [
      "100%|████████████████████████████████████████████████████████████████████████████████| 907/907 [00:00<00:00, 13182.37it/s]\n",
      "100%|████████████████████████████████████████████████████████████████████████████████| 907/907 [00:00<00:00, 13898.06it/s]\n",
      "100%|████████████████████████████████████████████████████████████████████████████████| 161/161 [00:00<00:00, 13536.52it/s]\n"
     ]
    },
    {
     "name": "stdout",
     "output_type": "stream",
     "text": [
      "----------------------------------------------------------------------------------------------------\n",
      "| epoch  0 | time:  0.46s | train auc 0.584 (14.301) | valid auc 0.522 (0.709) | \n",
      "----------------------------------------------------------------------------------------------------\n",
      "----------------------------------------------------------------------------------------------------\n",
      "| epoch  1 | time:  0.44s | train auc 0.667 (13.268) | valid auc 0.542 (0.702) | \n",
      "----------------------------------------------------------------------------------------------------\n",
      "----------------------------------------------------------------------------------------------------\n",
      "| epoch  2 | time:  0.44s | train auc 0.753 (11.723) | valid auc 0.560 (0.696) | \n",
      "----------------------------------------------------------------------------------------------------\n",
      "----------------------------------------------------------------------------------------------------\n",
      "| epoch  3 | time:  0.44s | train auc 0.810 (11.882) | valid auc 0.570 (0.690) | \n",
      "----------------------------------------------------------------------------------------------------\n",
      "----------------------------------------------------------------------------------------------------\n",
      "| epoch  4 | time:  0.44s | train auc 0.857 (11.847) | valid auc 0.572 (0.686) | \n",
      "----------------------------------------------------------------------------------------------------\n",
      "----------------------------------------------------------------------------------------------------\n",
      "| epoch  5 | time:  0.44s | train auc 0.889 (11.391) | valid auc 0.582 (0.681) | \n",
      "----------------------------------------------------------------------------------------------------\n",
      "----------------------------------------------------------------------------------------------------\n",
      "| epoch  6 | time:  0.44s | train auc 0.912 (10.683) | valid auc 0.589 (0.679) | \n",
      "----------------------------------------------------------------------------------------------------\n",
      "----------------------------------------------------------------------------------------------------\n",
      "| epoch  7 | time:  0.44s | train auc 0.930 (10.202) | valid auc 0.602 (0.677) | \n",
      "----------------------------------------------------------------------------------------------------\n",
      "----------------------------------------------------------------------------------------------------\n",
      "| epoch  8 | time:  0.44s | train auc 0.944 (10.571) | valid auc 0.614 (0.675) | \n",
      "----------------------------------------------------------------------------------------------------\n",
      "----------------------------------------------------------------------------------------------------\n",
      "| epoch  9 | time:  0.44s | train auc 0.956 (10.345) | valid auc 0.615 (0.675) | \n",
      "----------------------------------------------------------------------------------------------------\n",
      "----------------------------------------------------------------------------------------------------\n",
      "| epoch 10 | time:  0.44s | train auc 0.956 (9.870) | valid auc 0.635 (0.667) | \n",
      "----------------------------------------------------------------------------------------------------\n",
      "----------------------------------------------------------------------------------------------------\n",
      "| epoch 11 | time:  0.44s | train auc 0.964 (9.544) | valid auc 0.642 (0.664) | \n",
      "----------------------------------------------------------------------------------------------------\n",
      "----------------------------------------------------------------------------------------------------\n",
      "| epoch 12 | time:  0.44s | train auc 0.969 (9.570) | valid auc 0.650 (0.662) | \n",
      "----------------------------------------------------------------------------------------------------\n",
      "----------------------------------------------------------------------------------------------------\n",
      "| epoch 13 | time:  0.44s | train auc 0.951 (9.079) | valid auc 0.662 (0.656) | \n",
      "----------------------------------------------------------------------------------------------------\n",
      "----------------------------------------------------------------------------------------------------\n",
      "| epoch 14 | time:  0.44s | train auc 0.960 (9.039) | valid auc 0.673 (0.649) | \n",
      "----------------------------------------------------------------------------------------------------\n",
      "----------------------------------------------------------------------------------------------------\n",
      "| epoch 15 | time:  0.44s | train auc 0.968 (9.068) | valid auc 0.672 (0.653) | \n",
      "----------------------------------------------------------------------------------------------------\n",
      "----------------------------------------------------------------------------------------------------\n",
      "| epoch 16 | time:  0.44s | train auc 0.954 (8.871) | valid auc 0.681 (0.645) | \n",
      "----------------------------------------------------------------------------------------------------\n",
      "----------------------------------------------------------------------------------------------------\n",
      "| epoch 17 | time:  0.44s | train auc 0.961 (7.839) | valid auc 0.685 (0.639) | \n",
      "----------------------------------------------------------------------------------------------------\n",
      "----------------------------------------------------------------------------------------------------\n",
      "| epoch 18 | time:  0.44s | train auc 0.969 (8.081) | valid auc 0.684 (0.640) | \n",
      "----------------------------------------------------------------------------------------------------\n",
      "----------------------------------------------------------------------------------------------------\n",
      "| epoch 19 | time:  0.44s | train auc 0.970 (7.957) | valid auc 0.686 (0.638) | \n",
      "----------------------------------------------------------------------------------------------------\n",
      "----------------------------------------------------------------------------------------------------\n",
      "| epoch 20 | time:  0.44s | train auc 0.975 (7.933) | valid auc 0.681 (0.641) | \n",
      "----------------------------------------------------------------------------------------------------\n",
      "----------------------------------------------------------------------------------------------------\n",
      "| epoch 21 | time:  0.44s | train auc 0.979 (7.762) | valid auc 0.685 (0.635) | \n",
      "----------------------------------------------------------------------------------------------------\n",
      "----------------------------------------------------------------------------------------------------\n",
      "| epoch 22 | time:  0.44s | train auc 0.982 (7.533) | valid auc 0.695 (0.631) | \n",
      "----------------------------------------------------------------------------------------------------\n",
      "----------------------------------------------------------------------------------------------------\n",
      "| epoch 23 | time:  0.44s | train auc 0.981 (7.094) | valid auc 0.702 (0.626) | \n",
      "----------------------------------------------------------------------------------------------------\n",
      "----------------------------------------------------------------------------------------------------\n",
      "| epoch 24 | time:  0.44s | train auc 0.974 (7.404) | valid auc 0.703 (0.646) | \n",
      "----------------------------------------------------------------------------------------------------\n",
      "----------------------------------------------------------------------------------------------------\n",
      "| epoch 25 | time:  0.44s | train auc 0.982 (6.914) | valid auc 0.701 (0.629) | \n",
      "----------------------------------------------------------------------------------------------------\n",
      "----------------------------------------------------------------------------------------------------\n",
      "| epoch 26 | time:  0.44s | train auc 0.986 (6.782) | valid auc 0.720 (0.616) | \n",
      "----------------------------------------------------------------------------------------------------\n",
      "----------------------------------------------------------------------------------------------------\n",
      "| epoch 27 | time:  0.44s | train auc 0.989 (6.405) | valid auc 0.718 (0.611) | \n",
      "----------------------------------------------------------------------------------------------------\n",
      "----------------------------------------------------------------------------------------------------\n",
      "| epoch 28 | time:  0.44s | train auc 0.993 (6.422) | valid auc 0.729 (0.606) | \n",
      "----------------------------------------------------------------------------------------------------\n",
      "----------------------------------------------------------------------------------------------------\n",
      "| epoch 29 | time:  0.44s | train auc 0.993 (6.169) | valid auc 0.755 (0.588) | \n",
      "----------------------------------------------------------------------------------------------------\n",
      "----------------------------------------------------------------------------------------------------\n",
      "| epoch 30 | time:  0.44s | train auc 0.992 (6.080) | valid auc 0.776 (0.568) | \n",
      "----------------------------------------------------------------------------------------------------\n",
      "----------------------------------------------------------------------------------------------------\n",
      "| epoch 31 | time:  0.44s | train auc 0.995 (5.711) | valid auc 0.790 (0.549) | \n",
      "----------------------------------------------------------------------------------------------------\n",
      "----------------------------------------------------------------------------------------------------\n",
      "| epoch 32 | time:  0.44s | train auc 0.995 (5.778) | valid auc 0.813 (0.518) | \n",
      "----------------------------------------------------------------------------------------------------\n",
      "----------------------------------------------------------------------------------------------------\n",
      "| epoch 33 | time:  0.44s | train auc 0.998 (5.030) | valid auc 0.814 (0.525) | \n",
      "----------------------------------------------------------------------------------------------------\n",
      "----------------------------------------------------------------------------------------------------\n",
      "| epoch 34 | time:  0.44s | train auc 0.997 (4.824) | valid auc 0.818 (0.509) | \n",
      "----------------------------------------------------------------------------------------------------\n",
      "----------------------------------------------------------------------------------------------------\n",
      "| epoch 35 | time:  0.44s | train auc 0.996 (4.727) | valid auc 0.821 (0.495) | \n",
      "----------------------------------------------------------------------------------------------------\n",
      "----------------------------------------------------------------------------------------------------\n",
      "| epoch 36 | time:  0.44s | train auc 0.999 (4.227) | valid auc 0.815 (0.517) | \n",
      "----------------------------------------------------------------------------------------------------\n",
      "----------------------------------------------------------------------------------------------------\n",
      "| epoch 37 | time:  0.44s | train auc 0.998 (4.322) | valid auc 0.821 (0.490) | \n",
      "----------------------------------------------------------------------------------------------------\n",
      "----------------------------------------------------------------------------------------------------\n",
      "| epoch 38 | time:  0.44s | train auc 0.993 (4.007) | valid auc 0.824 (0.479) | \n",
      "----------------------------------------------------------------------------------------------------\n",
      "----------------------------------------------------------------------------------------------------\n",
      "| epoch 39 | time:  0.44s | train auc 1.000 (4.607) | valid auc 0.810 (0.511) | \n",
      "----------------------------------------------------------------------------------------------------\n"
     ]
    },
    {
     "data": {
      "text/plain": [
       "0.8095679012345679"
      ]
     },
     "execution_count": 34,
     "metadata": {},
     "output_type": "execute_result"
    }
   ],
   "source": [
    "run_experiment('AttnToNum', ixs_lo=ixs_lo, is_verbose=True)"
   ]
  },
  {
   "cell_type": "markdown",
   "id": "dc7c91f0-d175-4d5f-89a6-b1291a21b823",
   "metadata": {},
   "source": [
    "## Run All Experiments"
   ]
  },
  {
   "cell_type": "code",
   "execution_count": 37,
   "id": "431e25a5-138b-4e47-a9dd-9dccf62de543",
   "metadata": {
    "tags": []
   },
   "outputs": [],
   "source": [
    "def run_experiments(is_verbose=False, n_exp=10):\n",
    "    aucs_lo = {\n",
    "        'TextCnn': [],\n",
    "        'ScaleNum': [],\n",
    "        'AttnToNum': [],\n",
    "        'AttnToNumNoScaleNum': [],\n",
    "    }\n",
    "    \n",
    "    exp_runs = list(range(n_exp))\n",
    "    \n",
    "    for run in (pbar := tqdm.tqdm(exp_runs)):\n",
    "        ixs_lo = gen_ixs_lo()\n",
    "        for model_s, aucs in aucs_lo.items():\n",
    "            holdout_auc = run_experiment(model_s, ixs_lo, is_verbose=is_verbose)\n",
    "            aucs.append(holdout_auc)\n",
    "            pbar.set_description(f'completed run: {run + 1}, model: {model_s}, holdout AUC: {holdout_auc:.2f}')\n",
    "    \n",
    "    return aucs_lo"
   ]
  },
  {
   "cell_type": "code",
   "execution_count": 38,
   "id": "c475faa6-aed3-4621-a580-141d2cc23d82",
   "metadata": {
    "tags": []
   },
   "outputs": [
    {
     "name": "stderr",
     "output_type": "stream",
     "text": [
      "completed run: 30, model: AttnToNumNoScaleNum, holdout AUC: 0.67: 100%|███████████████████| 30/30 [24:15<00:00, 48.53s/it]\n"
     ]
    }
   ],
   "source": [
    "aucs_lo = run_experiments(n_exp=30)"
   ]
  },
  {
   "cell_type": "code",
   "execution_count": 39,
   "id": "4a16f8d0-0cce-4395-8ad5-736eec2ca626",
   "metadata": {
    "tags": []
   },
   "outputs": [],
   "source": [
    "aucs_df = pd.DataFrame(aucs_lo)"
   ]
  },
  {
   "cell_type": "code",
   "execution_count": 75,
   "id": "9be927b3-54d3-40a8-ac3d-65303fdae5f7",
   "metadata": {
    "tags": []
   },
   "outputs": [
    {
     "data": {
      "text/html": [
       "<div>\n",
       "<style scoped>\n",
       "    .dataframe tbody tr th:only-of-type {\n",
       "        vertical-align: middle;\n",
       "    }\n",
       "\n",
       "    .dataframe tbody tr th {\n",
       "        vertical-align: top;\n",
       "    }\n",
       "\n",
       "    .dataframe thead th {\n",
       "        text-align: right;\n",
       "    }\n",
       "</style>\n",
       "<table border=\"1\" class=\"dataframe\">\n",
       "  <thead>\n",
       "    <tr style=\"text-align: right;\">\n",
       "      <th></th>\n",
       "      <th>TextCnn</th>\n",
       "      <th>ScaleNum</th>\n",
       "      <th>AttnToNum</th>\n",
       "      <th>AttnToNumNoScaleNum</th>\n",
       "    </tr>\n",
       "  </thead>\n",
       "  <tbody>\n",
       "    <tr>\n",
       "      <th>5</th>\n",
       "      <td>0.756019</td>\n",
       "      <td>0.780556</td>\n",
       "      <td>0.873765</td>\n",
       "      <td>0.675463</td>\n",
       "    </tr>\n",
       "    <tr>\n",
       "      <th>21</th>\n",
       "      <td>0.643056</td>\n",
       "      <td>0.696296</td>\n",
       "      <td>0.822994</td>\n",
       "      <td>0.725463</td>\n",
       "    </tr>\n",
       "    <tr>\n",
       "      <th>16</th>\n",
       "      <td>0.663580</td>\n",
       "      <td>0.756790</td>\n",
       "      <td>0.841049</td>\n",
       "      <td>0.613889</td>\n",
       "    </tr>\n",
       "    <tr>\n",
       "      <th>8</th>\n",
       "      <td>0.746914</td>\n",
       "      <td>0.737500</td>\n",
       "      <td>0.870679</td>\n",
       "      <td>0.692284</td>\n",
       "    </tr>\n",
       "    <tr>\n",
       "      <th>25</th>\n",
       "      <td>0.697685</td>\n",
       "      <td>0.671142</td>\n",
       "      <td>0.882407</td>\n",
       "      <td>0.726698</td>\n",
       "    </tr>\n",
       "    <tr>\n",
       "      <th>14</th>\n",
       "      <td>0.715586</td>\n",
       "      <td>0.625617</td>\n",
       "      <td>0.828086</td>\n",
       "      <td>0.681944</td>\n",
       "    </tr>\n",
       "    <tr>\n",
       "      <th>29</th>\n",
       "      <td>0.693056</td>\n",
       "      <td>0.710802</td>\n",
       "      <td>0.845216</td>\n",
       "      <td>0.672840</td>\n",
       "    </tr>\n",
       "    <tr>\n",
       "      <th>3</th>\n",
       "      <td>0.745216</td>\n",
       "      <td>0.764969</td>\n",
       "      <td>0.832099</td>\n",
       "      <td>0.722068</td>\n",
       "    </tr>\n",
       "    <tr>\n",
       "      <th>28</th>\n",
       "      <td>0.655093</td>\n",
       "      <td>0.673765</td>\n",
       "      <td>0.874228</td>\n",
       "      <td>0.630864</td>\n",
       "    </tr>\n",
       "    <tr>\n",
       "      <th>17</th>\n",
       "      <td>0.641204</td>\n",
       "      <td>0.660648</td>\n",
       "      <td>0.854167</td>\n",
       "      <td>0.677315</td>\n",
       "    </tr>\n",
       "  </tbody>\n",
       "</table>\n",
       "</div>"
      ],
      "text/plain": [
       "     TextCnn  ScaleNum  AttnToNum  AttnToNumNoScaleNum\n",
       "5   0.756019  0.780556   0.873765             0.675463\n",
       "21  0.643056  0.696296   0.822994             0.725463\n",
       "16  0.663580  0.756790   0.841049             0.613889\n",
       "8   0.746914  0.737500   0.870679             0.692284\n",
       "25  0.697685  0.671142   0.882407             0.726698\n",
       "14  0.715586  0.625617   0.828086             0.681944\n",
       "29  0.693056  0.710802   0.845216             0.672840\n",
       "3   0.745216  0.764969   0.832099             0.722068\n",
       "28  0.655093  0.673765   0.874228             0.630864\n",
       "17  0.641204  0.660648   0.854167             0.677315"
      ]
     },
     "execution_count": 75,
     "metadata": {},
     "output_type": "execute_result"
    }
   ],
   "source": [
    "aucs_df.sample(10)"
   ]
  },
  {
   "cell_type": "code",
   "execution_count": 41,
   "id": "49631876-74cb-4769-9cef-ab7d4c6b8c0a",
   "metadata": {
    "tags": []
   },
   "outputs": [
    {
     "data": {
      "text/plain": [
       "0.13876028806584367"
      ]
     },
     "execution_count": 41,
     "metadata": {},
     "output_type": "execute_result"
    }
   ],
   "source": [
    "(aucs_df.AttnToNum - aucs_df.TextCnn).mean()"
   ]
  },
  {
   "cell_type": "code",
   "execution_count": 55,
   "id": "904ab1ea-99f5-4f20-a076-90a0e11684fb",
   "metadata": {
    "tags": []
   },
   "outputs": [],
   "source": [
    "aucs_df_long = (\n",
    "    aucs_df\n",
    "    .assign(experiment=range(1, aucs_df.shape[0]+1))\n",
    "    .melt(\n",
    "        id_vars='experiment',\n",
    "        value_vars=['TextCnn', 'ScaleNum','AttnToNumNoScaleNum', 'AttnToNum'],\n",
    "        value_name='AUC',\n",
    "        var_name='model'\n",
    "    )\n",
    "    .assign(\n",
    "        experiment_group = lambda df: df.experiment.map(\n",
    "            lambda _: \n",
    "            '1-10' if _ <= 10\n",
    "            else '11-20' if _ <= 20\n",
    "            else '21-30'\n",
    "        )\n",
    "    )\n",
    ")"
   ]
  },
  {
   "cell_type": "code",
   "execution_count": 58,
   "id": "f52b4320-fb2f-4dd0-9ad5-411ce214dca0",
   "metadata": {
    "tags": []
   },
   "outputs": [
    {
     "name": "stderr",
     "output_type": "stream",
     "text": [
      "/tmp/ipykernel_328206/3933300537.py:1: FutureWarning: use_inf_as_na option is deprecated and will be removed in a future version. Convert inf values to NaN before operating instead.\n",
      "  with pd.option_context(\"mode.use_inf_as_na\", True):\n",
      "/home/jod204/mambaforge/envs/jod204_pytorch/lib/python3.10/site-packages/seaborn/_core/rules.py:72: FutureWarning: is_categorical_dtype is deprecated and will be removed in a future version. Use isinstance(dtype, CategoricalDtype) instead\n",
      "  if pd.api.types.is_categorical_dtype(vector):\n",
      "/home/jod204/mambaforge/envs/jod204_pytorch/lib/python3.10/site-packages/seaborn/_core/rules.py:72: FutureWarning: is_categorical_dtype is deprecated and will be removed in a future version. Use isinstance(dtype, CategoricalDtype) instead\n",
      "  if pd.api.types.is_categorical_dtype(vector):\n",
      "/home/jod204/mambaforge/envs/jod204_pytorch/lib/python3.10/site-packages/seaborn/_core/rules.py:72: FutureWarning: is_categorical_dtype is deprecated and will be removed in a future version. Use isinstance(dtype, CategoricalDtype) instead\n",
      "  if pd.api.types.is_categorical_dtype(vector):\n",
      "/home/jod204/mambaforge/envs/jod204_pytorch/lib/python3.10/site-packages/seaborn/_core/rules.py:72: FutureWarning: is_categorical_dtype is deprecated and will be removed in a future version. Use isinstance(dtype, CategoricalDtype) instead\n",
      "  if pd.api.types.is_categorical_dtype(vector):\n",
      "/home/jod204/mambaforge/envs/jod204_pytorch/lib/python3.10/site-packages/seaborn/_core/rules.py:72: FutureWarning: is_categorical_dtype is deprecated and will be removed in a future version. Use isinstance(dtype, CategoricalDtype) instead\n",
      "  if pd.api.types.is_categorical_dtype(vector):\n",
      "/home/jod204/mambaforge/envs/jod204_pytorch/lib/python3.10/site-packages/seaborn/_core/rules.py:72: FutureWarning: is_categorical_dtype is deprecated and will be removed in a future version. Use isinstance(dtype, CategoricalDtype) instead\n",
      "  if pd.api.types.is_categorical_dtype(vector):\n",
      "/home/jod204/mambaforge/envs/jod204_pytorch/lib/python3.10/site-packages/seaborn/_core/rules.py:72: FutureWarning: is_categorical_dtype is deprecated and will be removed in a future version. Use isinstance(dtype, CategoricalDtype) instead\n",
      "  if pd.api.types.is_categorical_dtype(vector):\n",
      "/home/jod204/mambaforge/envs/jod204_pytorch/lib/python3.10/site-packages/seaborn/_core/rules.py:72: FutureWarning: is_categorical_dtype is deprecated and will be removed in a future version. Use isinstance(dtype, CategoricalDtype) instead\n",
      "  if pd.api.types.is_categorical_dtype(vector):\n",
      "/home/jod204/mambaforge/envs/jod204_pytorch/lib/python3.10/site-packages/seaborn/_core/rules.py:72: FutureWarning: is_categorical_dtype is deprecated and will be removed in a future version. Use isinstance(dtype, CategoricalDtype) instead\n",
      "  if pd.api.types.is_categorical_dtype(vector):\n",
      "/home/jod204/mambaforge/envs/jod204_pytorch/lib/python3.10/site-packages/seaborn/_core/plot.py:1491: FutureWarning: use_inf_as_na option is deprecated and will be removed in a future version. Convert inf values to NaN before operating instead.\n",
      "  with pd.option_context(\"mode.use_inf_as_na\", True):\n",
      "/home/jod204/mambaforge/envs/jod204_pytorch/lib/python3.10/site-packages/seaborn/_core/plot.py:1491: FutureWarning: use_inf_as_na option is deprecated and will be removed in a future version. Convert inf values to NaN before operating instead.\n",
      "  with pd.option_context(\"mode.use_inf_as_na\", True):\n",
      "/home/jod204/mambaforge/envs/jod204_pytorch/lib/python3.10/site-packages/seaborn/_core/plot.py:1491: FutureWarning: use_inf_as_na option is deprecated and will be removed in a future version. Convert inf values to NaN before operating instead.\n",
      "  with pd.option_context(\"mode.use_inf_as_na\", True):\n"
     ]
    },
    {
     "data": {
      "image/png": "[encoded data removed]",
      "text/plain": [
       "<seaborn._core.plot.Plot at 0x7f55b0541750>"
      ]
     },
     "execution_count": 58,
     "metadata": {
      "image/png": {
       "height": 378.25,
       "width": 712.3
      }
     },
     "output_type": "execute_result"
    }
   ],
   "source": [
    "with pd.option_context(\"mode.use_inf_as_na\", True):\n",
    "    plot = so.Plot(\n",
    "        data=aucs_df_long,\n",
    "        x='experiment', y='AUC', color='model'\n",
    "    ).add(so.Bar(), so.Dodge()).facet(row='experiment_group').share(x=False)\n",
    "plot"
   ]
  },
  {
   "cell_type": "markdown",
   "id": "e82dff20-29ac-40db-8e77-a1c8da4839d3",
   "metadata": {},
   "source": [
    "# P-Values"
   ]
  },
  {
   "cell_type": "markdown",
   "id": "4c8dd96c-6c4f-483e-b0ee-73dc7cc93e7e",
   "metadata": {},
   "source": [
    "AttentionToNum outperforms basic embeddings if and only if the numbers are scaled first.  \n",
    "This implies that both scaling and attention are important for encoding numerical information."
   ]
  },
  {
   "cell_type": "code",
   "execution_count": 69,
   "id": "ef18e2f0-9f8a-4922-a81a-36920700725d",
   "metadata": {
    "tags": []
   },
   "outputs": [],
   "source": [
    "def get_p_value(model1:str, model2:str, n_sims=1000):\n",
    "    diff = aucs_df[model1]-aucs_df[model2]\n",
    "    true_gap = diff.sum()\n",
    "    n_exp = len(aucs_df)\n",
    "    \n",
    "    sim_gaps = [ (diff @ np.random.choice([1, -1], n_exp)).sum() for _ in range(n_sims)]\n",
    "    return {\n",
    "        '2-side': ((np.abs(sim_gaps) > true_gap).sum() + 1)/n_sims,\n",
    "        'single': ((sim_gaps > true_gap).sum() + 1)/n_sims,\n",
    "        f'{model1} μ': np.round(aucs_df[model1].mean(), 3),\n",
    "        f'{model2} μ': np.round(aucs_df[model2].mean(), 3),\n",
    "    }"
   ]
  },
  {
   "cell_type": "code",
   "execution_count": 70,
   "id": "d97947d3-e109-4d7a-8dbc-62edf9e404bd",
   "metadata": {
    "tags": []
   },
   "outputs": [
    {
     "data": {
      "text/plain": [
       "{'2-side': 0.001, 'single': 0.001, 'AttnToNum μ': 0.85, 'TextCnn μ': 0.711}"
      ]
     },
     "execution_count": 70,
     "metadata": {},
     "output_type": "execute_result"
    }
   ],
   "source": [
    "get_p_value('AttnToNum', 'TextCnn')"
   ]
  },
  {
   "cell_type": "code",
   "execution_count": 71,
   "id": "7023c724-3b12-4b82-9aa3-42bf44c36f11",
   "metadata": {
    "tags": []
   },
   "outputs": [
    {
     "data": {
      "text/plain": [
       "{'2-side': 0.001, 'single': 0.001, 'AttnToNum μ': 0.85, 'ScaleNum μ': 0.723}"
      ]
     },
     "execution_count": 71,
     "metadata": {},
     "output_type": "execute_result"
    }
   ],
   "source": [
    "get_p_value('AttnToNum', 'ScaleNum')"
   ]
  },
  {
   "cell_type": "code",
   "execution_count": 72,
   "id": "5bd2fcc4-b431-44a4-a265-ed889b1f297d",
   "metadata": {
    "tags": []
   },
   "outputs": [
    {
     "data": {
      "text/plain": [
       "{'2-side': 0.001,\n",
       " 'single': 0.001,\n",
       " 'AttnToNum μ': 0.85,\n",
       " 'AttnToNumNoScaleNum μ': 0.7}"
      ]
     },
     "execution_count": 72,
     "metadata": {},
     "output_type": "execute_result"
    }
   ],
   "source": [
    "get_p_value('AttnToNum', 'AttnToNumNoScaleNum')"
   ]
  },
  {
   "cell_type": "code",
   "execution_count": 73,
   "id": "aa4bf204-3fc6-4c5c-bc0b-3552bafe5fbc",
   "metadata": {
    "tags": []
   },
   "outputs": [
    {
     "data": {
      "text/plain": [
       "{'2-side': 0.185, 'single': 0.102, 'ScaleNum μ': 0.723, 'TextCnn μ': 0.711}"
      ]
     },
     "execution_count": 73,
     "metadata": {},
     "output_type": "execute_result"
    }
   ],
   "source": [
    "get_p_value('ScaleNum', 'TextCnn')"
   ]
  },
  {
   "cell_type": "code",
   "execution_count": 74,
   "id": "781ab8c7-d50f-4c28-9e44-dfa27d32e152",
   "metadata": {},
   "outputs": [
    {
     "data": {
      "text/plain": [
       "{'2-side': 1.001,\n",
       " 'single': 0.855,\n",
       " 'AttnToNumNoScaleNum μ': 0.7,\n",
       " 'TextCnn μ': 0.711}"
      ]
     },
     "execution_count": 74,
     "metadata": {},
     "output_type": "execute_result"
    }
   ],
   "source": [
    "get_p_value('AttnToNumNoScaleNum', 'TextCnn')"
   ]
  },
  {
   "cell_type": "code",
   "execution_count": null,
   "id": "83122898-6796-45c9-a31a-8496ecdd4980",
   "metadata": {},
   "outputs": [],
   "source": []
  }
 ],
 "metadata": {
  "kernelspec": {
   "display_name": "Python 3 (ipykernel)",
   "language": "python",
   "name": "python3"
  },
  "language_info": {
   "codemirror_mode": {
    "name": "ipython",
    "version": 3
   },
   "file_extension": ".py",
   "mimetype": "text/x-python",
   "name": "python",
   "nbconvert_exporter": "python",
   "pygments_lexer": "ipython3",
   "version": "3.10.9"
  }
 },
 "nbformat": 4,
 "nbformat_minor": 5
}
