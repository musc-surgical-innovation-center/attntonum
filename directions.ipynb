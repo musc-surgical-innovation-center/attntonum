{
 "cells": [
  {
   "cell_type": "markdown",
   "id": "0173016c-7cdb-4265-8d65-248e238c9a9b",
   "metadata": {
    "tags": []
   },
   "source": [
    "# Imports"
   ]
  },
  {
   "cell_type": "code",
   "execution_count": 1,
   "id": "ceab7348-0f9e-4b26-b337-7ed8560e98dd",
   "metadata": {
    "tags": []
   },
   "outputs": [],
   "source": [
    "import enum\n",
    "from importlib import reload\n",
    "from itertools import permutations\n",
    "import re\n",
    "from typing import Literal"
   ]
  },
  {
   "cell_type": "code",
   "execution_count": 2,
   "id": "4f844376-9af5-4cea-a592-9d111e639df5",
   "metadata": {
    "tags": []
   },
   "outputs": [],
   "source": [
    "import nltk\n",
    "import numpy as np\n",
    "import pandas as pd\n",
    "import seaborn.objects as so\n",
    "from sklearn.metrics import roc_auc_score\n",
    "from sklearn.model_selection import train_test_split\n",
    "import time\n",
    "from toolz import pipe as p\n",
    "import torch\n",
    "from torch.utils.data import DataLoader\n",
    "import tqdm"
   ]
  },
  {
   "cell_type": "code",
   "execution_count": 3,
   "id": "9f39ff8e-07f3-4a90-8951-02fb826befb2",
   "metadata": {
    "tags": []
   },
   "outputs": [],
   "source": [
    "import datasets as ds\n",
    "import experiment_utils as eu\n",
    "import hyperparam_config as config\n",
    "import text_cleaners\n",
    "import text_cnn as cnn\n",
    "import text_utils as tu\n",
    "import vocabs as v"
   ]
  },
  {
   "cell_type": "markdown",
   "id": "c2610f0b-6477-40b2-9f1f-6f6ec3a47f09",
   "metadata": {},
   "source": [
    "# Simulate Data"
   ]
  },
  {
   "cell_type": "code",
   "execution_count": 4,
   "id": "eef6ef9f-4827-4fd9-b4a6-71ad734fdfe3",
   "metadata": {
    "tags": []
   },
   "outputs": [],
   "source": [
    "def gutenberg_fn(author:str, book:str):\n",
    "    return lambda fn: getattr(nltk.corpus.gutenberg, fn)(f'{author}-{book}.txt')\n",
    "\n",
    "caesar, macbeth, hamlet = [gutenberg_fn('shakespeare', _) for _ in ['caesar', 'macbeth', 'hamlet']]"
   ]
  },
  {
   "cell_type": "code",
   "execution_count": 5,
   "id": "854d52c8-2310-4ebb-9cf2-7a942e5485a0",
   "metadata": {
    "tags": []
   },
   "outputs": [],
   "source": [
    "seq_len = 35"
   ]
  },
  {
   "cell_type": "code",
   "execution_count": 6,
   "id": "6c61d953-ef33-4374-9ee6-c8dfed5d4efe",
   "metadata": {
    "tags": []
   },
   "outputs": [],
   "source": [
    "caesar_start_ixs = list(range(0, len(caesar('words')), seq_len))\n",
    "hamlet_start_ixs = list(range(0, len(hamlet('words')), seq_len))"
   ]
  },
  {
   "cell_type": "code",
   "execution_count": 7,
   "id": "2ee94489-737a-4960-9617-66a612094ae7",
   "metadata": {
    "tags": []
   },
   "outputs": [
    {
     "data": {
      "text/plain": [
       "(739, 1068)"
      ]
     },
     "execution_count": 7,
     "metadata": {},
     "output_type": "execute_result"
    }
   ],
   "source": [
    "len(caesar_start_ixs), len(hamlet_start_ixs)"
   ]
  },
  {
   "cell_type": "code",
   "execution_count": 8,
   "id": "f3bcfb24-299b-4ae2-b46a-9c7e3e959c50",
   "metadata": {
    "tags": []
   },
   "outputs": [],
   "source": [
    "shakespeare = (\n",
    "    pd.concat(\n",
    "        [\n",
    "            (\n",
    "                pd.DataFrame(\n",
    "                    [\n",
    "                     ' '.join(gutenberg_fn('shakespeare', book)('words')[s_ix:s_ix+seq_len])\n",
    "                        for s_ix in start_ixs\n",
    "                    ],\n",
    "                    columns = ['sentence']\n",
    "            )\n",
    "            .assign(\n",
    "                book = book,\n",
    "            )\n",
    "            ) for book, start_ixs in [('caesar', caesar_start_ixs), ('hamlet', hamlet_start_ixs)]\n",
    "        ], axis = 0\n",
    "    )\n",
    "    .assign(\n",
    "        clean_txt = lambda df: df.sentence.map(text_cleaners.cleanTxt)\n",
    "    )\n",
    "    .assign(\n",
    "        n_words = lambda df: df.sentence.map(lambda s: len(s.split()))\n",
    "    )\n",
    "    .query('n_words >= 10')\n",
    ")"
   ]
  },
  {
   "cell_type": "code",
   "execution_count": 9,
   "id": "3ddeca20-2d8e-45bd-b780-24510aa06054",
   "metadata": {
    "tags": []
   },
   "outputs": [
    {
     "data": {
      "text/html": [
       "<div>\n",
       "<style scoped>\n",
       "    .dataframe tbody tr th:only-of-type {\n",
       "        vertical-align: middle;\n",
       "    }\n",
       "\n",
       "    .dataframe tbody tr th {\n",
       "        vertical-align: top;\n",
       "    }\n",
       "\n",
       "    .dataframe thead th {\n",
       "        text-align: right;\n",
       "    }\n",
       "</style>\n",
       "<table border=\"1\" class=\"dataframe\">\n",
       "  <thead>\n",
       "    <tr style=\"text-align: right;\">\n",
       "      <th></th>\n",
       "      <th>sentence</th>\n",
       "      <th>book</th>\n",
       "      <th>clean_txt</th>\n",
       "      <th>n_words</th>\n",
       "    </tr>\n",
       "  </thead>\n",
       "  <tbody>\n",
       "    <tr>\n",
       "      <th>0</th>\n",
       "      <td>[ The Tragedie of Julius Caesar by William Sha...</td>\n",
       "      <td>caesar</td>\n",
       "      <td>the tragedie of julius caesar by william shake...</td>\n",
       "      <td>35</td>\n",
       "    </tr>\n",
       "    <tr>\n",
       "      <th>1</th>\n",
       "      <td>idle Creatures , get you home : Is this a Holi...</td>\n",
       "      <td>caesar</td>\n",
       "      <td>idle creatures get you home is this a holiday ...</td>\n",
       "      <td>35</td>\n",
       "    </tr>\n",
       "    <tr>\n",
       "      <th>2</th>\n",
       "      <td>Profession ? Speake , what Trade art thou ? Ca...</td>\n",
       "      <td>caesar</td>\n",
       "      <td>profession speake what trade art thou car &lt;/s&gt;...</td>\n",
       "      <td>35</td>\n",
       "    </tr>\n",
       "    <tr>\n",
       "      <th>3</th>\n",
       "      <td>on ? You sir , what Trade are you ? Cobl . Tru...</td>\n",
       "      <td>caesar</td>\n",
       "      <td>on you sir what trade are you cobl &lt;/s&gt; truely...</td>\n",
       "      <td>35</td>\n",
       "    </tr>\n",
       "    <tr>\n",
       "      <th>4</th>\n",
       "      <td>what Trade art thou ? Answer me directly Cob ....</td>\n",
       "      <td>caesar</td>\n",
       "      <td>what trade art thou answer me directly cob &lt;/s...</td>\n",
       "      <td>35</td>\n",
       "    </tr>\n",
       "  </tbody>\n",
       "</table>\n",
       "</div>"
      ],
      "text/plain": [
       "                                            sentence    book  \\\n",
       "0  [ The Tragedie of Julius Caesar by William Sha...  caesar   \n",
       "1  idle Creatures , get you home : Is this a Holi...  caesar   \n",
       "2  Profession ? Speake , what Trade art thou ? Ca...  caesar   \n",
       "3  on ? You sir , what Trade are you ? Cobl . Tru...  caesar   \n",
       "4  what Trade art thou ? Answer me directly Cob ....  caesar   \n",
       "\n",
       "                                           clean_txt  n_words  \n",
       "0  the tragedie of julius caesar by william shake...       35  \n",
       "1  idle creatures get you home is this a holiday ...       35  \n",
       "2  profession speake what trade art thou car </s>...       35  \n",
       "3  on you sir what trade are you cobl </s> truely...       35  \n",
       "4  what trade art thou answer me directly cob </s...       35  "
      ]
     },
     "execution_count": 9,
     "metadata": {},
     "output_type": "execute_result"
    }
   ],
   "source": [
    "shakespeare.head()"
   ]
  },
  {
   "cell_type": "code",
   "execution_count": 10,
   "id": "40715029-7321-4ee2-a2cb-acb21a24d97e",
   "metadata": {
    "tags": []
   },
   "outputs": [
    {
     "data": {
      "text/plain": [
       "hamlet    1068\n",
       "caesar     738\n",
       "Name: book, dtype: int64"
      ]
     },
     "execution_count": 10,
     "metadata": {},
     "output_type": "execute_result"
    }
   ],
   "source": [
    "shakespeare.book.value_counts()"
   ]
  },
  {
   "cell_type": "markdown",
   "id": "48721981-7b9f-401f-b78b-e66faec723f0",
   "metadata": {},
   "source": [
    "## Sample from Bun & Creatinine"
   ]
  },
  {
   "cell_type": "code",
   "execution_count": 11,
   "id": "fdf088a9-5da0-4f67-89e5-3f12ad4215ab",
   "metadata": {
    "tags": []
   },
   "outputs": [],
   "source": [
    "bun_creat_vals = pd.read_csv('data/bun_creat_vals.csv')"
   ]
  },
  {
   "cell_type": "code",
   "execution_count": 12,
   "id": "136cd6f9-1b91-4e67-a640-1de26a1818cf",
   "metadata": {
    "tags": []
   },
   "outputs": [
    {
     "data": {
      "text/html": [
       "<div>\n",
       "<style scoped>\n",
       "    .dataframe tbody tr th:only-of-type {\n",
       "        vertical-align: middle;\n",
       "    }\n",
       "\n",
       "    .dataframe tbody tr th {\n",
       "        vertical-align: top;\n",
       "    }\n",
       "\n",
       "    .dataframe thead th {\n",
       "        text-align: right;\n",
       "    }\n",
       "</style>\n",
       "<table border=\"1\" class=\"dataframe\">\n",
       "  <thead>\n",
       "    <tr style=\"text-align: right;\">\n",
       "      <th></th>\n",
       "      <th>sample_ix</th>\n",
       "      <th>bun</th>\n",
       "      <th>creat</th>\n",
       "      <th>is_mm</th>\n",
       "    </tr>\n",
       "  </thead>\n",
       "  <tbody>\n",
       "    <tr>\n",
       "      <th>0</th>\n",
       "      <td>0</td>\n",
       "      <td>8.0</td>\n",
       "      <td>0.7</td>\n",
       "      <td>0</td>\n",
       "    </tr>\n",
       "    <tr>\n",
       "      <th>1</th>\n",
       "      <td>1</td>\n",
       "      <td>20.0</td>\n",
       "      <td>1.2</td>\n",
       "      <td>0</td>\n",
       "    </tr>\n",
       "    <tr>\n",
       "      <th>2</th>\n",
       "      <td>2</td>\n",
       "      <td>27.0</td>\n",
       "      <td>1.1</td>\n",
       "      <td>0</td>\n",
       "    </tr>\n",
       "    <tr>\n",
       "      <th>3</th>\n",
       "      <td>3</td>\n",
       "      <td>10.0</td>\n",
       "      <td>1.0</td>\n",
       "      <td>0</td>\n",
       "    </tr>\n",
       "    <tr>\n",
       "      <th>4</th>\n",
       "      <td>4</td>\n",
       "      <td>22.0</td>\n",
       "      <td>1.9</td>\n",
       "      <td>1</td>\n",
       "    </tr>\n",
       "  </tbody>\n",
       "</table>\n",
       "</div>"
      ],
      "text/plain": [
       "   sample_ix   bun  creat  is_mm\n",
       "0          0   8.0    0.7      0\n",
       "1          1  20.0    1.2      0\n",
       "2          2  27.0    1.1      0\n",
       "3          3  10.0    1.0      0\n",
       "4          4  22.0    1.9      1"
      ]
     },
     "execution_count": 12,
     "metadata": {},
     "output_type": "execute_result"
    }
   ],
   "source": [
    "bun_creat_vals.head()"
   ]
  },
  {
   "cell_type": "code",
   "execution_count": 13,
   "id": "26ccaa99-7bc2-4d0d-9935-56b9115ee5a4",
   "metadata": {
    "tags": []
   },
   "outputs": [
    {
     "data": {
      "text/plain": [
       "(82, 1)"
      ]
     },
     "execution_count": 13,
     "metadata": {},
     "output_type": "execute_result"
    }
   ],
   "source": [
    "bun_creat_vals[['bun']].drop_duplicates().shape"
   ]
  },
  {
   "cell_type": "code",
   "execution_count": 14,
   "id": "03ed98ee-f48c-470e-9efe-0f720a11e7b2",
   "metadata": {
    "tags": []
   },
   "outputs": [
    {
     "data": {
      "text/plain": [
       "(90, 1)"
      ]
     },
     "execution_count": 14,
     "metadata": {},
     "output_type": "execute_result"
    }
   ],
   "source": [
    "bun_creat_vals[['creat']].drop_duplicates().shape"
   ]
  },
  {
   "cell_type": "markdown",
   "id": "c09bba77-4942-44b9-84f1-0431aeec8cd6",
   "metadata": {},
   "source": [
    "### Bun & Creatine Raw AUC"
   ]
  },
  {
   "cell_type": "code",
   "execution_count": 15,
   "id": "81d87247-ca7d-41ed-b7f9-942612589263",
   "metadata": {
    "tags": []
   },
   "outputs": [
    {
     "data": {
      "text/plain": [
       "0.7612335902205687"
      ]
     },
     "execution_count": 15,
     "metadata": {},
     "output_type": "execute_result"
    }
   ],
   "source": [
    "(\n",
    "    bun_creat_vals[['bun', 'is_mm']]\n",
    "    .fillna(bun_creat_vals.bun.median())\n",
    "    .pipe(lambda df: roc_auc_score(df.is_mm, df.bun))\n",
    ")"
   ]
  },
  {
   "cell_type": "code",
   "execution_count": 16,
   "id": "12a2da24-fd5b-46d5-b3b2-e9ac0879faa8",
   "metadata": {
    "tags": []
   },
   "outputs": [
    {
     "data": {
      "text/plain": [
       "0.7755083709806005"
      ]
     },
     "execution_count": 16,
     "metadata": {},
     "output_type": "execute_result"
    }
   ],
   "source": [
    "(\n",
    "    bun_creat_vals[['creat', 'is_mm']]\n",
    "    .fillna(bun_creat_vals.creat.median())\n",
    "    .pipe(lambda df: roc_auc_score(df.is_mm, df.creat))\n",
    ")"
   ]
  },
  {
   "cell_type": "code",
   "execution_count": 17,
   "id": "f3222e70-532f-40c4-9b71-68bad7f57d65",
   "metadata": {
    "tags": []
   },
   "outputs": [
    {
     "data": {
      "text/html": [
       "<div>\n",
       "<style scoped>\n",
       "    .dataframe tbody tr th:only-of-type {\n",
       "        vertical-align: middle;\n",
       "    }\n",
       "\n",
       "    .dataframe tbody tr th {\n",
       "        vertical-align: top;\n",
       "    }\n",
       "\n",
       "    .dataframe thead th {\n",
       "        text-align: right;\n",
       "    }\n",
       "</style>\n",
       "<table border=\"1\" class=\"dataframe\">\n",
       "  <thead>\n",
       "    <tr style=\"text-align: right;\">\n",
       "      <th></th>\n",
       "      <th>is_mm</th>\n",
       "      <th>bun_mn</th>\n",
       "      <th>bun_sigma</th>\n",
       "      <th>creat_mn</th>\n",
       "      <th>creat_sigma</th>\n",
       "    </tr>\n",
       "  </thead>\n",
       "  <tbody>\n",
       "    <tr>\n",
       "      <th>0</th>\n",
       "      <td>0</td>\n",
       "      <td>16.175229</td>\n",
       "      <td>6.807525</td>\n",
       "      <td>1.150522</td>\n",
       "      <td>1.106105</td>\n",
       "    </tr>\n",
       "    <tr>\n",
       "      <th>1</th>\n",
       "      <td>1</td>\n",
       "      <td>31.251256</td>\n",
       "      <td>18.814545</td>\n",
       "      <td>2.397496</td>\n",
       "      <td>2.291239</td>\n",
       "    </tr>\n",
       "  </tbody>\n",
       "</table>\n",
       "</div>"
      ],
      "text/plain": [
       "   is_mm     bun_mn  bun_sigma  creat_mn  creat_sigma\n",
       "0      0  16.175229   6.807525  1.150522     1.106105\n",
       "1      1  31.251256  18.814545  2.397496     2.291239"
      ]
     },
     "execution_count": 17,
     "metadata": {},
     "output_type": "execute_result"
    }
   ],
   "source": [
    "summary_stats = (\n",
    "    bun_creat_vals\n",
    "    .groupby('is_mm').agg(\n",
    "        bun_mn =('bun', 'mean'),\n",
    "        bun_sigma = ('bun', 'std'),\n",
    "        creat_mn = ('creat', 'mean'),\n",
    "        creat_sigma = ('creat', 'std'),\n",
    "    )\n",
    "    .reset_index()\n",
    ")\n",
    "\n",
    "summary_stats"
   ]
  },
  {
   "cell_type": "markdown",
   "id": "19f7330c-3f84-49c7-a9e0-8526e6f802f5",
   "metadata": {},
   "source": [
    "### Include Bun & Creatinine"
   ]
  },
  {
   "cell_type": "code",
   "execution_count": 18,
   "id": "a8615d3d-ae6b-4ccf-9ec6-5aec2aa843ea",
   "metadata": {
    "tags": []
   },
   "outputs": [],
   "source": [
    "def gen_sample_value(is_hamlet:bool):\n",
    "    sample = summary_stats.query(f'is_mm == {1 if is_hamlet else 0}')\n",
    "    bun_mu, creat_mu = sample.bun_mn.values[0], sample.creat_mn.values[0]\n",
    "    bun_sigma, creat_sigma = sample.bun_sigma.values[0], sample.creat_sigma.values[0]\n",
    "    bun = np.random.randn()*bun_sigma + bun_mu\n",
    "    creat = np.random.randn()*creat_sigma + creat_mu\n",
    "    return bun, creat"
   ]
  },
  {
   "cell_type": "code",
   "execution_count": 19,
   "id": "7a19778e-8349-4d3f-8b0d-ae77971b9799",
   "metadata": {
    "tags": []
   },
   "outputs": [
    {
     "data": {
      "text/plain": [
       "[(29.170300636703864, 1.3101440007177265),\n",
       " (11.516588463097213, -0.22632083166193873),\n",
       " (11.676629181214278, 1.4527884305653513),\n",
       " (12.241085675819557, 0.30229890356991784),\n",
       " (11.566279989215165, 1.5514524938600038)]"
      ]
     },
     "execution_count": 19,
     "metadata": {},
     "output_type": "execute_result"
    }
   ],
   "source": [
    "[gen_sample_value(False) for _ in range(5)]"
   ]
  },
  {
   "cell_type": "code",
   "execution_count": 20,
   "id": "9173da30-ccfc-4fc9-b7dd-66bb619ed760",
   "metadata": {
    "tags": []
   },
   "outputs": [
    {
     "data": {
      "text/plain": [
       "[(6.974382943627017, 1.6879586002152571),\n",
       " (15.843074912158066, 2.126088798536218),\n",
       " (34.084315749055804, 2.0004718852983645),\n",
       " (10.10980919484912, 1.0083640831954137),\n",
       " (43.493570109596334, 0.08112973943336454)]"
      ]
     },
     "execution_count": 20,
     "metadata": {},
     "output_type": "execute_result"
    }
   ],
   "source": [
    "[gen_sample_value(True) for _ in range(5)]"
   ]
  },
  {
   "cell_type": "code",
   "execution_count": 21,
   "id": "7225a322-5c42-4f25-b4d1-83fe23e184c2",
   "metadata": {
    "tags": []
   },
   "outputs": [],
   "source": [
    "def include_met(val:float, met:str, txt:str):\n",
    "    words = txt.split(' ')\n",
    "    if pd.isna(val):\n",
    "        return ' '.join(words)\n",
    "    \n",
    "    n_words = len(words)\n",
    "    insert_ix = np.random.randint(0, n_words)\n",
    "    \n",
    "    val_phrase = [met, f'{val}']\n",
    "    if np.random.rand() < .5:\n",
    "        val_phrase = [val_phrase[0]] + ['of'] + [val_phrase[1]]\n",
    "    \n",
    "    return ' '.join(words[:insert_ix] + val_phrase + words[insert_ix:])"
   ]
  },
  {
   "cell_type": "code",
   "execution_count": 22,
   "id": "4784e819-230d-4e39-94f9-1bfa6db4ba2a",
   "metadata": {
    "tags": []
   },
   "outputs": [],
   "source": [
    "def make_phrase(val:float, met:str):\n",
    "    if pd.isna(val):\n",
    "        return []\n",
    "    else:\n",
    "        phrase = [met, f'{val:.2f}']\n",
    "        if np.random.rand() < .5:\n",
    "            phrase = [phrase[0]] + ['of'] + [phrase[1]]\n",
    "        return phrase\n",
    "\n",
    "def include_mets(val1:float, met1:str, val2:float, met2:str, txt:str):\n",
    "    words = txt.split(' ')\n",
    "    phrase1 = make_phrase(val1, met1)\n",
    "    phrase2 = make_phrase(val2, met2)\n",
    "    \n",
    "    n_words = len(words)\n",
    "    insert_ix = np.random.randint(0, n_words)\n",
    "    \n",
    "    chunk_ixs = list(range(4))\n",
    "    np.random.shuffle(chunk_ixs)\n",
    "    \n",
    "    chunks = []\n",
    "    chunks_arr = [words[:insert_ix], phrase1, phrase2, words[insert_ix:]]\n",
    "    for _ in chunk_ixs:\n",
    "        chunks = chunks + chunks_arr[_]\n",
    "    \n",
    "    return ' '.join(chunks)"
   ]
  },
  {
   "cell_type": "code",
   "execution_count": 42,
   "id": "920044ae-7c2b-44ab-9825-681ef51fa7fe",
   "metadata": {
    "tags": []
   },
   "outputs": [],
   "source": [
    "shakespeare_hamlet = (\n",
    "    shakespeare\n",
    "    .query('book in [\"hamlet\"]')\n",
    "    .assign(start_ix = hamlet_start_ixs)\n",
    "    .assign(\n",
    "        is_second_half = lambda df: df.start_ix.map(lambda s: 1 if s > int(hamlet_start_ixs[-1]/2) else 0),\n",
    "        bc = lambda df: df.is_second_half.map(gen_sample_value),\n",
    "        met_txt = lambda df: [\n",
    "            #include_met( r.bc[0].round(2), 'bun', r.clean_txt)\n",
    "            include_mets( r.bc[0].round(2), 'bun', r.bc[1].round(1), 'creatinine', r.clean_txt)\n",
    "            for r in df.itertuples()\n",
    "        ],\n",
    "    )\n",
    ")"
   ]
  },
  {
   "cell_type": "code",
   "execution_count": 43,
   "id": "4dbb0b17-e9c9-4ba3-b7db-1f3a2f04576b",
   "metadata": {
    "tags": []
   },
   "outputs": [
    {
     "data": {
      "text/html": [
       "<div>\n",
       "<style scoped>\n",
       "    .dataframe tbody tr th:only-of-type {\n",
       "        vertical-align: middle;\n",
       "    }\n",
       "\n",
       "    .dataframe tbody tr th {\n",
       "        vertical-align: top;\n",
       "    }\n",
       "\n",
       "    .dataframe thead th {\n",
       "        text-align: right;\n",
       "    }\n",
       "</style>\n",
       "<table border=\"1\" class=\"dataframe\">\n",
       "  <thead>\n",
       "    <tr style=\"text-align: right;\">\n",
       "      <th></th>\n",
       "      <th>sentence</th>\n",
       "      <th>book</th>\n",
       "      <th>clean_txt</th>\n",
       "      <th>n_words</th>\n",
       "      <th>start_ix</th>\n",
       "      <th>is_second_half</th>\n",
       "      <th>bc</th>\n",
       "      <th>met_txt</th>\n",
       "    </tr>\n",
       "  </thead>\n",
       "  <tbody>\n",
       "    <tr>\n",
       "      <th>0</th>\n",
       "      <td>[ The Tragedie of Hamlet by William Shakespear...</td>\n",
       "      <td>hamlet</td>\n",
       "      <td>the tragedie of hamlet by william shakespeare ...</td>\n",
       "      <td>35</td>\n",
       "      <td>0</td>\n",
       "      <td>0</td>\n",
       "      <td>(19.329224628912748, 1.4885730568684474)</td>\n",
       "      <td>two centinels &lt;/s&gt; barnardo &lt;/s&gt; who s there f...</td>\n",
       "    </tr>\n",
       "    <tr>\n",
       "      <th>1</th>\n",
       "      <td>: Stand &amp; vnfold your selfe Bar . Long liue th...</td>\n",
       "      <td>hamlet</td>\n",
       "      <td>stand vnfold your selfe bar &lt;/s&gt; long liue the...</td>\n",
       "      <td>35</td>\n",
       "      <td>35</td>\n",
       "      <td>0</td>\n",
       "      <td>(29.178852266043144, -0.5455322257860971)</td>\n",
       "      <td>bun 29.18 creatinine of -0.50 he fran &lt;/s&gt; you...</td>\n",
       "    </tr>\n",
       "    <tr>\n",
       "      <th>2</th>\n",
       "      <td>, get thee to bed Francisco Fran . For this re...</td>\n",
       "      <td>hamlet</td>\n",
       "      <td>get thee to bed francisco fran &lt;/s&gt; for this r...</td>\n",
       "      <td>35</td>\n",
       "      <td>70</td>\n",
       "      <td>0</td>\n",
       "      <td>(8.539937931834004, 1.0725817826211632)</td>\n",
       "      <td>you had quiet guard fran &lt;/s&gt; creatinine 1.10 ...</td>\n",
       "    </tr>\n",
       "    <tr>\n",
       "      <th>3</th>\n",
       "      <td>Not a Mouse stirring Barn . Well , goodnight ....</td>\n",
       "      <td>hamlet</td>\n",
       "      <td>not a mouse stirring barn &lt;/s&gt; well goodnight ...</td>\n",
       "      <td>35</td>\n",
       "      <td>105</td>\n",
       "      <td>0</td>\n",
       "      <td>(5.828401144895128, -0.3448338456347373)</td>\n",
       "      <td>bun of 5.83 &lt;/s&gt; well goodnight &lt;/s&gt; if you do...</td>\n",
       "    </tr>\n",
       "    <tr>\n",
       "      <th>4</th>\n",
       "      <td>. I thinke I heare them . Stand : who ' s ther...</td>\n",
       "      <td>hamlet</td>\n",
       "      <td>&lt;/s&gt; i thinke i heare them &lt;/s&gt; stand who s th...</td>\n",
       "      <td>35</td>\n",
       "      <td>140</td>\n",
       "      <td>0</td>\n",
       "      <td>(24.7780772520537, 0.48267415448861195)</td>\n",
       "      <td>bun 24.78 leige - men to the dane fran &lt;/s&gt; gi...</td>\n",
       "    </tr>\n",
       "  </tbody>\n",
       "</table>\n",
       "</div>"
      ],
      "text/plain": [
       "                                            sentence    book  \\\n",
       "0  [ The Tragedie of Hamlet by William Shakespear...  hamlet   \n",
       "1  : Stand & vnfold your selfe Bar . Long liue th...  hamlet   \n",
       "2  , get thee to bed Francisco Fran . For this re...  hamlet   \n",
       "3  Not a Mouse stirring Barn . Well , goodnight ....  hamlet   \n",
       "4  . I thinke I heare them . Stand : who ' s ther...  hamlet   \n",
       "\n",
       "                                           clean_txt  n_words  start_ix  \\\n",
       "0  the tragedie of hamlet by william shakespeare ...       35         0   \n",
       "1  stand vnfold your selfe bar </s> long liue the...       35        35   \n",
       "2  get thee to bed francisco fran </s> for this r...       35        70   \n",
       "3  not a mouse stirring barn </s> well goodnight ...       35       105   \n",
       "4  </s> i thinke i heare them </s> stand who s th...       35       140   \n",
       "\n",
       "   is_second_half                                         bc  \\\n",
       "0               0   (19.329224628912748, 1.4885730568684474)   \n",
       "1               0  (29.178852266043144, -0.5455322257860971)   \n",
       "2               0    (8.539937931834004, 1.0725817826211632)   \n",
       "3               0   (5.828401144895128, -0.3448338456347373)   \n",
       "4               0    (24.7780772520537, 0.48267415448861195)   \n",
       "\n",
       "                                             met_txt  \n",
       "0  two centinels </s> barnardo </s> who s there f...  \n",
       "1  bun 29.18 creatinine of -0.50 he fran </s> you...  \n",
       "2  you had quiet guard fran </s> creatinine 1.10 ...  \n",
       "3  bun of 5.83 </s> well goodnight </s> if you do...  \n",
       "4  bun 24.78 leige - men to the dane fran </s> gi...  "
      ]
     },
     "execution_count": 43,
     "metadata": {},
     "output_type": "execute_result"
    }
   ],
   "source": [
    "shakespeare_hamlet.head()"
   ]
  },
  {
   "cell_type": "markdown",
   "id": "ac2c2bfb-f16e-477c-ba93-6bd9ce6c6a72",
   "metadata": {},
   "source": [
    "# Run Experiments"
   ]
  },
  {
   "cell_type": "markdown",
   "id": "bd1cee96-3831-444b-b6ff-3bb7cb61d199",
   "metadata": {},
   "source": [
    "## Experiment Configurations & Helpers"
   ]
  },
  {
   "cell_type": "code",
   "execution_count": 44,
   "id": "4ebd7414-a92c-47bf-b35b-5d01c7f4567c",
   "metadata": {
    "tags": []
   },
   "outputs": [],
   "source": [
    "y_col = 'is_second_half'\n",
    "x_col = 'met_txt'\n",
    "n_left=2\n",
    "n_right=1"
   ]
  },
  {
   "cell_type": "code",
   "execution_count": 45,
   "id": "2fc945c4-a079-4a79-9140-76027be1a690",
   "metadata": {
    "tags": []
   },
   "outputs": [],
   "source": [
    "ModelType = Literal['TextCnn', 'ScaleNum', 'AttnToNum']\n",
    "\n",
    "ModelLookUp = {\n",
    "    'TextCnn': lambda n_terms: cnn.TextCnn(\n",
    "            seq_len, n_terms=n_terms,\n",
    "            model_params=config.TextCnnParams(n_filters=44, dropout=.5)\n",
    "        ),\n",
    "    'ScaleNum': lambda n_terms: cnn.TextCnnScaleNum(\n",
    "            seq_len, n_terms=n_terms,\n",
    "            model_params=config.TextCnnScaleNumParams(n_filters=44, dropout=.5, n_number_lins=3)\n",
    "        ),\n",
    "    'AttnToNum': lambda n_terms: cnn.TextCnnAttnToNum(\n",
    "            seq_len, n_terms=n_terms,\n",
    "            model_params=config.TextCnnAttnToNumParams(\n",
    "                n_filters=44, dropout=.5, n_number_lins=3, n_left=n_left, n_right=n_right\n",
    "            )\n",
    "        )\n",
    "}"
   ]
  },
  {
   "cell_type": "code",
   "execution_count": 46,
   "id": "561e3106-568f-4bf2-ba46-f41e95c4bc27",
   "metadata": {
    "tags": []
   },
   "outputs": [],
   "source": [
    "def gen_ixs_lo():\n",
    "    all_ixs = list(range(len(shakespeare_hamlet)))\n",
    "    ys = shakespeare_hamlet[y_col].values\n",
    "    train_ixs, val_ixs = train_test_split(all_ixs, test_size=.15, stratify=ys)\n",
    "    \n",
    "    return {\n",
    "        'train': train_ixs, 'val': val_ixs\n",
    "    }"
   ]
  },
  {
   "cell_type": "code",
   "execution_count": 47,
   "id": "3d285088-5f96-4689-9525-12b94f583b68",
   "metadata": {
    "tags": []
   },
   "outputs": [],
   "source": [
    "def get_roc_auc(labels, pred_labels):\n",
    "    return roc_auc_score(labels.detach().cpu(), pred_labels.softmax(1)[:, 1].detach().cpu())\n",
    "\n",
    "def get_acc(labels, pred_labels):\n",
    "    return (pred_labels.argmax(1) == labels).sum().item()/pred_labels.shape[0]\n",
    "\n",
    "def train(dataloader, model, optimizer, criterion, epoch):\n",
    "    model.train()\n",
    "    total_auc, total_acc, total_count = 0, 0, 0\n",
    "    log_interval = 1000\n",
    "    start_time = time.time()\n",
    "\n",
    "    total_loss = 0\n",
    "    for idx, (x, labels) in enumerate(dataloader):\n",
    "        optimizer.zero_grad()\n",
    "        pred_labels = model(x)\n",
    "        loss = criterion(pred_labels, labels)\n",
    "        loss.backward()\n",
    "        torch.nn.utils.clip_grad_norm_(model.parameters(), 0.1)\n",
    "        optimizer.step()\n",
    "        total_loss = total_loss + loss.detach().cpu()\n",
    "\n",
    "    return total_loss"
   ]
  },
  {
   "cell_type": "code",
   "execution_count": 48,
   "id": "e20d8495-f4b5-43a7-b6ad-6c4cfdc11c20",
   "metadata": {
    "tags": []
   },
   "outputs": [],
   "source": [
    "def train_eval_model(model, dataloader_lo, is_verbose=True, n_epochs=40):\n",
    "    lr=3.5e-4\n",
    "    criterion = torch.nn.CrossEntropyLoss()\n",
    "    optimizer = torch.optim.Adam(model.parameters(), lr=lr)\n",
    "    \n",
    "    #epochs = tqdm.tqdm(list(range(EPOCHS + 1)), leave=False)\n",
    "    epochs = list(range(n_epochs))\n",
    "\n",
    "    for epoch in epochs:\n",
    "        epoch_start_time = time.time()\n",
    "        loss_train = train(dataloader_lo['train'], model, optimizer, criterion, epoch)\n",
    "        auc_val, _, loss_val = eu.evaluate(dataloader_lo['val'], model, criterion)\n",
    "        auc_train, _, _ = eu.evaluate(dataloader_lo['train'], model)\n",
    "\n",
    "        if auc_train > .9999:\n",
    "            break\n",
    "\n",
    "        if is_verbose:\n",
    "            print('-' * 100)\n",
    "            msg = ('| epoch {:2d} | time: {:5.2f}s | '\n",
    "                  'train auc {:5.3f} ({:5.3f}) | '\n",
    "                  'valid auc {:5.3f} ({:5.3f}) | '\n",
    "                  .format(epoch,\n",
    "                          time.time() - epoch_start_time,\n",
    "                          auc_train, loss_train,\n",
    "                          auc_val, loss_val)\n",
    "                 )\n",
    "\n",
    "            print(msg)\n",
    "            print('-' * 100)\n",
    "        \n",
    "        #pbar.set_description(f'Epoch {epoch}, Holdout AUC {auc_holdout:.2f}')\n",
    "            \n",
    "    \n",
    "    return auc_val"
   ]
  },
  {
   "cell_type": "code",
   "execution_count": 49,
   "id": "07ce170f-6b01-426a-addf-6a617b55de08",
   "metadata": {
    "tags": []
   },
   "outputs": [],
   "source": [
    "def run_experiment(model_str:ModelType, ixs_lo = gen_ixs_lo(), is_verbose=False):\n",
    "    train_ixs = ixs_lo['train']\n",
    "    train_x = shakespeare_hamlet[x_col].values[train_ixs]\n",
    "    \n",
    "    is_num_vocab = model_str != 'TextCnn'\n",
    "    vocab = (\n",
    "        v.NumberContextAwareVocab(train_x, ['bun', 'creatinine'], \n",
    "                                  n_left=n_left, n_right=n_right, is_verbose=is_verbose)\n",
    "        if is_num_vocab \n",
    "        else v.LowercaseVocab(train_x, is_verbose=is_verbose)\n",
    "    )\n",
    "    \n",
    "    def ixs_to_dataloader(ixs):\n",
    "        in_data = shakespeare_hamlet.iloc[ixs, :]\n",
    "        ds_fn = ds.NumberAwareDs if is_num_vocab else ds.TextDs\n",
    "        collate_fn = tu.collate_batch_number_aware if is_num_vocab else tu.collate_batch\n",
    "        kwargs = {'is_verbose':is_verbose} if is_num_vocab else {}\n",
    "        return DataLoader(\n",
    "            ds_fn(\n",
    "                data=in_data,\n",
    "                vocab=vocab,\n",
    "                x_col=x_col, y_col=y_col,\n",
    "                sample_len = seq_len,\n",
    "                **kwargs\n",
    "                ), \n",
    "            batch_size=64, shuffle = True,\n",
    "            collate_fn=collate_fn\n",
    "        )\n",
    "\n",
    "    dataloader_lo = {\n",
    "        k: ixs_to_dataloader(ixs) \n",
    "        for k, ixs in ixs_lo.items()\n",
    "    }\n",
    "    \n",
    "    n_terms = len(vocab) + 1\n",
    "    \n",
    "    model = ModelLookUp[model_str](n_terms).to('cuda')\n",
    "    \n",
    "    return train_eval_model(model, dataloader_lo, is_verbose)"
   ]
  },
  {
   "cell_type": "markdown",
   "id": "9bddf26c-469b-4908-b16e-dfabf426d185",
   "metadata": {},
   "source": [
    "## Run Basic Exp"
   ]
  },
  {
   "cell_type": "code",
   "execution_count": 50,
   "id": "a85700a9-f8d4-4baf-8847-1b8d6772a465",
   "metadata": {
    "tags": []
   },
   "outputs": [],
   "source": [
    "ixs_lo = gen_ixs_lo()"
   ]
  },
  {
   "cell_type": "code",
   "execution_count": 51,
   "id": "bc72f267-22b4-4adf-abcd-7607581f00e8",
   "metadata": {
    "tags": []
   },
   "outputs": [
    {
     "name": "stderr",
     "output_type": "stream",
     "text": [
      "100%|█████████████████████████████████████████████████████████████████████| 907/907 [00:00<00:00, 133346.20it/s]\n"
     ]
    },
    {
     "name": "stdout",
     "output_type": "stream",
     "text": [
      "----------------------------------------------------------------------------------------------------\n",
      "| epoch  0 | time:  0.12s | train auc 0.611 (12.238) | valid auc 0.551 (0.690) | \n",
      "----------------------------------------------------------------------------------------------------\n",
      "----------------------------------------------------------------------------------------------------\n",
      "| epoch  1 | time:  0.12s | train auc 0.688 (11.479) | valid auc 0.570 (0.686) | \n",
      "----------------------------------------------------------------------------------------------------\n",
      "----------------------------------------------------------------------------------------------------\n",
      "| epoch  2 | time:  0.12s | train auc 0.751 (11.444) | valid auc 0.592 (0.683) | \n",
      "----------------------------------------------------------------------------------------------------\n",
      "----------------------------------------------------------------------------------------------------\n",
      "| epoch  3 | time:  0.12s | train auc 0.803 (10.800) | valid auc 0.604 (0.680) | \n",
      "----------------------------------------------------------------------------------------------------\n",
      "----------------------------------------------------------------------------------------------------\n",
      "| epoch  4 | time:  0.12s | train auc 0.848 (10.921) | valid auc 0.620 (0.676) | \n",
      "----------------------------------------------------------------------------------------------------\n",
      "----------------------------------------------------------------------------------------------------\n",
      "| epoch  5 | time:  0.12s | train auc 0.882 (10.338) | valid auc 0.635 (0.673) | \n",
      "----------------------------------------------------------------------------------------------------\n",
      "----------------------------------------------------------------------------------------------------\n",
      "| epoch  6 | time:  0.12s | train auc 0.909 (10.378) | valid auc 0.646 (0.672) | \n",
      "----------------------------------------------------------------------------------------------------\n",
      "----------------------------------------------------------------------------------------------------\n",
      "| epoch  7 | time:  0.12s | train auc 0.930 (10.567) | valid auc 0.655 (0.671) | \n",
      "----------------------------------------------------------------------------------------------------\n",
      "----------------------------------------------------------------------------------------------------\n",
      "| epoch  8 | time:  0.12s | train auc 0.947 (10.132) | valid auc 0.668 (0.673) | \n",
      "----------------------------------------------------------------------------------------------------\n",
      "----------------------------------------------------------------------------------------------------\n",
      "| epoch  9 | time:  0.12s | train auc 0.960 (9.694) | valid auc 0.680 (0.663) | \n",
      "----------------------------------------------------------------------------------------------------\n",
      "----------------------------------------------------------------------------------------------------\n",
      "| epoch 10 | time:  0.12s | train auc 0.969 (9.687) | valid auc 0.686 (0.660) | \n",
      "----------------------------------------------------------------------------------------------------\n",
      "----------------------------------------------------------------------------------------------------\n",
      "| epoch 11 | time:  0.12s | train auc 0.975 (9.198) | valid auc 0.688 (0.657) | \n",
      "----------------------------------------------------------------------------------------------------\n",
      "----------------------------------------------------------------------------------------------------\n",
      "| epoch 12 | time:  0.12s | train auc 0.980 (8.999) | valid auc 0.692 (0.654) | \n",
      "----------------------------------------------------------------------------------------------------\n",
      "----------------------------------------------------------------------------------------------------\n",
      "| epoch 13 | time:  0.12s | train auc 0.985 (8.995) | valid auc 0.696 (0.652) | \n",
      "----------------------------------------------------------------------------------------------------\n",
      "----------------------------------------------------------------------------------------------------\n",
      "| epoch 14 | time:  0.12s | train auc 0.989 (8.994) | valid auc 0.702 (0.650) | \n",
      "----------------------------------------------------------------------------------------------------\n",
      "----------------------------------------------------------------------------------------------------\n",
      "| epoch 15 | time:  0.12s | train auc 0.991 (8.839) | valid auc 0.704 (0.647) | \n",
      "----------------------------------------------------------------------------------------------------\n",
      "----------------------------------------------------------------------------------------------------\n",
      "| epoch 16 | time:  0.12s | train auc 0.993 (8.653) | valid auc 0.706 (0.645) | \n",
      "----------------------------------------------------------------------------------------------------\n",
      "----------------------------------------------------------------------------------------------------\n",
      "| epoch 17 | time:  0.12s | train auc 0.993 (8.554) | valid auc 0.712 (0.641) | \n",
      "----------------------------------------------------------------------------------------------------\n",
      "----------------------------------------------------------------------------------------------------\n",
      "| epoch 18 | time:  0.12s | train auc 0.995 (8.152) | valid auc 0.715 (0.640) | \n",
      "----------------------------------------------------------------------------------------------------\n",
      "----------------------------------------------------------------------------------------------------\n",
      "| epoch 19 | time:  0.12s | train auc 0.995 (8.162) | valid auc 0.717 (0.637) | \n",
      "----------------------------------------------------------------------------------------------------\n",
      "----------------------------------------------------------------------------------------------------\n",
      "| epoch 20 | time:  0.12s | train auc 0.996 (8.074) | valid auc 0.715 (0.634) | \n",
      "----------------------------------------------------------------------------------------------------\n",
      "----------------------------------------------------------------------------------------------------\n",
      "| epoch 21 | time:  0.12s | train auc 0.996 (7.840) | valid auc 0.716 (0.633) | \n",
      "----------------------------------------------------------------------------------------------------\n",
      "----------------------------------------------------------------------------------------------------\n",
      "| epoch 22 | time:  0.12s | train auc 0.997 (7.855) | valid auc 0.718 (0.629) | \n",
      "----------------------------------------------------------------------------------------------------\n",
      "----------------------------------------------------------------------------------------------------\n",
      "| epoch 23 | time:  0.13s | train auc 0.998 (7.889) | valid auc 0.720 (0.626) | \n",
      "----------------------------------------------------------------------------------------------------\n",
      "----------------------------------------------------------------------------------------------------\n",
      "| epoch 24 | time:  0.13s | train auc 0.998 (7.279) | valid auc 0.720 (0.624) | \n",
      "----------------------------------------------------------------------------------------------------\n",
      "----------------------------------------------------------------------------------------------------\n",
      "| epoch 25 | time:  0.13s | train auc 0.999 (7.475) | valid auc 0.718 (0.623) | \n",
      "----------------------------------------------------------------------------------------------------\n",
      "----------------------------------------------------------------------------------------------------\n",
      "| epoch 26 | time:  0.13s | train auc 0.999 (7.387) | valid auc 0.718 (0.621) | \n",
      "----------------------------------------------------------------------------------------------------\n",
      "----------------------------------------------------------------------------------------------------\n",
      "| epoch 27 | time:  0.13s | train auc 0.999 (6.699) | valid auc 0.717 (0.621) | \n",
      "----------------------------------------------------------------------------------------------------\n",
      "----------------------------------------------------------------------------------------------------\n",
      "| epoch 28 | time:  0.13s | train auc 1.000 (6.849) | valid auc 0.712 (0.620) | \n",
      "----------------------------------------------------------------------------------------------------\n",
      "----------------------------------------------------------------------------------------------------\n",
      "| epoch 29 | time:  0.13s | train auc 1.000 (6.575) | valid auc 0.714 (0.619) | \n",
      "----------------------------------------------------------------------------------------------------\n",
      "----------------------------------------------------------------------------------------------------\n",
      "| epoch 30 | time:  0.13s | train auc 1.000 (6.405) | valid auc 0.713 (0.616) | \n",
      "----------------------------------------------------------------------------------------------------\n",
      "----------------------------------------------------------------------------------------------------\n",
      "| epoch 31 | time:  0.13s | train auc 1.000 (6.536) | valid auc 0.718 (0.616) | \n",
      "----------------------------------------------------------------------------------------------------\n",
      "----------------------------------------------------------------------------------------------------\n",
      "| epoch 32 | time:  0.13s | train auc 1.000 (6.103) | valid auc 0.718 (0.612) | \n",
      "----------------------------------------------------------------------------------------------------\n"
     ]
    },
    {
     "data": {
      "text/plain": [
       "0.7212962962962962"
      ]
     },
     "execution_count": 51,
     "metadata": {},
     "output_type": "execute_result"
    }
   ],
   "source": [
    "run_experiment('TextCnn', ixs_lo=ixs_lo, is_verbose=True)"
   ]
  },
  {
   "cell_type": "markdown",
   "id": "03d4118f-4107-42a3-b651-25d0c1b3cdad",
   "metadata": {},
   "source": [
    "## Run Scale Num Exp"
   ]
  },
  {
   "cell_type": "code",
   "execution_count": 52,
   "id": "16ccf723-9f41-45d2-8159-5a4b610e3c4b",
   "metadata": {
    "tags": []
   },
   "outputs": [
    {
     "name": "stderr",
     "output_type": "stream",
     "text": [
      "100%|██████████████████████████████████████████████████████████████████████| 907/907 [00:00<00:00, 12813.44it/s]\n",
      "100%|██████████████████████████████████████████████████████████████████████| 907/907 [00:00<00:00, 14065.79it/s]\n",
      "100%|██████████████████████████████████████████████████████████████████████| 161/161 [00:00<00:00, 13516.74it/s]\n"
     ]
    },
    {
     "name": "stdout",
     "output_type": "stream",
     "text": [
      "----------------------------------------------------------------------------------------------------\n",
      "| epoch  0 | time:  0.31s | train auc 0.637 (13.313) | valid auc 0.429 (0.726) | \n",
      "----------------------------------------------------------------------------------------------------\n",
      "----------------------------------------------------------------------------------------------------\n",
      "| epoch  1 | time:  0.30s | train auc 0.721 (13.154) | valid auc 0.454 (0.719) | \n",
      "----------------------------------------------------------------------------------------------------\n",
      "----------------------------------------------------------------------------------------------------\n",
      "| epoch  2 | time:  0.30s | train auc 0.789 (12.098) | valid auc 0.476 (0.713) | \n",
      "----------------------------------------------------------------------------------------------------\n",
      "----------------------------------------------------------------------------------------------------\n",
      "| epoch  3 | time:  0.30s | train auc 0.843 (11.569) | valid auc 0.499 (0.706) | \n",
      "----------------------------------------------------------------------------------------------------\n",
      "----------------------------------------------------------------------------------------------------\n",
      "| epoch  4 | time:  0.30s | train auc 0.882 (11.279) | valid auc 0.524 (0.702) | \n",
      "----------------------------------------------------------------------------------------------------\n",
      "----------------------------------------------------------------------------------------------------\n",
      "| epoch  5 | time:  0.30s | train auc 0.912 (11.267) | valid auc 0.543 (0.695) | \n",
      "----------------------------------------------------------------------------------------------------\n",
      "----------------------------------------------------------------------------------------------------\n",
      "| epoch  6 | time:  0.29s | train auc 0.934 (10.844) | valid auc 0.556 (0.692) | \n",
      "----------------------------------------------------------------------------------------------------\n",
      "----------------------------------------------------------------------------------------------------\n",
      "| epoch  7 | time:  0.30s | train auc 0.951 (10.887) | valid auc 0.568 (0.689) | \n",
      "----------------------------------------------------------------------------------------------------\n",
      "----------------------------------------------------------------------------------------------------\n",
      "| epoch  8 | time:  0.29s | train auc 0.961 (10.549) | valid auc 0.588 (0.684) | \n",
      "----------------------------------------------------------------------------------------------------\n",
      "----------------------------------------------------------------------------------------------------\n",
      "| epoch  9 | time:  0.29s | train auc 0.968 (9.320) | valid auc 0.605 (0.679) | \n",
      "----------------------------------------------------------------------------------------------------\n",
      "----------------------------------------------------------------------------------------------------\n",
      "| epoch 10 | time:  0.29s | train auc 0.976 (9.915) | valid auc 0.613 (0.674) | \n",
      "----------------------------------------------------------------------------------------------------\n",
      "----------------------------------------------------------------------------------------------------\n",
      "| epoch 11 | time:  0.30s | train auc 0.981 (9.051) | valid auc 0.618 (0.676) | \n",
      "----------------------------------------------------------------------------------------------------\n",
      "----------------------------------------------------------------------------------------------------\n",
      "| epoch 12 | time:  0.29s | train auc 0.984 (9.686) | valid auc 0.627 (0.669) | \n",
      "----------------------------------------------------------------------------------------------------\n",
      "----------------------------------------------------------------------------------------------------\n",
      "| epoch 13 | time:  0.30s | train auc 0.987 (9.598) | valid auc 0.627 (0.669) | \n",
      "----------------------------------------------------------------------------------------------------\n",
      "----------------------------------------------------------------------------------------------------\n",
      "| epoch 14 | time:  0.29s | train auc 0.989 (9.251) | valid auc 0.637 (0.665) | \n",
      "----------------------------------------------------------------------------------------------------\n",
      "----------------------------------------------------------------------------------------------------\n",
      "| epoch 15 | time:  0.29s | train auc 0.990 (8.643) | valid auc 0.643 (0.663) | \n",
      "----------------------------------------------------------------------------------------------------\n",
      "----------------------------------------------------------------------------------------------------\n",
      "| epoch 16 | time:  0.29s | train auc 0.992 (8.606) | valid auc 0.649 (0.664) | \n",
      "----------------------------------------------------------------------------------------------------\n",
      "----------------------------------------------------------------------------------------------------\n",
      "| epoch 17 | time:  0.29s | train auc 0.992 (8.378) | valid auc 0.647 (0.660) | \n",
      "----------------------------------------------------------------------------------------------------\n",
      "----------------------------------------------------------------------------------------------------\n",
      "| epoch 18 | time:  0.29s | train auc 0.993 (8.241) | valid auc 0.660 (0.655) | \n",
      "----------------------------------------------------------------------------------------------------\n",
      "----------------------------------------------------------------------------------------------------\n",
      "| epoch 19 | time:  0.29s | train auc 0.995 (8.248) | valid auc 0.659 (0.655) | \n",
      "----------------------------------------------------------------------------------------------------\n",
      "----------------------------------------------------------------------------------------------------\n",
      "| epoch 20 | time:  0.29s | train auc 0.996 (8.293) | valid auc 0.661 (0.654) | \n",
      "----------------------------------------------------------------------------------------------------\n",
      "----------------------------------------------------------------------------------------------------\n",
      "| epoch 21 | time:  0.29s | train auc 0.997 (8.174) | valid auc 0.669 (0.649) | \n",
      "----------------------------------------------------------------------------------------------------\n",
      "----------------------------------------------------------------------------------------------------\n",
      "| epoch 22 | time:  0.29s | train auc 0.998 (7.934) | valid auc 0.674 (0.647) | \n",
      "----------------------------------------------------------------------------------------------------\n",
      "----------------------------------------------------------------------------------------------------\n",
      "| epoch 23 | time:  0.29s | train auc 0.998 (7.266) | valid auc 0.677 (0.645) | \n",
      "----------------------------------------------------------------------------------------------------\n",
      "----------------------------------------------------------------------------------------------------\n",
      "| epoch 24 | time:  0.29s | train auc 0.999 (7.754) | valid auc 0.676 (0.644) | \n",
      "----------------------------------------------------------------------------------------------------\n",
      "----------------------------------------------------------------------------------------------------\n",
      "| epoch 25 | time:  0.30s | train auc 0.999 (7.808) | valid auc 0.670 (0.646) | \n",
      "----------------------------------------------------------------------------------------------------\n",
      "----------------------------------------------------------------------------------------------------\n",
      "| epoch 26 | time:  0.30s | train auc 0.999 (7.529) | valid auc 0.674 (0.644) | \n",
      "----------------------------------------------------------------------------------------------------\n",
      "----------------------------------------------------------------------------------------------------\n",
      "| epoch 27 | time:  0.29s | train auc 0.999 (7.272) | valid auc 0.676 (0.641) | \n",
      "----------------------------------------------------------------------------------------------------\n",
      "----------------------------------------------------------------------------------------------------\n",
      "| epoch 28 | time:  0.30s | train auc 1.000 (6.857) | valid auc 0.681 (0.639) | \n",
      "----------------------------------------------------------------------------------------------------\n",
      "----------------------------------------------------------------------------------------------------\n",
      "| epoch 29 | time:  0.29s | train auc 1.000 (7.037) | valid auc 0.690 (0.634) | \n",
      "----------------------------------------------------------------------------------------------------\n",
      "----------------------------------------------------------------------------------------------------\n",
      "| epoch 30 | time:  0.29s | train auc 1.000 (6.870) | valid auc 0.695 (0.631) | \n",
      "----------------------------------------------------------------------------------------------------\n",
      "----------------------------------------------------------------------------------------------------\n",
      "| epoch 31 | time:  0.29s | train auc 1.000 (6.881) | valid auc 0.697 (0.630) | \n",
      "----------------------------------------------------------------------------------------------------\n",
      "----------------------------------------------------------------------------------------------------\n",
      "| epoch 32 | time:  0.29s | train auc 1.000 (6.396) | valid auc 0.696 (0.629) | \n",
      "----------------------------------------------------------------------------------------------------\n",
      "----------------------------------------------------------------------------------------------------\n",
      "| epoch 33 | time:  0.29s | train auc 1.000 (6.676) | valid auc 0.697 (0.627) | \n",
      "----------------------------------------------------------------------------------------------------\n",
      "----------------------------------------------------------------------------------------------------\n",
      "| epoch 34 | time:  0.29s | train auc 1.000 (6.307) | valid auc 0.697 (0.628) | \n",
      "----------------------------------------------------------------------------------------------------\n"
     ]
    },
    {
     "data": {
      "text/plain": [
       "0.6910493827160494"
      ]
     },
     "execution_count": 52,
     "metadata": {},
     "output_type": "execute_result"
    }
   ],
   "source": [
    "run_experiment('ScaleNum', ixs_lo=ixs_lo, is_verbose=True)"
   ]
  },
  {
   "cell_type": "markdown",
   "id": "894c6155-ddb4-45aa-99ba-e5c5ef058666",
   "metadata": {},
   "source": [
    "## Run AttnToNum Exp"
   ]
  },
  {
   "cell_type": "code",
   "execution_count": 53,
   "id": "75920430-23ce-4fbd-b9f6-8d5a1bc80da3",
   "metadata": {
    "tags": []
   },
   "outputs": [
    {
     "name": "stderr",
     "output_type": "stream",
     "text": [
      "100%|██████████████████████████████████████████████████████████████████████| 907/907 [00:00<00:00, 13359.95it/s]\n",
      "100%|██████████████████████████████████████████████████████████████████████| 907/907 [00:00<00:00, 14137.40it/s]\n",
      "100%|██████████████████████████████████████████████████████████████████████| 161/161 [00:00<00:00, 14075.14it/s]\n"
     ]
    },
    {
     "name": "stdout",
     "output_type": "stream",
     "text": [
      "----------------------------------------------------------------------------------------------------\n",
      "| epoch  0 | time:  0.46s | train auc 0.576 (14.065) | valid auc 0.532 (0.698) | \n",
      "----------------------------------------------------------------------------------------------------\n",
      "----------------------------------------------------------------------------------------------------\n",
      "| epoch  1 | time:  0.46s | train auc 0.680 (12.302) | valid auc 0.553 (0.689) | \n",
      "----------------------------------------------------------------------------------------------------\n",
      "----------------------------------------------------------------------------------------------------\n",
      "| epoch  2 | time:  0.46s | train auc 0.761 (12.647) | valid auc 0.579 (0.682) | \n",
      "----------------------------------------------------------------------------------------------------\n",
      "----------------------------------------------------------------------------------------------------\n",
      "| epoch  3 | time:  0.47s | train auc 0.826 (11.831) | valid auc 0.600 (0.681) | \n",
      "----------------------------------------------------------------------------------------------------\n",
      "----------------------------------------------------------------------------------------------------\n",
      "| epoch  4 | time:  0.48s | train auc 0.870 (10.816) | valid auc 0.623 (0.670) | \n",
      "----------------------------------------------------------------------------------------------------\n",
      "----------------------------------------------------------------------------------------------------\n",
      "| epoch  5 | time:  0.48s | train auc 0.902 (10.934) | valid auc 0.644 (0.665) | \n",
      "----------------------------------------------------------------------------------------------------\n",
      "----------------------------------------------------------------------------------------------------\n",
      "| epoch  6 | time:  0.48s | train auc 0.927 (10.537) | valid auc 0.657 (0.660) | \n",
      "----------------------------------------------------------------------------------------------------\n",
      "----------------------------------------------------------------------------------------------------\n",
      "| epoch  7 | time:  0.48s | train auc 0.944 (10.449) | valid auc 0.668 (0.656) | \n",
      "----------------------------------------------------------------------------------------------------\n",
      "----------------------------------------------------------------------------------------------------\n",
      "| epoch  8 | time:  0.48s | train auc 0.959 (10.303) | valid auc 0.672 (0.654) | \n",
      "----------------------------------------------------------------------------------------------------\n",
      "----------------------------------------------------------------------------------------------------\n",
      "| epoch  9 | time:  0.48s | train auc 0.969 (9.988) | valid auc 0.677 (0.654) | \n",
      "----------------------------------------------------------------------------------------------------\n",
      "----------------------------------------------------------------------------------------------------\n",
      "| epoch 10 | time:  0.48s | train auc 0.977 (9.462) | valid auc 0.689 (0.650) | \n",
      "----------------------------------------------------------------------------------------------------\n",
      "----------------------------------------------------------------------------------------------------\n",
      "| epoch 11 | time:  0.48s | train auc 0.981 (9.206) | valid auc 0.694 (0.645) | \n",
      "----------------------------------------------------------------------------------------------------\n",
      "----------------------------------------------------------------------------------------------------\n",
      "| epoch 12 | time:  0.48s | train auc 0.985 (8.724) | valid auc 0.699 (0.642) | \n",
      "----------------------------------------------------------------------------------------------------\n",
      "----------------------------------------------------------------------------------------------------\n",
      "| epoch 13 | time:  0.48s | train auc 0.988 (9.322) | valid auc 0.705 (0.639) | \n",
      "----------------------------------------------------------------------------------------------------\n",
      "----------------------------------------------------------------------------------------------------\n",
      "| epoch 14 | time:  0.48s | train auc 0.991 (9.141) | valid auc 0.708 (0.636) | \n",
      "----------------------------------------------------------------------------------------------------\n",
      "----------------------------------------------------------------------------------------------------\n",
      "| epoch 15 | time:  0.48s | train auc 0.993 (9.005) | valid auc 0.720 (0.634) | \n",
      "----------------------------------------------------------------------------------------------------\n",
      "----------------------------------------------------------------------------------------------------\n",
      "| epoch 16 | time:  0.47s | train auc 0.994 (8.216) | valid auc 0.725 (0.630) | \n",
      "----------------------------------------------------------------------------------------------------\n",
      "----------------------------------------------------------------------------------------------------\n",
      "| epoch 17 | time:  0.47s | train auc 0.995 (8.460) | valid auc 0.734 (0.629) | \n",
      "----------------------------------------------------------------------------------------------------\n",
      "----------------------------------------------------------------------------------------------------\n",
      "| epoch 18 | time:  0.47s | train auc 0.997 (8.026) | valid auc 0.732 (0.624) | \n",
      "----------------------------------------------------------------------------------------------------\n",
      "----------------------------------------------------------------------------------------------------\n",
      "| epoch 19 | time:  0.47s | train auc 0.997 (7.966) | valid auc 0.735 (0.621) | \n",
      "----------------------------------------------------------------------------------------------------\n",
      "----------------------------------------------------------------------------------------------------\n",
      "| epoch 20 | time:  0.47s | train auc 0.998 (7.551) | valid auc 0.740 (0.618) | \n",
      "----------------------------------------------------------------------------------------------------\n",
      "----------------------------------------------------------------------------------------------------\n",
      "| epoch 21 | time:  0.47s | train auc 0.998 (7.978) | valid auc 0.744 (0.614) | \n",
      "----------------------------------------------------------------------------------------------------\n",
      "----------------------------------------------------------------------------------------------------\n",
      "| epoch 22 | time:  0.47s | train auc 0.998 (6.953) | valid auc 0.746 (0.612) | \n",
      "----------------------------------------------------------------------------------------------------\n",
      "----------------------------------------------------------------------------------------------------\n",
      "| epoch 23 | time:  0.46s | train auc 0.999 (7.497) | valid auc 0.750 (0.611) | \n",
      "----------------------------------------------------------------------------------------------------\n",
      "----------------------------------------------------------------------------------------------------\n",
      "| epoch 24 | time:  0.46s | train auc 0.999 (7.037) | valid auc 0.752 (0.609) | \n",
      "----------------------------------------------------------------------------------------------------\n",
      "----------------------------------------------------------------------------------------------------\n",
      "| epoch 25 | time:  0.46s | train auc 0.999 (6.865) | valid auc 0.753 (0.606) | \n",
      "----------------------------------------------------------------------------------------------------\n",
      "----------------------------------------------------------------------------------------------------\n",
      "| epoch 26 | time:  0.47s | train auc 0.999 (7.460) | valid auc 0.752 (0.603) | \n",
      "----------------------------------------------------------------------------------------------------\n",
      "----------------------------------------------------------------------------------------------------\n",
      "| epoch 27 | time:  0.47s | train auc 0.999 (7.024) | valid auc 0.755 (0.601) | \n",
      "----------------------------------------------------------------------------------------------------\n",
      "----------------------------------------------------------------------------------------------------\n",
      "| epoch 28 | time:  0.46s | train auc 0.999 (6.779) | valid auc 0.757 (0.599) | \n",
      "----------------------------------------------------------------------------------------------------\n",
      "----------------------------------------------------------------------------------------------------\n",
      "| epoch 29 | time:  0.46s | train auc 1.000 (6.538) | valid auc 0.762 (0.595) | \n",
      "----------------------------------------------------------------------------------------------------\n",
      "----------------------------------------------------------------------------------------------------\n",
      "| epoch 30 | time:  0.46s | train auc 1.000 (6.485) | valid auc 0.764 (0.593) | \n",
      "----------------------------------------------------------------------------------------------------\n",
      "----------------------------------------------------------------------------------------------------\n",
      "| epoch 31 | time:  0.46s | train auc 1.000 (6.055) | valid auc 0.769 (0.593) | \n",
      "----------------------------------------------------------------------------------------------------\n",
      "----------------------------------------------------------------------------------------------------\n",
      "| epoch 32 | time:  0.46s | train auc 1.000 (5.936) | valid auc 0.769 (0.587) | \n",
      "----------------------------------------------------------------------------------------------------\n",
      "----------------------------------------------------------------------------------------------------\n",
      "| epoch 33 | time:  0.46s | train auc 1.000 (5.691) | valid auc 0.770 (0.582) | \n",
      "----------------------------------------------------------------------------------------------------\n",
      "----------------------------------------------------------------------------------------------------\n",
      "| epoch 34 | time:  0.46s | train auc 1.000 (5.894) | valid auc 0.781 (0.578) | \n",
      "----------------------------------------------------------------------------------------------------\n",
      "----------------------------------------------------------------------------------------------------\n",
      "| epoch 35 | time:  0.46s | train auc 1.000 (5.377) | valid auc 0.800 (0.567) | \n",
      "----------------------------------------------------------------------------------------------------\n",
      "----------------------------------------------------------------------------------------------------\n",
      "| epoch 36 | time:  0.46s | train auc 1.000 (5.888) | valid auc 0.815 (0.551) | \n",
      "----------------------------------------------------------------------------------------------------\n"
     ]
    },
    {
     "data": {
      "text/plain": [
       "0.8186728395061729"
      ]
     },
     "execution_count": 53,
     "metadata": {},
     "output_type": "execute_result"
    }
   ],
   "source": [
    "run_experiment('AttnToNum', ixs_lo=ixs_lo, is_verbose=True)"
   ]
  },
  {
   "cell_type": "markdown",
   "id": "dc7c91f0-d175-4d5f-89a6-b1291a21b823",
   "metadata": {},
   "source": [
    "## Run All Experiments"
   ]
  },
  {
   "cell_type": "code",
   "execution_count": 54,
   "id": "431e25a5-138b-4e47-a9dd-9dccf62de543",
   "metadata": {
    "tags": []
   },
   "outputs": [],
   "source": [
    "def run_experiments(is_verbose=False):\n",
    "    aucs_lo = {\n",
    "        'TextCnn': [],\n",
    "        'ScaleNum': [],\n",
    "        'AttnToNum': []\n",
    "    }\n",
    "    \n",
    "    exp_runs = list(range(10))\n",
    "    \n",
    "    for run in (pbar := tqdm.tqdm(exp_runs)):\n",
    "        ixs_lo = gen_ixs_lo()\n",
    "        for model_s, aucs in aucs_lo.items():\n",
    "            holdout_auc = run_experiment(model_s, ixs_lo, is_verbose=is_verbose)\n",
    "            aucs.append(holdout_auc)\n",
    "            pbar.set_description(f'completed run: {run + 1}, model: {model_s}, holdout AUC: {holdout_auc:.2f}')\n",
    "    \n",
    "    return aucs_lo"
   ]
  },
  {
   "cell_type": "code",
   "execution_count": 55,
   "id": "c475faa6-aed3-4621-a580-141d2cc23d82",
   "metadata": {
    "tags": []
   },
   "outputs": [
    {
     "name": "stderr",
     "output_type": "stream",
     "text": [
      "completed run: 10, model: AttnToNum, holdout AUC: 0.68: 100%|███████████████████| 10/10 [05:42<00:00, 34.29s/it]\n"
     ]
    }
   ],
   "source": [
    "aucs_lo = run_experiments()"
   ]
  },
  {
   "cell_type": "code",
   "execution_count": 56,
   "id": "4a16f8d0-0cce-4395-8ad5-736eec2ca626",
   "metadata": {
    "tags": []
   },
   "outputs": [],
   "source": [
    "aucs_df = pd.DataFrame(aucs_lo)"
   ]
  },
  {
   "cell_type": "code",
   "execution_count": 57,
   "id": "43f91a11-9f67-49d4-8686-96c0bb5aedbf",
   "metadata": {
    "tags": []
   },
   "outputs": [
    {
     "data": {
      "text/html": [
       "<div>\n",
       "<style scoped>\n",
       "    .dataframe tbody tr th:only-of-type {\n",
       "        vertical-align: middle;\n",
       "    }\n",
       "\n",
       "    .dataframe tbody tr th {\n",
       "        vertical-align: top;\n",
       "    }\n",
       "\n",
       "    .dataframe thead th {\n",
       "        text-align: right;\n",
       "    }\n",
       "</style>\n",
       "<table border=\"1\" class=\"dataframe\">\n",
       "  <thead>\n",
       "    <tr style=\"text-align: right;\">\n",
       "      <th></th>\n",
       "      <th>TextCnn</th>\n",
       "      <th>ScaleNum</th>\n",
       "      <th>AttnToNum</th>\n",
       "    </tr>\n",
       "  </thead>\n",
       "  <tbody>\n",
       "    <tr>\n",
       "      <th>0</th>\n",
       "      <td>0.710031</td>\n",
       "      <td>0.674691</td>\n",
       "      <td>0.688117</td>\n",
       "    </tr>\n",
       "    <tr>\n",
       "      <th>1</th>\n",
       "      <td>0.685957</td>\n",
       "      <td>0.725463</td>\n",
       "      <td>0.782407</td>\n",
       "    </tr>\n",
       "    <tr>\n",
       "      <th>2</th>\n",
       "      <td>0.664660</td>\n",
       "      <td>0.731944</td>\n",
       "      <td>0.814815</td>\n",
       "    </tr>\n",
       "    <tr>\n",
       "      <th>3</th>\n",
       "      <td>0.750772</td>\n",
       "      <td>0.731944</td>\n",
       "      <td>0.773148</td>\n",
       "    </tr>\n",
       "    <tr>\n",
       "      <th>4</th>\n",
       "      <td>0.706327</td>\n",
       "      <td>0.754475</td>\n",
       "      <td>0.817130</td>\n",
       "    </tr>\n",
       "    <tr>\n",
       "      <th>5</th>\n",
       "      <td>0.736883</td>\n",
       "      <td>0.702160</td>\n",
       "      <td>0.841049</td>\n",
       "    </tr>\n",
       "    <tr>\n",
       "      <th>6</th>\n",
       "      <td>0.677160</td>\n",
       "      <td>0.662809</td>\n",
       "      <td>0.827315</td>\n",
       "    </tr>\n",
       "    <tr>\n",
       "      <th>7</th>\n",
       "      <td>0.707407</td>\n",
       "      <td>0.713580</td>\n",
       "      <td>0.796142</td>\n",
       "    </tr>\n",
       "    <tr>\n",
       "      <th>8</th>\n",
       "      <td>0.662346</td>\n",
       "      <td>0.668364</td>\n",
       "      <td>0.834877</td>\n",
       "    </tr>\n",
       "    <tr>\n",
       "      <th>9</th>\n",
       "      <td>0.738117</td>\n",
       "      <td>0.719907</td>\n",
       "      <td>0.680247</td>\n",
       "    </tr>\n",
       "  </tbody>\n",
       "</table>\n",
       "</div>"
      ],
      "text/plain": [
       "    TextCnn  ScaleNum  AttnToNum\n",
       "0  0.710031  0.674691   0.688117\n",
       "1  0.685957  0.725463   0.782407\n",
       "2  0.664660  0.731944   0.814815\n",
       "3  0.750772  0.731944   0.773148\n",
       "4  0.706327  0.754475   0.817130\n",
       "5  0.736883  0.702160   0.841049\n",
       "6  0.677160  0.662809   0.827315\n",
       "7  0.707407  0.713580   0.796142\n",
       "8  0.662346  0.668364   0.834877\n",
       "9  0.738117  0.719907   0.680247"
      ]
     },
     "execution_count": 57,
     "metadata": {},
     "output_type": "execute_result"
    }
   ],
   "source": [
    "aucs_df"
   ]
  },
  {
   "cell_type": "code",
   "execution_count": 59,
   "id": "49631876-74cb-4769-9cef-ab7d4c6b8c0a",
   "metadata": {
    "tags": []
   },
   "outputs": [
    {
     "data": {
      "text/plain": [
       "0.8155864197530864"
      ]
     },
     "execution_count": 59,
     "metadata": {},
     "output_type": "execute_result"
    }
   ],
   "source": [
    "(aucs_df.AttnToNum - aucs_df.TextCnn).sum()"
   ]
  },
  {
   "cell_type": "code",
   "execution_count": 90,
   "id": "904ab1ea-99f5-4f20-a076-90a0e11684fb",
   "metadata": {
    "tags": []
   },
   "outputs": [
    {
     "data": {
      "text/html": [
       "<div>\n",
       "<style scoped>\n",
       "    .dataframe tbody tr th:only-of-type {\n",
       "        vertical-align: middle;\n",
       "    }\n",
       "\n",
       "    .dataframe tbody tr th {\n",
       "        vertical-align: top;\n",
       "    }\n",
       "\n",
       "    .dataframe thead th {\n",
       "        text-align: right;\n",
       "    }\n",
       "</style>\n",
       "<table border=\"1\" class=\"dataframe\">\n",
       "  <thead>\n",
       "    <tr style=\"text-align: right;\">\n",
       "      <th></th>\n",
       "      <th>run</th>\n",
       "      <th>model</th>\n",
       "      <th>AUC</th>\n",
       "    </tr>\n",
       "  </thead>\n",
       "  <tbody>\n",
       "    <tr>\n",
       "      <th>0</th>\n",
       "      <td>0</td>\n",
       "      <td>TextCnn</td>\n",
       "      <td>0.710031</td>\n",
       "    </tr>\n",
       "    <tr>\n",
       "      <th>1</th>\n",
       "      <td>1</td>\n",
       "      <td>TextCnn</td>\n",
       "      <td>0.685957</td>\n",
       "    </tr>\n",
       "    <tr>\n",
       "      <th>2</th>\n",
       "      <td>2</td>\n",
       "      <td>TextCnn</td>\n",
       "      <td>0.664660</td>\n",
       "    </tr>\n",
       "    <tr>\n",
       "      <th>3</th>\n",
       "      <td>3</td>\n",
       "      <td>TextCnn</td>\n",
       "      <td>0.750772</td>\n",
       "    </tr>\n",
       "    <tr>\n",
       "      <th>4</th>\n",
       "      <td>4</td>\n",
       "      <td>TextCnn</td>\n",
       "      <td>0.706327</td>\n",
       "    </tr>\n",
       "    <tr>\n",
       "      <th>5</th>\n",
       "      <td>5</td>\n",
       "      <td>TextCnn</td>\n",
       "      <td>0.736883</td>\n",
       "    </tr>\n",
       "    <tr>\n",
       "      <th>6</th>\n",
       "      <td>6</td>\n",
       "      <td>TextCnn</td>\n",
       "      <td>0.677160</td>\n",
       "    </tr>\n",
       "    <tr>\n",
       "      <th>7</th>\n",
       "      <td>7</td>\n",
       "      <td>TextCnn</td>\n",
       "      <td>0.707407</td>\n",
       "    </tr>\n",
       "    <tr>\n",
       "      <th>8</th>\n",
       "      <td>8</td>\n",
       "      <td>TextCnn</td>\n",
       "      <td>0.662346</td>\n",
       "    </tr>\n",
       "    <tr>\n",
       "      <th>9</th>\n",
       "      <td>9</td>\n",
       "      <td>TextCnn</td>\n",
       "      <td>0.738117</td>\n",
       "    </tr>\n",
       "    <tr>\n",
       "      <th>10</th>\n",
       "      <td>0</td>\n",
       "      <td>ScaleNum</td>\n",
       "      <td>0.674691</td>\n",
       "    </tr>\n",
       "    <tr>\n",
       "      <th>11</th>\n",
       "      <td>1</td>\n",
       "      <td>ScaleNum</td>\n",
       "      <td>0.725463</td>\n",
       "    </tr>\n",
       "    <tr>\n",
       "      <th>12</th>\n",
       "      <td>2</td>\n",
       "      <td>ScaleNum</td>\n",
       "      <td>0.731944</td>\n",
       "    </tr>\n",
       "    <tr>\n",
       "      <th>13</th>\n",
       "      <td>3</td>\n",
       "      <td>ScaleNum</td>\n",
       "      <td>0.731944</td>\n",
       "    </tr>\n",
       "    <tr>\n",
       "      <th>14</th>\n",
       "      <td>4</td>\n",
       "      <td>ScaleNum</td>\n",
       "      <td>0.754475</td>\n",
       "    </tr>\n",
       "    <tr>\n",
       "      <th>15</th>\n",
       "      <td>5</td>\n",
       "      <td>ScaleNum</td>\n",
       "      <td>0.702160</td>\n",
       "    </tr>\n",
       "    <tr>\n",
       "      <th>16</th>\n",
       "      <td>6</td>\n",
       "      <td>ScaleNum</td>\n",
       "      <td>0.662809</td>\n",
       "    </tr>\n",
       "    <tr>\n",
       "      <th>17</th>\n",
       "      <td>7</td>\n",
       "      <td>ScaleNum</td>\n",
       "      <td>0.713580</td>\n",
       "    </tr>\n",
       "    <tr>\n",
       "      <th>18</th>\n",
       "      <td>8</td>\n",
       "      <td>ScaleNum</td>\n",
       "      <td>0.668364</td>\n",
       "    </tr>\n",
       "    <tr>\n",
       "      <th>19</th>\n",
       "      <td>9</td>\n",
       "      <td>ScaleNum</td>\n",
       "      <td>0.719907</td>\n",
       "    </tr>\n",
       "    <tr>\n",
       "      <th>20</th>\n",
       "      <td>0</td>\n",
       "      <td>AttnToNum</td>\n",
       "      <td>0.688117</td>\n",
       "    </tr>\n",
       "    <tr>\n",
       "      <th>21</th>\n",
       "      <td>1</td>\n",
       "      <td>AttnToNum</td>\n",
       "      <td>0.782407</td>\n",
       "    </tr>\n",
       "    <tr>\n",
       "      <th>22</th>\n",
       "      <td>2</td>\n",
       "      <td>AttnToNum</td>\n",
       "      <td>0.814815</td>\n",
       "    </tr>\n",
       "    <tr>\n",
       "      <th>23</th>\n",
       "      <td>3</td>\n",
       "      <td>AttnToNum</td>\n",
       "      <td>0.773148</td>\n",
       "    </tr>\n",
       "    <tr>\n",
       "      <th>24</th>\n",
       "      <td>4</td>\n",
       "      <td>AttnToNum</td>\n",
       "      <td>0.817130</td>\n",
       "    </tr>\n",
       "    <tr>\n",
       "      <th>25</th>\n",
       "      <td>5</td>\n",
       "      <td>AttnToNum</td>\n",
       "      <td>0.841049</td>\n",
       "    </tr>\n",
       "    <tr>\n",
       "      <th>26</th>\n",
       "      <td>6</td>\n",
       "      <td>AttnToNum</td>\n",
       "      <td>0.827315</td>\n",
       "    </tr>\n",
       "    <tr>\n",
       "      <th>27</th>\n",
       "      <td>7</td>\n",
       "      <td>AttnToNum</td>\n",
       "      <td>0.796142</td>\n",
       "    </tr>\n",
       "    <tr>\n",
       "      <th>28</th>\n",
       "      <td>8</td>\n",
       "      <td>AttnToNum</td>\n",
       "      <td>0.834877</td>\n",
       "    </tr>\n",
       "    <tr>\n",
       "      <th>29</th>\n",
       "      <td>9</td>\n",
       "      <td>AttnToNum</td>\n",
       "      <td>0.680247</td>\n",
       "    </tr>\n",
       "  </tbody>\n",
       "</table>\n",
       "</div>"
      ],
      "text/plain": [
       "    run      model       AUC\n",
       "0     0    TextCnn  0.710031\n",
       "1     1    TextCnn  0.685957\n",
       "2     2    TextCnn  0.664660\n",
       "3     3    TextCnn  0.750772\n",
       "4     4    TextCnn  0.706327\n",
       "5     5    TextCnn  0.736883\n",
       "6     6    TextCnn  0.677160\n",
       "7     7    TextCnn  0.707407\n",
       "8     8    TextCnn  0.662346\n",
       "9     9    TextCnn  0.738117\n",
       "10    0   ScaleNum  0.674691\n",
       "11    1   ScaleNum  0.725463\n",
       "12    2   ScaleNum  0.731944\n",
       "13    3   ScaleNum  0.731944\n",
       "14    4   ScaleNum  0.754475\n",
       "15    5   ScaleNum  0.702160\n",
       "16    6   ScaleNum  0.662809\n",
       "17    7   ScaleNum  0.713580\n",
       "18    8   ScaleNum  0.668364\n",
       "19    9   ScaleNum  0.719907\n",
       "20    0  AttnToNum  0.688117\n",
       "21    1  AttnToNum  0.782407\n",
       "22    2  AttnToNum  0.814815\n",
       "23    3  AttnToNum  0.773148\n",
       "24    4  AttnToNum  0.817130\n",
       "25    5  AttnToNum  0.841049\n",
       "26    6  AttnToNum  0.827315\n",
       "27    7  AttnToNum  0.796142\n",
       "28    8  AttnToNum  0.834877\n",
       "29    9  AttnToNum  0.680247"
      ]
     },
     "execution_count": 90,
     "metadata": {},
     "output_type": "execute_result"
    }
   ],
   "source": [
    "(\n",
    "    aucs_df\n",
    "    .assign(run=range(aucs_df.shape[0]))\n",
    "    .melt(\n",
    "        id_vars='run',\n",
    "        value_vars=['TextCnn', 'ScaleNum', 'AttnToNum'],\n",
    "        value_name='AUC',\n",
    "        var_name='model'\n",
    "    )\n",
    ")"
   ]
  },
  {
   "cell_type": "code",
   "execution_count": 92,
   "id": "f52b4320-fb2f-4dd0-9ad5-411ce214dca0",
   "metadata": {
    "tags": []
   },
   "outputs": [
    {
     "data": {
      "image/png": "[encoded data removed]",
      "text/plain": [
       "<seaborn._core.plot.Plot at 0x7fb8077c5480>"
      ]
     },
     "execution_count": 92,
     "metadata": {
      "image/png": {
       "height": 378.25,
       "width": 632.8249999999999
      }
     },
     "output_type": "execute_result"
    }
   ],
   "source": [
    "so.Plot(\n",
    "    data=(\n",
    "        aucs_df\n",
    "        .assign(run=range(aucs_df.shape[0]))\n",
    "        .melt(\n",
    "            id_vars='run',\n",
    "            value_vars=['TextCnn', 'ScaleNum', 'AttnToNum'],\n",
    "            value_name='AUC',\n",
    "            var_name='model'\n",
    "        )\n",
    "    ),\n",
    "    x='run', y='AUC', color='model'\n",
    ").add(so.Bar(), so.Dodge())"
   ]
  },
  {
   "cell_type": "markdown",
   "id": "e82dff20-29ac-40db-8e77-a1c8da4839d3",
   "metadata": {},
   "source": [
    "# P-Values"
   ]
  },
  {
   "cell_type": "code",
   "execution_count": 62,
   "id": "89e2e2cc-b44f-4019-a1ad-4f5fad603065",
   "metadata": {
    "tags": []
   },
   "outputs": [
    {
     "data": {
      "text/plain": [
       "array([-1, -1, -1,  1, -1, -1,  1,  1, -1,  1])"
      ]
     },
     "execution_count": 62,
     "metadata": {},
     "output_type": "execute_result"
    }
   ],
   "source": [
    "np.random.choice([1, -1], 10)"
   ]
  },
  {
   "cell_type": "code",
   "execution_count": 73,
   "id": "ef18e2f0-9f8a-4922-a81a-36920700725d",
   "metadata": {
    "tags": []
   },
   "outputs": [],
   "source": [
    "def get_p_value(model1:str, model2:str, n_sims=1000):\n",
    "    diff = aucs_df[model1]-aucs_df[model2]\n",
    "    true_gap = diff.sum()\n",
    "    \n",
    "    sim_gaps = [ (diff @ np.random.choice([1, -1], 10)).sum() for _ in range(n_sims)]\n",
    "    return ((np.abs(sim_gaps) > true_gap).sum() + 1)/n_sims"
   ]
  },
  {
   "cell_type": "code",
   "execution_count": 74,
   "id": "d97947d3-e109-4d7a-8dbc-62edf9e404bd",
   "metadata": {
    "tags": []
   },
   "outputs": [
    {
     "data": {
      "text/plain": [
       "0.013"
      ]
     },
     "execution_count": 74,
     "metadata": {},
     "output_type": "execute_result"
    }
   ],
   "source": [
    "get_p_value('AttnToNum', 'TextCnn')"
   ]
  },
  {
   "cell_type": "code",
   "execution_count": 75,
   "id": "7023c724-3b12-4b82-9aa3-42bf44c36f11",
   "metadata": {
    "tags": []
   },
   "outputs": [
    {
     "data": {
      "text/plain": [
       "0.008"
      ]
     },
     "execution_count": 75,
     "metadata": {},
     "output_type": "execute_result"
    }
   ],
   "source": [
    "get_p_value('AttnToNum', 'ScaleNum')"
   ]
  },
  {
   "cell_type": "code",
   "execution_count": 76,
   "id": "aa4bf204-3fc6-4c5c-bc0b-3552bafe5fbc",
   "metadata": {
    "tags": []
   },
   "outputs": [
    {
     "data": {
      "text/plain": [
       "0.698"
      ]
     },
     "execution_count": 76,
     "metadata": {},
     "output_type": "execute_result"
    }
   ],
   "source": [
    "get_p_value('ScaleNum', 'TextCnn')"
   ]
  },
  {
   "cell_type": "code",
   "execution_count": null,
   "id": "781ab8c7-d50f-4c28-9e44-dfa27d32e152",
   "metadata": {},
   "outputs": [],
   "source": []
  }
 ],
 "metadata": {
  "kernelspec": {
   "display_name": "Python 3 (ipykernel)",
   "language": "python",
   "name": "python3"
  },
  "language_info": {
   "codemirror_mode": {
    "name": "ipython",
    "version": 3
   },
   "file_extension": ".py",
   "mimetype": "text/x-python",
   "name": "python",
   "nbconvert_exporter": "python",
   "pygments_lexer": "ipython3",
   "version": "3.10.9"
  }
 },
 "nbformat": 4,
 "nbformat_minor": 5
}
